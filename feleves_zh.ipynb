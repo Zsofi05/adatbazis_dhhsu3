{
    "metadata": {
        "kernelspec": {
            "name": "SQL",
            "display_name": "SQL",
            "language": "sql"
        },
        "language_info": {
            "name": "sql",
            "version": ""
        }
    },
    "nbformat_minor": 2,
    "nbformat": 4,
    "cells": [
        {
            "cell_type": "markdown",
            "source": [
                "1\\. feladat: <span style=\"background-color: rgb(255, 255, 255); color: rgb(0, 0, 0); font-family: &quot;Open Sans&quot;, sans-serif; font-size: 14.44px;\">Jelenítsük meg minden egyes szoba esetén, hogy hányszor foglalták le!</span>\n",
                "\n",
                "- Csak a szoba azonosítója és a foglalások darabszáma jelenjen meg\n",
                "- Azok a szobák is jelenjenek meg, ahol nem történt foglalás"
            ],
            "metadata": {
                "azdata_cell_guid": "0555cf7d-7b33-4bf1-a5c4-998468a86181"
            },
            "attachments": {}
        },
        {
            "cell_type": "code",
            "source": [
                "SELECT sz.szoba_id, COUNT(f.foglalas_pk) AS \"Fogalalások száma\"\r\n",
                "FROM szoba sz\r\n",
                "    LEFT JOIN foglalas f ON sz.szoba_id = f.szoba_fk\r\n",
                "GROUP BY sz.szoba_id;\r\n",
                ""
            ],
            "metadata": {
                "azdata_cell_guid": "fdc826d2-405d-4b55-8af3-67bf4f927d70",
                "language": "sql",
                "tags": []
            },
            "outputs": [
                {
                    "output_type": "display_data",
                    "data": {
                        "text/html": "(294 rows affected)"
                    },
                    "metadata": {}
                },
                {
                    "output_type": "display_data",
                    "data": {
                        "text/html": "Total execution time: 00:00:00.032"
                    },
                    "metadata": {}
                },
                {
                    "output_type": "execute_result",
                    "metadata": {},
                    "execution_count": 11,
                    "data": {
                        "application/vnd.dataresource+json": {
                            "schema": {
                                "fields": [
                                    {
                                        "name": "szoba_id"
                                    },
                                    {
                                        "name": "Fogalalások száma"
                                    }
                                ]
                            },
                            "data": [
                                {
                                    "szoba_id": "1",
                                    "Fogalalások száma": "8"
                                },
                                {
                                    "szoba_id": "2",
                                    "Fogalalások száma": "4"
                                },
                                {
                                    "szoba_id": "3",
                                    "Fogalalások száma": "8"
                                },
                                {
                                    "szoba_id": "4",
                                    "Fogalalások száma": "6"
                                },
                                {
                                    "szoba_id": "5",
                                    "Fogalalások száma": "4"
                                },
                                {
                                    "szoba_id": "6",
                                    "Fogalalások száma": "6"
                                },
                                {
                                    "szoba_id": "7",
                                    "Fogalalások száma": "6"
                                },
                                {
                                    "szoba_id": "8",
                                    "Fogalalások száma": "5"
                                },
                                {
                                    "szoba_id": "9",
                                    "Fogalalások száma": "6"
                                },
                                {
                                    "szoba_id": "10",
                                    "Fogalalások száma": "4"
                                },
                                {
                                    "szoba_id": "11",
                                    "Fogalalások száma": "4"
                                },
                                {
                                    "szoba_id": "12",
                                    "Fogalalások száma": "9"
                                },
                                {
                                    "szoba_id": "13",
                                    "Fogalalások száma": "4"
                                },
                                {
                                    "szoba_id": "14",
                                    "Fogalalások száma": "3"
                                },
                                {
                                    "szoba_id": "15",
                                    "Fogalalások száma": "6"
                                },
                                {
                                    "szoba_id": "16",
                                    "Fogalalások száma": "5"
                                },
                                {
                                    "szoba_id": "17",
                                    "Fogalalások száma": "6"
                                },
                                {
                                    "szoba_id": "18",
                                    "Fogalalások száma": "6"
                                },
                                {
                                    "szoba_id": "19",
                                    "Fogalalások száma": "6"
                                },
                                {
                                    "szoba_id": "20",
                                    "Fogalalások száma": "5"
                                },
                                {
                                    "szoba_id": "21",
                                    "Fogalalások száma": "4"
                                },
                                {
                                    "szoba_id": "22",
                                    "Fogalalások száma": "6"
                                },
                                {
                                    "szoba_id": "23",
                                    "Fogalalások száma": "3"
                                },
                                {
                                    "szoba_id": "24",
                                    "Fogalalások száma": "3"
                                },
                                {
                                    "szoba_id": "25",
                                    "Fogalalások száma": "2"
                                },
                                {
                                    "szoba_id": "26",
                                    "Fogalalások száma": "2"
                                },
                                {
                                    "szoba_id": "27",
                                    "Fogalalások száma": "7"
                                },
                                {
                                    "szoba_id": "28",
                                    "Fogalalások száma": "6"
                                },
                                {
                                    "szoba_id": "29",
                                    "Fogalalások száma": "6"
                                },
                                {
                                    "szoba_id": "30",
                                    "Fogalalások száma": "3"
                                },
                                {
                                    "szoba_id": "31",
                                    "Fogalalások száma": "3"
                                },
                                {
                                    "szoba_id": "32",
                                    "Fogalalások száma": "1"
                                },
                                {
                                    "szoba_id": "33",
                                    "Fogalalások száma": "6"
                                },
                                {
                                    "szoba_id": "34",
                                    "Fogalalások száma": "4"
                                },
                                {
                                    "szoba_id": "35",
                                    "Fogalalások száma": "9"
                                },
                                {
                                    "szoba_id": "36",
                                    "Fogalalások száma": "6"
                                },
                                {
                                    "szoba_id": "37",
                                    "Fogalalások száma": "3"
                                },
                                {
                                    "szoba_id": "38",
                                    "Fogalalások száma": "8"
                                },
                                {
                                    "szoba_id": "39",
                                    "Fogalalások száma": "7"
                                },
                                {
                                    "szoba_id": "40",
                                    "Fogalalások száma": "4"
                                },
                                {
                                    "szoba_id": "41",
                                    "Fogalalások száma": "2"
                                },
                                {
                                    "szoba_id": "42",
                                    "Fogalalások száma": "6"
                                },
                                {
                                    "szoba_id": "43",
                                    "Fogalalások száma": "8"
                                },
                                {
                                    "szoba_id": "44",
                                    "Fogalalások száma": "6"
                                },
                                {
                                    "szoba_id": "45",
                                    "Fogalalások száma": "5"
                                },
                                {
                                    "szoba_id": "46",
                                    "Fogalalások száma": "4"
                                },
                                {
                                    "szoba_id": "47",
                                    "Fogalalások száma": "2"
                                },
                                {
                                    "szoba_id": "48",
                                    "Fogalalások száma": "9"
                                },
                                {
                                    "szoba_id": "49",
                                    "Fogalalások száma": "7"
                                },
                                {
                                    "szoba_id": "50",
                                    "Fogalalások száma": "4"
                                },
                                {
                                    "szoba_id": "51",
                                    "Fogalalások száma": "5"
                                },
                                {
                                    "szoba_id": "52",
                                    "Fogalalások száma": "5"
                                },
                                {
                                    "szoba_id": "53",
                                    "Fogalalások száma": "2"
                                },
                                {
                                    "szoba_id": "54",
                                    "Fogalalások száma": "6"
                                },
                                {
                                    "szoba_id": "55",
                                    "Fogalalások száma": "8"
                                },
                                {
                                    "szoba_id": "56",
                                    "Fogalalások száma": "2"
                                },
                                {
                                    "szoba_id": "57",
                                    "Fogalalások száma": "4"
                                },
                                {
                                    "szoba_id": "58",
                                    "Fogalalások száma": "13"
                                },
                                {
                                    "szoba_id": "59",
                                    "Fogalalások száma": "7"
                                },
                                {
                                    "szoba_id": "60",
                                    "Fogalalások száma": "1"
                                },
                                {
                                    "szoba_id": "61",
                                    "Fogalalások száma": "5"
                                },
                                {
                                    "szoba_id": "62",
                                    "Fogalalások száma": "5"
                                },
                                {
                                    "szoba_id": "63",
                                    "Fogalalások száma": "4"
                                },
                                {
                                    "szoba_id": "64",
                                    "Fogalalások száma": "6"
                                },
                                {
                                    "szoba_id": "65",
                                    "Fogalalások száma": "1"
                                },
                                {
                                    "szoba_id": "66",
                                    "Fogalalások száma": "4"
                                },
                                {
                                    "szoba_id": "67",
                                    "Fogalalások száma": "6"
                                },
                                {
                                    "szoba_id": "68",
                                    "Fogalalások száma": "3"
                                },
                                {
                                    "szoba_id": "69",
                                    "Fogalalások száma": "4"
                                },
                                {
                                    "szoba_id": "70",
                                    "Fogalalások száma": "11"
                                },
                                {
                                    "szoba_id": "71",
                                    "Fogalalások száma": "3"
                                },
                                {
                                    "szoba_id": "72",
                                    "Fogalalások száma": "4"
                                },
                                {
                                    "szoba_id": "73",
                                    "Fogalalások száma": "4"
                                },
                                {
                                    "szoba_id": "74",
                                    "Fogalalások száma": "9"
                                },
                                {
                                    "szoba_id": "75",
                                    "Fogalalások száma": "3"
                                },
                                {
                                    "szoba_id": "76",
                                    "Fogalalások száma": "3"
                                },
                                {
                                    "szoba_id": "77",
                                    "Fogalalások száma": "6"
                                },
                                {
                                    "szoba_id": "78",
                                    "Fogalalások száma": "6"
                                },
                                {
                                    "szoba_id": "79",
                                    "Fogalalások száma": "5"
                                },
                                {
                                    "szoba_id": "80",
                                    "Fogalalások száma": "7"
                                },
                                {
                                    "szoba_id": "81",
                                    "Fogalalások száma": "5"
                                },
                                {
                                    "szoba_id": "82",
                                    "Fogalalások száma": "6"
                                },
                                {
                                    "szoba_id": "83",
                                    "Fogalalások száma": "8"
                                },
                                {
                                    "szoba_id": "84",
                                    "Fogalalások száma": "4"
                                },
                                {
                                    "szoba_id": "85",
                                    "Fogalalások száma": "4"
                                },
                                {
                                    "szoba_id": "86",
                                    "Fogalalások száma": "5"
                                },
                                {
                                    "szoba_id": "87",
                                    "Fogalalások száma": "5"
                                },
                                {
                                    "szoba_id": "88",
                                    "Fogalalások száma": "8"
                                },
                                {
                                    "szoba_id": "89",
                                    "Fogalalások száma": "8"
                                },
                                {
                                    "szoba_id": "90",
                                    "Fogalalások száma": "4"
                                },
                                {
                                    "szoba_id": "91",
                                    "Fogalalások száma": "4"
                                },
                                {
                                    "szoba_id": "92",
                                    "Fogalalások száma": "6"
                                },
                                {
                                    "szoba_id": "93",
                                    "Fogalalások száma": "5"
                                },
                                {
                                    "szoba_id": "94",
                                    "Fogalalások száma": "10"
                                },
                                {
                                    "szoba_id": "95",
                                    "Fogalalások száma": "4"
                                },
                                {
                                    "szoba_id": "96",
                                    "Fogalalások száma": "7"
                                },
                                {
                                    "szoba_id": "97",
                                    "Fogalalások száma": "7"
                                },
                                {
                                    "szoba_id": "98",
                                    "Fogalalások száma": "4"
                                },
                                {
                                    "szoba_id": "99",
                                    "Fogalalások száma": "5"
                                },
                                {
                                    "szoba_id": "100",
                                    "Fogalalások száma": "4"
                                },
                                {
                                    "szoba_id": "101",
                                    "Fogalalások száma": "3"
                                },
                                {
                                    "szoba_id": "102",
                                    "Fogalalások száma": "2"
                                },
                                {
                                    "szoba_id": "103",
                                    "Fogalalások száma": "4"
                                },
                                {
                                    "szoba_id": "104",
                                    "Fogalalások száma": "4"
                                },
                                {
                                    "szoba_id": "105",
                                    "Fogalalások száma": "2"
                                },
                                {
                                    "szoba_id": "106",
                                    "Fogalalások száma": "6"
                                },
                                {
                                    "szoba_id": "107",
                                    "Fogalalások száma": "5"
                                },
                                {
                                    "szoba_id": "108",
                                    "Fogalalások száma": "2"
                                },
                                {
                                    "szoba_id": "109",
                                    "Fogalalások száma": "7"
                                },
                                {
                                    "szoba_id": "110",
                                    "Fogalalások száma": "8"
                                },
                                {
                                    "szoba_id": "111",
                                    "Fogalalások száma": "5"
                                },
                                {
                                    "szoba_id": "112",
                                    "Fogalalások száma": "5"
                                },
                                {
                                    "szoba_id": "113",
                                    "Fogalalások száma": "5"
                                },
                                {
                                    "szoba_id": "114",
                                    "Fogalalások száma": "4"
                                },
                                {
                                    "szoba_id": "115",
                                    "Fogalalások száma": "7"
                                },
                                {
                                    "szoba_id": "116",
                                    "Fogalalások száma": "2"
                                },
                                {
                                    "szoba_id": "117",
                                    "Fogalalások száma": "8"
                                },
                                {
                                    "szoba_id": "118",
                                    "Fogalalások száma": "7"
                                },
                                {
                                    "szoba_id": "119",
                                    "Fogalalások száma": "5"
                                },
                                {
                                    "szoba_id": "120",
                                    "Fogalalások száma": "6"
                                },
                                {
                                    "szoba_id": "121",
                                    "Fogalalások száma": "8"
                                },
                                {
                                    "szoba_id": "122",
                                    "Fogalalások száma": "9"
                                },
                                {
                                    "szoba_id": "123",
                                    "Fogalalások száma": "5"
                                },
                                {
                                    "szoba_id": "124",
                                    "Fogalalások száma": "6"
                                },
                                {
                                    "szoba_id": "125",
                                    "Fogalalások száma": "1"
                                },
                                {
                                    "szoba_id": "126",
                                    "Fogalalások száma": "6"
                                },
                                {
                                    "szoba_id": "127",
                                    "Fogalalások száma": "7"
                                },
                                {
                                    "szoba_id": "128",
                                    "Fogalalások száma": "5"
                                },
                                {
                                    "szoba_id": "129",
                                    "Fogalalások száma": "4"
                                },
                                {
                                    "szoba_id": "130",
                                    "Fogalalások száma": "6"
                                },
                                {
                                    "szoba_id": "131",
                                    "Fogalalások száma": "5"
                                },
                                {
                                    "szoba_id": "132",
                                    "Fogalalások száma": "6"
                                },
                                {
                                    "szoba_id": "133",
                                    "Fogalalások száma": "6"
                                },
                                {
                                    "szoba_id": "134",
                                    "Fogalalások száma": "6"
                                },
                                {
                                    "szoba_id": "135",
                                    "Fogalalások száma": "3"
                                },
                                {
                                    "szoba_id": "136",
                                    "Fogalalások száma": "3"
                                },
                                {
                                    "szoba_id": "137",
                                    "Fogalalások száma": "6"
                                },
                                {
                                    "szoba_id": "138",
                                    "Fogalalások száma": "7"
                                },
                                {
                                    "szoba_id": "139",
                                    "Fogalalások száma": "7"
                                },
                                {
                                    "szoba_id": "140",
                                    "Fogalalások száma": "8"
                                },
                                {
                                    "szoba_id": "141",
                                    "Fogalalások száma": "6"
                                },
                                {
                                    "szoba_id": "142",
                                    "Fogalalások száma": "2"
                                },
                                {
                                    "szoba_id": "143",
                                    "Fogalalások száma": "7"
                                },
                                {
                                    "szoba_id": "144",
                                    "Fogalalások száma": "5"
                                },
                                {
                                    "szoba_id": "145",
                                    "Fogalalások száma": "6"
                                },
                                {
                                    "szoba_id": "146",
                                    "Fogalalások száma": "6"
                                },
                                {
                                    "szoba_id": "147",
                                    "Fogalalások száma": "1"
                                },
                                {
                                    "szoba_id": "148",
                                    "Fogalalások száma": "6"
                                },
                                {
                                    "szoba_id": "149",
                                    "Fogalalások száma": "7"
                                },
                                {
                                    "szoba_id": "150",
                                    "Fogalalások száma": "6"
                                },
                                {
                                    "szoba_id": "151",
                                    "Fogalalások száma": "3"
                                },
                                {
                                    "szoba_id": "152",
                                    "Fogalalások száma": "4"
                                },
                                {
                                    "szoba_id": "153",
                                    "Fogalalások száma": "5"
                                },
                                {
                                    "szoba_id": "154",
                                    "Fogalalások száma": "5"
                                },
                                {
                                    "szoba_id": "155",
                                    "Fogalalások száma": "5"
                                },
                                {
                                    "szoba_id": "156",
                                    "Fogalalások száma": "7"
                                },
                                {
                                    "szoba_id": "157",
                                    "Fogalalások száma": "5"
                                },
                                {
                                    "szoba_id": "158",
                                    "Fogalalások száma": "3"
                                },
                                {
                                    "szoba_id": "159",
                                    "Fogalalások száma": "0"
                                },
                                {
                                    "szoba_id": "160",
                                    "Fogalalások száma": "5"
                                },
                                {
                                    "szoba_id": "161",
                                    "Fogalalások száma": "6"
                                },
                                {
                                    "szoba_id": "162",
                                    "Fogalalások száma": "3"
                                },
                                {
                                    "szoba_id": "163",
                                    "Fogalalások száma": "7"
                                },
                                {
                                    "szoba_id": "164",
                                    "Fogalalások száma": "5"
                                },
                                {
                                    "szoba_id": "165",
                                    "Fogalalások száma": "7"
                                },
                                {
                                    "szoba_id": "166",
                                    "Fogalalások száma": "3"
                                },
                                {
                                    "szoba_id": "167",
                                    "Fogalalások száma": "2"
                                },
                                {
                                    "szoba_id": "168",
                                    "Fogalalások száma": "5"
                                },
                                {
                                    "szoba_id": "169",
                                    "Fogalalások száma": "6"
                                },
                                {
                                    "szoba_id": "170",
                                    "Fogalalások száma": "5"
                                },
                                {
                                    "szoba_id": "171",
                                    "Fogalalások száma": "5"
                                },
                                {
                                    "szoba_id": "172",
                                    "Fogalalások száma": "9"
                                },
                                {
                                    "szoba_id": "173",
                                    "Fogalalások száma": "4"
                                },
                                {
                                    "szoba_id": "174",
                                    "Fogalalások száma": "4"
                                },
                                {
                                    "szoba_id": "175",
                                    "Fogalalások száma": "5"
                                },
                                {
                                    "szoba_id": "176",
                                    "Fogalalások száma": "6"
                                },
                                {
                                    "szoba_id": "177",
                                    "Fogalalások száma": "4"
                                },
                                {
                                    "szoba_id": "178",
                                    "Fogalalások száma": "4"
                                },
                                {
                                    "szoba_id": "179",
                                    "Fogalalások száma": "3"
                                },
                                {
                                    "szoba_id": "180",
                                    "Fogalalások száma": "3"
                                },
                                {
                                    "szoba_id": "181",
                                    "Fogalalások száma": "6"
                                },
                                {
                                    "szoba_id": "182",
                                    "Fogalalások száma": "12"
                                },
                                {
                                    "szoba_id": "183",
                                    "Fogalalások száma": "4"
                                },
                                {
                                    "szoba_id": "184",
                                    "Fogalalások száma": "4"
                                },
                                {
                                    "szoba_id": "185",
                                    "Fogalalások száma": "12"
                                },
                                {
                                    "szoba_id": "186",
                                    "Fogalalások száma": "4"
                                },
                                {
                                    "szoba_id": "187",
                                    "Fogalalások száma": "7"
                                },
                                {
                                    "szoba_id": "188",
                                    "Fogalalások száma": "6"
                                },
                                {
                                    "szoba_id": "189",
                                    "Fogalalások száma": "5"
                                },
                                {
                                    "szoba_id": "190",
                                    "Fogalalások száma": "5"
                                },
                                {
                                    "szoba_id": "191",
                                    "Fogalalások száma": "5"
                                },
                                {
                                    "szoba_id": "192",
                                    "Fogalalások száma": "2"
                                },
                                {
                                    "szoba_id": "193",
                                    "Fogalalások száma": "7"
                                },
                                {
                                    "szoba_id": "194",
                                    "Fogalalások száma": "1"
                                },
                                {
                                    "szoba_id": "195",
                                    "Fogalalások száma": "6"
                                },
                                {
                                    "szoba_id": "196",
                                    "Fogalalások száma": "4"
                                },
                                {
                                    "szoba_id": "197",
                                    "Fogalalások száma": "6"
                                },
                                {
                                    "szoba_id": "198",
                                    "Fogalalások száma": "8"
                                },
                                {
                                    "szoba_id": "199",
                                    "Fogalalások száma": "0"
                                },
                                {
                                    "szoba_id": "200",
                                    "Fogalalások száma": "0"
                                },
                                {
                                    "szoba_id": "201",
                                    "Fogalalások száma": "0"
                                },
                                {
                                    "szoba_id": "202",
                                    "Fogalalások száma": "0"
                                },
                                {
                                    "szoba_id": "203",
                                    "Fogalalások száma": "0"
                                },
                                {
                                    "szoba_id": "204",
                                    "Fogalalások száma": "0"
                                },
                                {
                                    "szoba_id": "205",
                                    "Fogalalások száma": "0"
                                },
                                {
                                    "szoba_id": "206",
                                    "Fogalalások száma": "0"
                                },
                                {
                                    "szoba_id": "207",
                                    "Fogalalások száma": "0"
                                },
                                {
                                    "szoba_id": "208",
                                    "Fogalalások száma": "0"
                                },
                                {
                                    "szoba_id": "209",
                                    "Fogalalások száma": "0"
                                },
                                {
                                    "szoba_id": "210",
                                    "Fogalalások száma": "0"
                                },
                                {
                                    "szoba_id": "211",
                                    "Fogalalások száma": "0"
                                },
                                {
                                    "szoba_id": "212",
                                    "Fogalalások száma": "0"
                                },
                                {
                                    "szoba_id": "213",
                                    "Fogalalások száma": "0"
                                },
                                {
                                    "szoba_id": "214",
                                    "Fogalalások száma": "0"
                                },
                                {
                                    "szoba_id": "215",
                                    "Fogalalások száma": "0"
                                },
                                {
                                    "szoba_id": "216",
                                    "Fogalalások száma": "0"
                                },
                                {
                                    "szoba_id": "217",
                                    "Fogalalások száma": "0"
                                },
                                {
                                    "szoba_id": "218",
                                    "Fogalalások száma": "0"
                                },
                                {
                                    "szoba_id": "219",
                                    "Fogalalások száma": "0"
                                },
                                {
                                    "szoba_id": "220",
                                    "Fogalalások száma": "0"
                                },
                                {
                                    "szoba_id": "221",
                                    "Fogalalások száma": "0"
                                },
                                {
                                    "szoba_id": "222",
                                    "Fogalalások száma": "0"
                                },
                                {
                                    "szoba_id": "223",
                                    "Fogalalások száma": "0"
                                },
                                {
                                    "szoba_id": "224",
                                    "Fogalalások száma": "0"
                                },
                                {
                                    "szoba_id": "225",
                                    "Fogalalások száma": "0"
                                },
                                {
                                    "szoba_id": "226",
                                    "Fogalalások száma": "0"
                                },
                                {
                                    "szoba_id": "227",
                                    "Fogalalások száma": "0"
                                },
                                {
                                    "szoba_id": "228",
                                    "Fogalalások száma": "0"
                                },
                                {
                                    "szoba_id": "229",
                                    "Fogalalások száma": "0"
                                },
                                {
                                    "szoba_id": "230",
                                    "Fogalalások száma": "0"
                                },
                                {
                                    "szoba_id": "231",
                                    "Fogalalások száma": "0"
                                },
                                {
                                    "szoba_id": "232",
                                    "Fogalalások száma": "0"
                                },
                                {
                                    "szoba_id": "233",
                                    "Fogalalások száma": "0"
                                },
                                {
                                    "szoba_id": "234",
                                    "Fogalalások száma": "0"
                                },
                                {
                                    "szoba_id": "235",
                                    "Fogalalások száma": "0"
                                },
                                {
                                    "szoba_id": "236",
                                    "Fogalalások száma": "0"
                                },
                                {
                                    "szoba_id": "237",
                                    "Fogalalások száma": "0"
                                },
                                {
                                    "szoba_id": "238",
                                    "Fogalalások száma": "0"
                                },
                                {
                                    "szoba_id": "239",
                                    "Fogalalások száma": "0"
                                },
                                {
                                    "szoba_id": "240",
                                    "Fogalalások száma": "0"
                                },
                                {
                                    "szoba_id": "241",
                                    "Fogalalások száma": "0"
                                },
                                {
                                    "szoba_id": "242",
                                    "Fogalalások száma": "0"
                                },
                                {
                                    "szoba_id": "243",
                                    "Fogalalások száma": "0"
                                },
                                {
                                    "szoba_id": "244",
                                    "Fogalalások száma": "0"
                                },
                                {
                                    "szoba_id": "245",
                                    "Fogalalások száma": "0"
                                },
                                {
                                    "szoba_id": "246",
                                    "Fogalalások száma": "0"
                                },
                                {
                                    "szoba_id": "247",
                                    "Fogalalások száma": "0"
                                },
                                {
                                    "szoba_id": "248",
                                    "Fogalalások száma": "0"
                                },
                                {
                                    "szoba_id": "249",
                                    "Fogalalások száma": "0"
                                },
                                {
                                    "szoba_id": "250",
                                    "Fogalalások száma": "0"
                                },
                                {
                                    "szoba_id": "251",
                                    "Fogalalások száma": "0"
                                },
                                {
                                    "szoba_id": "252",
                                    "Fogalalások száma": "0"
                                },
                                {
                                    "szoba_id": "253",
                                    "Fogalalások száma": "0"
                                },
                                {
                                    "szoba_id": "254",
                                    "Fogalalások száma": "0"
                                },
                                {
                                    "szoba_id": "255",
                                    "Fogalalások száma": "0"
                                },
                                {
                                    "szoba_id": "256",
                                    "Fogalalások száma": "0"
                                },
                                {
                                    "szoba_id": "257",
                                    "Fogalalások száma": "0"
                                },
                                {
                                    "szoba_id": "258",
                                    "Fogalalások száma": "0"
                                },
                                {
                                    "szoba_id": "259",
                                    "Fogalalások száma": "0"
                                },
                                {
                                    "szoba_id": "260",
                                    "Fogalalások száma": "0"
                                },
                                {
                                    "szoba_id": "261",
                                    "Fogalalások száma": "0"
                                },
                                {
                                    "szoba_id": "262",
                                    "Fogalalások száma": "0"
                                },
                                {
                                    "szoba_id": "263",
                                    "Fogalalások száma": "0"
                                },
                                {
                                    "szoba_id": "264",
                                    "Fogalalások száma": "0"
                                },
                                {
                                    "szoba_id": "265",
                                    "Fogalalások száma": "0"
                                },
                                {
                                    "szoba_id": "266",
                                    "Fogalalások száma": "0"
                                },
                                {
                                    "szoba_id": "267",
                                    "Fogalalások száma": "0"
                                },
                                {
                                    "szoba_id": "268",
                                    "Fogalalások száma": "0"
                                },
                                {
                                    "szoba_id": "269",
                                    "Fogalalások száma": "0"
                                },
                                {
                                    "szoba_id": "270",
                                    "Fogalalások száma": "0"
                                },
                                {
                                    "szoba_id": "271",
                                    "Fogalalások száma": "0"
                                },
                                {
                                    "szoba_id": "272",
                                    "Fogalalások száma": "0"
                                },
                                {
                                    "szoba_id": "273",
                                    "Fogalalások száma": "0"
                                },
                                {
                                    "szoba_id": "274",
                                    "Fogalalások száma": "0"
                                },
                                {
                                    "szoba_id": "275",
                                    "Fogalalások száma": "0"
                                },
                                {
                                    "szoba_id": "276",
                                    "Fogalalások száma": "0"
                                },
                                {
                                    "szoba_id": "277",
                                    "Fogalalások száma": "0"
                                },
                                {
                                    "szoba_id": "278",
                                    "Fogalalások száma": "0"
                                },
                                {
                                    "szoba_id": "279",
                                    "Fogalalások száma": "0"
                                },
                                {
                                    "szoba_id": "280",
                                    "Fogalalások száma": "0"
                                },
                                {
                                    "szoba_id": "281",
                                    "Fogalalások száma": "0"
                                },
                                {
                                    "szoba_id": "282",
                                    "Fogalalások száma": "0"
                                },
                                {
                                    "szoba_id": "283",
                                    "Fogalalások száma": "0"
                                },
                                {
                                    "szoba_id": "284",
                                    "Fogalalások száma": "0"
                                },
                                {
                                    "szoba_id": "285",
                                    "Fogalalások száma": "0"
                                },
                                {
                                    "szoba_id": "286",
                                    "Fogalalások száma": "0"
                                },
                                {
                                    "szoba_id": "287",
                                    "Fogalalások száma": "0"
                                },
                                {
                                    "szoba_id": "288",
                                    "Fogalalások száma": "0"
                                },
                                {
                                    "szoba_id": "289",
                                    "Fogalalások száma": "0"
                                },
                                {
                                    "szoba_id": "290",
                                    "Fogalalások száma": "0"
                                },
                                {
                                    "szoba_id": "291",
                                    "Fogalalások száma": "0"
                                },
                                {
                                    "szoba_id": "292",
                                    "Fogalalások száma": "0"
                                },
                                {
                                    "szoba_id": "293",
                                    "Fogalalások száma": "0"
                                },
                                {
                                    "szoba_id": "294",
                                    "Fogalalások száma": "0"
                                }
                            ]
                        },
                        "text/html": [
                            "<table>",
                            "<tr><th>szoba_id</th><th>Fogalalások száma</th></tr>",
                            "<tr><td>1</td><td>8</td></tr>",
                            "<tr><td>2</td><td>4</td></tr>",
                            "<tr><td>3</td><td>8</td></tr>",
                            "<tr><td>4</td><td>6</td></tr>",
                            "<tr><td>5</td><td>4</td></tr>",
                            "<tr><td>6</td><td>6</td></tr>",
                            "<tr><td>7</td><td>6</td></tr>",
                            "<tr><td>8</td><td>5</td></tr>",
                            "<tr><td>9</td><td>6</td></tr>",
                            "<tr><td>10</td><td>4</td></tr>",
                            "<tr><td>11</td><td>4</td></tr>",
                            "<tr><td>12</td><td>9</td></tr>",
                            "<tr><td>13</td><td>4</td></tr>",
                            "<tr><td>14</td><td>3</td></tr>",
                            "<tr><td>15</td><td>6</td></tr>",
                            "<tr><td>16</td><td>5</td></tr>",
                            "<tr><td>17</td><td>6</td></tr>",
                            "<tr><td>18</td><td>6</td></tr>",
                            "<tr><td>19</td><td>6</td></tr>",
                            "<tr><td>20</td><td>5</td></tr>",
                            "<tr><td>21</td><td>4</td></tr>",
                            "<tr><td>22</td><td>6</td></tr>",
                            "<tr><td>23</td><td>3</td></tr>",
                            "<tr><td>24</td><td>3</td></tr>",
                            "<tr><td>25</td><td>2</td></tr>",
                            "<tr><td>26</td><td>2</td></tr>",
                            "<tr><td>27</td><td>7</td></tr>",
                            "<tr><td>28</td><td>6</td></tr>",
                            "<tr><td>29</td><td>6</td></tr>",
                            "<tr><td>30</td><td>3</td></tr>",
                            "<tr><td>31</td><td>3</td></tr>",
                            "<tr><td>32</td><td>1</td></tr>",
                            "<tr><td>33</td><td>6</td></tr>",
                            "<tr><td>34</td><td>4</td></tr>",
                            "<tr><td>35</td><td>9</td></tr>",
                            "<tr><td>36</td><td>6</td></tr>",
                            "<tr><td>37</td><td>3</td></tr>",
                            "<tr><td>38</td><td>8</td></tr>",
                            "<tr><td>39</td><td>7</td></tr>",
                            "<tr><td>40</td><td>4</td></tr>",
                            "<tr><td>41</td><td>2</td></tr>",
                            "<tr><td>42</td><td>6</td></tr>",
                            "<tr><td>43</td><td>8</td></tr>",
                            "<tr><td>44</td><td>6</td></tr>",
                            "<tr><td>45</td><td>5</td></tr>",
                            "<tr><td>46</td><td>4</td></tr>",
                            "<tr><td>47</td><td>2</td></tr>",
                            "<tr><td>48</td><td>9</td></tr>",
                            "<tr><td>49</td><td>7</td></tr>",
                            "<tr><td>50</td><td>4</td></tr>",
                            "<tr><td>51</td><td>5</td></tr>",
                            "<tr><td>52</td><td>5</td></tr>",
                            "<tr><td>53</td><td>2</td></tr>",
                            "<tr><td>54</td><td>6</td></tr>",
                            "<tr><td>55</td><td>8</td></tr>",
                            "<tr><td>56</td><td>2</td></tr>",
                            "<tr><td>57</td><td>4</td></tr>",
                            "<tr><td>58</td><td>13</td></tr>",
                            "<tr><td>59</td><td>7</td></tr>",
                            "<tr><td>60</td><td>1</td></tr>",
                            "<tr><td>61</td><td>5</td></tr>",
                            "<tr><td>62</td><td>5</td></tr>",
                            "<tr><td>63</td><td>4</td></tr>",
                            "<tr><td>64</td><td>6</td></tr>",
                            "<tr><td>65</td><td>1</td></tr>",
                            "<tr><td>66</td><td>4</td></tr>",
                            "<tr><td>67</td><td>6</td></tr>",
                            "<tr><td>68</td><td>3</td></tr>",
                            "<tr><td>69</td><td>4</td></tr>",
                            "<tr><td>70</td><td>11</td></tr>",
                            "<tr><td>71</td><td>3</td></tr>",
                            "<tr><td>72</td><td>4</td></tr>",
                            "<tr><td>73</td><td>4</td></tr>",
                            "<tr><td>74</td><td>9</td></tr>",
                            "<tr><td>75</td><td>3</td></tr>",
                            "<tr><td>76</td><td>3</td></tr>",
                            "<tr><td>77</td><td>6</td></tr>",
                            "<tr><td>78</td><td>6</td></tr>",
                            "<tr><td>79</td><td>5</td></tr>",
                            "<tr><td>80</td><td>7</td></tr>",
                            "<tr><td>81</td><td>5</td></tr>",
                            "<tr><td>82</td><td>6</td></tr>",
                            "<tr><td>83</td><td>8</td></tr>",
                            "<tr><td>84</td><td>4</td></tr>",
                            "<tr><td>85</td><td>4</td></tr>",
                            "<tr><td>86</td><td>5</td></tr>",
                            "<tr><td>87</td><td>5</td></tr>",
                            "<tr><td>88</td><td>8</td></tr>",
                            "<tr><td>89</td><td>8</td></tr>",
                            "<tr><td>90</td><td>4</td></tr>",
                            "<tr><td>91</td><td>4</td></tr>",
                            "<tr><td>92</td><td>6</td></tr>",
                            "<tr><td>93</td><td>5</td></tr>",
                            "<tr><td>94</td><td>10</td></tr>",
                            "<tr><td>95</td><td>4</td></tr>",
                            "<tr><td>96</td><td>7</td></tr>",
                            "<tr><td>97</td><td>7</td></tr>",
                            "<tr><td>98</td><td>4</td></tr>",
                            "<tr><td>99</td><td>5</td></tr>",
                            "<tr><td>100</td><td>4</td></tr>",
                            "<tr><td>101</td><td>3</td></tr>",
                            "<tr><td>102</td><td>2</td></tr>",
                            "<tr><td>103</td><td>4</td></tr>",
                            "<tr><td>104</td><td>4</td></tr>",
                            "<tr><td>105</td><td>2</td></tr>",
                            "<tr><td>106</td><td>6</td></tr>",
                            "<tr><td>107</td><td>5</td></tr>",
                            "<tr><td>108</td><td>2</td></tr>",
                            "<tr><td>109</td><td>7</td></tr>",
                            "<tr><td>110</td><td>8</td></tr>",
                            "<tr><td>111</td><td>5</td></tr>",
                            "<tr><td>112</td><td>5</td></tr>",
                            "<tr><td>113</td><td>5</td></tr>",
                            "<tr><td>114</td><td>4</td></tr>",
                            "<tr><td>115</td><td>7</td></tr>",
                            "<tr><td>116</td><td>2</td></tr>",
                            "<tr><td>117</td><td>8</td></tr>",
                            "<tr><td>118</td><td>7</td></tr>",
                            "<tr><td>119</td><td>5</td></tr>",
                            "<tr><td>120</td><td>6</td></tr>",
                            "<tr><td>121</td><td>8</td></tr>",
                            "<tr><td>122</td><td>9</td></tr>",
                            "<tr><td>123</td><td>5</td></tr>",
                            "<tr><td>124</td><td>6</td></tr>",
                            "<tr><td>125</td><td>1</td></tr>",
                            "<tr><td>126</td><td>6</td></tr>",
                            "<tr><td>127</td><td>7</td></tr>",
                            "<tr><td>128</td><td>5</td></tr>",
                            "<tr><td>129</td><td>4</td></tr>",
                            "<tr><td>130</td><td>6</td></tr>",
                            "<tr><td>131</td><td>5</td></tr>",
                            "<tr><td>132</td><td>6</td></tr>",
                            "<tr><td>133</td><td>6</td></tr>",
                            "<tr><td>134</td><td>6</td></tr>",
                            "<tr><td>135</td><td>3</td></tr>",
                            "<tr><td>136</td><td>3</td></tr>",
                            "<tr><td>137</td><td>6</td></tr>",
                            "<tr><td>138</td><td>7</td></tr>",
                            "<tr><td>139</td><td>7</td></tr>",
                            "<tr><td>140</td><td>8</td></tr>",
                            "<tr><td>141</td><td>6</td></tr>",
                            "<tr><td>142</td><td>2</td></tr>",
                            "<tr><td>143</td><td>7</td></tr>",
                            "<tr><td>144</td><td>5</td></tr>",
                            "<tr><td>145</td><td>6</td></tr>",
                            "<tr><td>146</td><td>6</td></tr>",
                            "<tr><td>147</td><td>1</td></tr>",
                            "<tr><td>148</td><td>6</td></tr>",
                            "<tr><td>149</td><td>7</td></tr>",
                            "<tr><td>150</td><td>6</td></tr>",
                            "<tr><td>151</td><td>3</td></tr>",
                            "<tr><td>152</td><td>4</td></tr>",
                            "<tr><td>153</td><td>5</td></tr>",
                            "<tr><td>154</td><td>5</td></tr>",
                            "<tr><td>155</td><td>5</td></tr>",
                            "<tr><td>156</td><td>7</td></tr>",
                            "<tr><td>157</td><td>5</td></tr>",
                            "<tr><td>158</td><td>3</td></tr>",
                            "<tr><td>159</td><td>0</td></tr>",
                            "<tr><td>160</td><td>5</td></tr>",
                            "<tr><td>161</td><td>6</td></tr>",
                            "<tr><td>162</td><td>3</td></tr>",
                            "<tr><td>163</td><td>7</td></tr>",
                            "<tr><td>164</td><td>5</td></tr>",
                            "<tr><td>165</td><td>7</td></tr>",
                            "<tr><td>166</td><td>3</td></tr>",
                            "<tr><td>167</td><td>2</td></tr>",
                            "<tr><td>168</td><td>5</td></tr>",
                            "<tr><td>169</td><td>6</td></tr>",
                            "<tr><td>170</td><td>5</td></tr>",
                            "<tr><td>171</td><td>5</td></tr>",
                            "<tr><td>172</td><td>9</td></tr>",
                            "<tr><td>173</td><td>4</td></tr>",
                            "<tr><td>174</td><td>4</td></tr>",
                            "<tr><td>175</td><td>5</td></tr>",
                            "<tr><td>176</td><td>6</td></tr>",
                            "<tr><td>177</td><td>4</td></tr>",
                            "<tr><td>178</td><td>4</td></tr>",
                            "<tr><td>179</td><td>3</td></tr>",
                            "<tr><td>180</td><td>3</td></tr>",
                            "<tr><td>181</td><td>6</td></tr>",
                            "<tr><td>182</td><td>12</td></tr>",
                            "<tr><td>183</td><td>4</td></tr>",
                            "<tr><td>184</td><td>4</td></tr>",
                            "<tr><td>185</td><td>12</td></tr>",
                            "<tr><td>186</td><td>4</td></tr>",
                            "<tr><td>187</td><td>7</td></tr>",
                            "<tr><td>188</td><td>6</td></tr>",
                            "<tr><td>189</td><td>5</td></tr>",
                            "<tr><td>190</td><td>5</td></tr>",
                            "<tr><td>191</td><td>5</td></tr>",
                            "<tr><td>192</td><td>2</td></tr>",
                            "<tr><td>193</td><td>7</td></tr>",
                            "<tr><td>194</td><td>1</td></tr>",
                            "<tr><td>195</td><td>6</td></tr>",
                            "<tr><td>196</td><td>4</td></tr>",
                            "<tr><td>197</td><td>6</td></tr>",
                            "<tr><td>198</td><td>8</td></tr>",
                            "<tr><td>199</td><td>0</td></tr>",
                            "<tr><td>200</td><td>0</td></tr>",
                            "<tr><td>201</td><td>0</td></tr>",
                            "<tr><td>202</td><td>0</td></tr>",
                            "<tr><td>203</td><td>0</td></tr>",
                            "<tr><td>204</td><td>0</td></tr>",
                            "<tr><td>205</td><td>0</td></tr>",
                            "<tr><td>206</td><td>0</td></tr>",
                            "<tr><td>207</td><td>0</td></tr>",
                            "<tr><td>208</td><td>0</td></tr>",
                            "<tr><td>209</td><td>0</td></tr>",
                            "<tr><td>210</td><td>0</td></tr>",
                            "<tr><td>211</td><td>0</td></tr>",
                            "<tr><td>212</td><td>0</td></tr>",
                            "<tr><td>213</td><td>0</td></tr>",
                            "<tr><td>214</td><td>0</td></tr>",
                            "<tr><td>215</td><td>0</td></tr>",
                            "<tr><td>216</td><td>0</td></tr>",
                            "<tr><td>217</td><td>0</td></tr>",
                            "<tr><td>218</td><td>0</td></tr>",
                            "<tr><td>219</td><td>0</td></tr>",
                            "<tr><td>220</td><td>0</td></tr>",
                            "<tr><td>221</td><td>0</td></tr>",
                            "<tr><td>222</td><td>0</td></tr>",
                            "<tr><td>223</td><td>0</td></tr>",
                            "<tr><td>224</td><td>0</td></tr>",
                            "<tr><td>225</td><td>0</td></tr>",
                            "<tr><td>226</td><td>0</td></tr>",
                            "<tr><td>227</td><td>0</td></tr>",
                            "<tr><td>228</td><td>0</td></tr>",
                            "<tr><td>229</td><td>0</td></tr>",
                            "<tr><td>230</td><td>0</td></tr>",
                            "<tr><td>231</td><td>0</td></tr>",
                            "<tr><td>232</td><td>0</td></tr>",
                            "<tr><td>233</td><td>0</td></tr>",
                            "<tr><td>234</td><td>0</td></tr>",
                            "<tr><td>235</td><td>0</td></tr>",
                            "<tr><td>236</td><td>0</td></tr>",
                            "<tr><td>237</td><td>0</td></tr>",
                            "<tr><td>238</td><td>0</td></tr>",
                            "<tr><td>239</td><td>0</td></tr>",
                            "<tr><td>240</td><td>0</td></tr>",
                            "<tr><td>241</td><td>0</td></tr>",
                            "<tr><td>242</td><td>0</td></tr>",
                            "<tr><td>243</td><td>0</td></tr>",
                            "<tr><td>244</td><td>0</td></tr>",
                            "<tr><td>245</td><td>0</td></tr>",
                            "<tr><td>246</td><td>0</td></tr>",
                            "<tr><td>247</td><td>0</td></tr>",
                            "<tr><td>248</td><td>0</td></tr>",
                            "<tr><td>249</td><td>0</td></tr>",
                            "<tr><td>250</td><td>0</td></tr>",
                            "<tr><td>251</td><td>0</td></tr>",
                            "<tr><td>252</td><td>0</td></tr>",
                            "<tr><td>253</td><td>0</td></tr>",
                            "<tr><td>254</td><td>0</td></tr>",
                            "<tr><td>255</td><td>0</td></tr>",
                            "<tr><td>256</td><td>0</td></tr>",
                            "<tr><td>257</td><td>0</td></tr>",
                            "<tr><td>258</td><td>0</td></tr>",
                            "<tr><td>259</td><td>0</td></tr>",
                            "<tr><td>260</td><td>0</td></tr>",
                            "<tr><td>261</td><td>0</td></tr>",
                            "<tr><td>262</td><td>0</td></tr>",
                            "<tr><td>263</td><td>0</td></tr>",
                            "<tr><td>264</td><td>0</td></tr>",
                            "<tr><td>265</td><td>0</td></tr>",
                            "<tr><td>266</td><td>0</td></tr>",
                            "<tr><td>267</td><td>0</td></tr>",
                            "<tr><td>268</td><td>0</td></tr>",
                            "<tr><td>269</td><td>0</td></tr>",
                            "<tr><td>270</td><td>0</td></tr>",
                            "<tr><td>271</td><td>0</td></tr>",
                            "<tr><td>272</td><td>0</td></tr>",
                            "<tr><td>273</td><td>0</td></tr>",
                            "<tr><td>274</td><td>0</td></tr>",
                            "<tr><td>275</td><td>0</td></tr>",
                            "<tr><td>276</td><td>0</td></tr>",
                            "<tr><td>277</td><td>0</td></tr>",
                            "<tr><td>278</td><td>0</td></tr>",
                            "<tr><td>279</td><td>0</td></tr>",
                            "<tr><td>280</td><td>0</td></tr>",
                            "<tr><td>281</td><td>0</td></tr>",
                            "<tr><td>282</td><td>0</td></tr>",
                            "<tr><td>283</td><td>0</td></tr>",
                            "<tr><td>284</td><td>0</td></tr>",
                            "<tr><td>285</td><td>0</td></tr>",
                            "<tr><td>286</td><td>0</td></tr>",
                            "<tr><td>287</td><td>0</td></tr>",
                            "<tr><td>288</td><td>0</td></tr>",
                            "<tr><td>289</td><td>0</td></tr>",
                            "<tr><td>290</td><td>0</td></tr>",
                            "<tr><td>291</td><td>0</td></tr>",
                            "<tr><td>292</td><td>0</td></tr>",
                            "<tr><td>293</td><td>0</td></tr>",
                            "<tr><td>294</td><td>0</td></tr>",
                            "</table>"
                        ]
                    }
                }
            ],
            "execution_count": 11
        },
        {
            "cell_type": "markdown",
            "source": [
                "2\\. feladat: Listázzuk azon szálláshelyek azonosítóját és nevét, amelyek a saját helyükön (HELY) a legtöbb csillaggal rendelkeznek!"
            ],
            "metadata": {
                "azdata_cell_guid": "f5861962-8043-4249-b1b1-f7fd94e7fdf8"
            },
            "attachments": {}
        },
        {
            "cell_type": "code",
            "source": [
                "SELECT szallas_id, szallas_nev\r\n",
                "FROM szallashely sz\r\n",
                "WHERE csillagok_szama = (\r\n",
                "    SELECT MAX(csillagok_szama)\r\n",
                "    FROM szallashely\r\n",
                "    WHERE hely = sz.hely\r\n",
                ");\r\n",
                ""
            ],
            "metadata": {
                "azdata_cell_guid": "e2dca889-57f0-4b8d-9e83-a6126ee89585",
                "language": "sql"
            },
            "outputs": [
                {
                    "output_type": "display_data",
                    "data": {
                        "text/html": "(11 rows affected)"
                    },
                    "metadata": {}
                },
                {
                    "output_type": "display_data",
                    "data": {
                        "text/html": "Total execution time: 00:00:00.004"
                    },
                    "metadata": {}
                },
                {
                    "output_type": "execute_result",
                    "metadata": {},
                    "execution_count": 12,
                    "data": {
                        "application/vnd.dataresource+json": {
                            "schema": {
                                "fields": [
                                    {
                                        "name": "szallas_id"
                                    },
                                    {
                                        "name": "szallas_nev"
                                    }
                                ]
                            },
                            "data": [
                                {
                                    "szallas_id": "17",
                                    "szallas_nev": "Szarvas Hotel"
                                },
                                {
                                    "szallas_id": "16",
                                    "szallas_nev": "Bagoly Hotel"
                                },
                                {
                                    "szallas_id": "3",
                                    "szallas_nev": "Fortuna Apartman"
                                },
                                {
                                    "szallas_id": "18",
                                    "szallas_nev": "Fortuna Apartman"
                                },
                                {
                                    "szallas_id": "19",
                                    "szallas_nev": "Nyárfás Vendégház"
                                },
                                {
                                    "szallas_id": "21",
                                    "szallas_nev": "Müller Vendégház"
                                },
                                {
                                    "szallas_id": "13",
                                    "szallas_nev": "Riviéra Panzió"
                                },
                                {
                                    "szallas_id": "10",
                                    "szallas_nev": "Lagúna Hotel"
                                },
                                {
                                    "szallas_id": "5",
                                    "szallas_nev": "Fortuna Panzió"
                                },
                                {
                                    "szallas_id": "11",
                                    "szallas_nev": "Partiszél Vendégház"
                                },
                                {
                                    "szallas_id": "8",
                                    "szallas_nev": "Hotel Három Hattyú"
                                }
                            ]
                        },
                        "text/html": [
                            "<table>",
                            "<tr><th>szallas_id</th><th>szallas_nev</th></tr>",
                            "<tr><td>17</td><td>Szarvas Hotel</td></tr>",
                            "<tr><td>16</td><td>Bagoly Hotel</td></tr>",
                            "<tr><td>3</td><td>Fortuna Apartman</td></tr>",
                            "<tr><td>18</td><td>Fortuna Apartman</td></tr>",
                            "<tr><td>19</td><td>Nyárfás Vendégház</td></tr>",
                            "<tr><td>21</td><td>Müller Vendégház</td></tr>",
                            "<tr><td>13</td><td>Riviéra Panzió</td></tr>",
                            "<tr><td>10</td><td>Lagúna Hotel</td></tr>",
                            "<tr><td>5</td><td>Fortuna Panzió</td></tr>",
                            "<tr><td>11</td><td>Partiszél Vendégház</td></tr>",
                            "<tr><td>8</td><td>Hotel Három Hattyú</td></tr>",
                            "</table>"
                        ]
                    }
                }
            ],
            "execution_count": 12
        },
        {
            "cell_type": "markdown",
            "source": [
                "3\\. feladat: <span style=\"background-color: rgb(255, 255, 255); color: rgb(0, 0, 0); font-family: &quot;Open Sans&quot;, sans-serif; font-size: 14.44px;\">Jelenítsük meg, hogy az egyes szálláshelyek szobáit esetén a legutolsó 5 foglalás átlagosan hány főre történt!</span>\n",
                "\n",
                "- A számításnál vegyük figyelembe a felnőtteket és a gyermekeket is\n",
                "- A foglalás dátumánál a METTOL mezőt használjuk"
            ],
            "metadata": {
                "azdata_cell_guid": "67b965db-34fe-42da-868d-8727bce5e2cc"
            },
            "attachments": {}
        },
        {
            "cell_type": "code",
            "source": [
                "SELECT \r\n",
                "    sz.szoba_id, \r\n",
                "    sz.szallas_fk, \r\n",
                "    AVG(felnott_szam + gyermek_szam) \r\n",
                "          OVER(PARTITION BY szoba_fk \r\n",
                "               ORDER BY mettol \r\n",
                "               ROWS BETWEEN 4 PRECEDING AND CURRENT ROW) AS \"Átlagos létszám\"\r\n",
                "FROM \r\n",
                "    foglalas f JOIN szoba sz ON f.szoba_fk = sz.szoba_id\r\n",
                "ORDER BY \r\n",
                "    sz.szallas_fk, sz.szoba_id;\r\n",
                ""
            ],
            "metadata": {
                "azdata_cell_guid": "b00e9d69-79d7-4e59-ae4c-bafcd6df085f",
                "language": "sql"
            },
            "outputs": [
                {
                    "output_type": "display_data",
                    "data": {
                        "text/html": "(1027 rows affected)"
                    },
                    "metadata": {}
                },
                {
                    "output_type": "display_data",
                    "data": {
                        "text/html": "Total execution time: 00:00:00.023"
                    },
                    "metadata": {}
                },
                {
                    "output_type": "execute_result",
                    "metadata": {},
                    "execution_count": 14,
                    "data": {
                        "application/vnd.dataresource+json": {
                            "schema": {
                                "fields": [
                                    {
                                        "name": "szoba_id"
                                    },
                                    {
                                        "name": "szallas_fk"
                                    },
                                    {
                                        "name": "Átlagos létszám"
                                    }
                                ]
                            },
                            "data": [
                                {
                                    "szoba_id": "1",
                                    "szallas_fk": "1",
                                    "Átlagos létszám": "1"
                                },
                                {
                                    "szoba_id": "1",
                                    "szallas_fk": "1",
                                    "Átlagos létszám": "1"
                                },
                                {
                                    "szoba_id": "1",
                                    "szallas_fk": "1",
                                    "Átlagos létszám": "1"
                                },
                                {
                                    "szoba_id": "1",
                                    "szallas_fk": "1",
                                    "Átlagos létszám": "1"
                                },
                                {
                                    "szoba_id": "1",
                                    "szallas_fk": "1",
                                    "Átlagos létszám": "1"
                                },
                                {
                                    "szoba_id": "1",
                                    "szallas_fk": "1",
                                    "Átlagos létszám": "2"
                                },
                                {
                                    "szoba_id": "1",
                                    "szallas_fk": "1",
                                    "Átlagos létszám": "2"
                                },
                                {
                                    "szoba_id": "1",
                                    "szallas_fk": "1",
                                    "Átlagos létszám": "2"
                                },
                                {
                                    "szoba_id": "2",
                                    "szallas_fk": "1",
                                    "Átlagos létszám": "4"
                                },
                                {
                                    "szoba_id": "2",
                                    "szallas_fk": "1",
                                    "Átlagos létszám": "3"
                                },
                                {
                                    "szoba_id": "2",
                                    "szallas_fk": "1",
                                    "Átlagos létszám": "3"
                                },
                                {
                                    "szoba_id": "2",
                                    "szallas_fk": "1",
                                    "Átlagos létszám": "3"
                                },
                                {
                                    "szoba_id": "3",
                                    "szallas_fk": "1",
                                    "Átlagos létszám": "3"
                                },
                                {
                                    "szoba_id": "3",
                                    "szallas_fk": "1",
                                    "Átlagos létszám": "3"
                                },
                                {
                                    "szoba_id": "3",
                                    "szallas_fk": "1",
                                    "Átlagos létszám": "3"
                                },
                                {
                                    "szoba_id": "3",
                                    "szallas_fk": "1",
                                    "Átlagos létszám": "3"
                                },
                                {
                                    "szoba_id": "3",
                                    "szallas_fk": "1",
                                    "Átlagos létszám": "3"
                                },
                                {
                                    "szoba_id": "3",
                                    "szallas_fk": "1",
                                    "Átlagos létszám": "3"
                                },
                                {
                                    "szoba_id": "3",
                                    "szallas_fk": "1",
                                    "Átlagos létszám": "3"
                                },
                                {
                                    "szoba_id": "3",
                                    "szallas_fk": "1",
                                    "Átlagos létszám": "2"
                                },
                                {
                                    "szoba_id": "4",
                                    "szallas_fk": "1",
                                    "Átlagos létszám": "1"
                                },
                                {
                                    "szoba_id": "4",
                                    "szallas_fk": "1",
                                    "Átlagos létszám": "1"
                                },
                                {
                                    "szoba_id": "4",
                                    "szallas_fk": "1",
                                    "Átlagos létszám": "1"
                                },
                                {
                                    "szoba_id": "4",
                                    "szallas_fk": "1",
                                    "Átlagos létszám": "1"
                                },
                                {
                                    "szoba_id": "4",
                                    "szallas_fk": "1",
                                    "Átlagos létszám": "1"
                                },
                                {
                                    "szoba_id": "4",
                                    "szallas_fk": "1",
                                    "Átlagos létszám": "1"
                                },
                                {
                                    "szoba_id": "5",
                                    "szallas_fk": "1",
                                    "Átlagos létszám": "2"
                                },
                                {
                                    "szoba_id": "5",
                                    "szallas_fk": "1",
                                    "Átlagos létszám": "1"
                                },
                                {
                                    "szoba_id": "5",
                                    "szallas_fk": "1",
                                    "Átlagos létszám": "1"
                                },
                                {
                                    "szoba_id": "5",
                                    "szallas_fk": "1",
                                    "Átlagos létszám": "1"
                                },
                                {
                                    "szoba_id": "6",
                                    "szallas_fk": "1",
                                    "Átlagos létszám": "2"
                                },
                                {
                                    "szoba_id": "6",
                                    "szallas_fk": "1",
                                    "Átlagos létszám": "2"
                                },
                                {
                                    "szoba_id": "6",
                                    "szallas_fk": "1",
                                    "Átlagos létszám": "1"
                                },
                                {
                                    "szoba_id": "6",
                                    "szallas_fk": "1",
                                    "Átlagos létszám": "2"
                                },
                                {
                                    "szoba_id": "6",
                                    "szallas_fk": "1",
                                    "Átlagos létszám": "2"
                                },
                                {
                                    "szoba_id": "6",
                                    "szallas_fk": "1",
                                    "Átlagos létszám": "2"
                                },
                                {
                                    "szoba_id": "7",
                                    "szallas_fk": "1",
                                    "Átlagos létszám": "1"
                                },
                                {
                                    "szoba_id": "7",
                                    "szallas_fk": "1",
                                    "Átlagos létszám": "1"
                                },
                                {
                                    "szoba_id": "7",
                                    "szallas_fk": "1",
                                    "Átlagos létszám": "1"
                                },
                                {
                                    "szoba_id": "7",
                                    "szallas_fk": "1",
                                    "Átlagos létszám": "1"
                                },
                                {
                                    "szoba_id": "7",
                                    "szallas_fk": "1",
                                    "Átlagos létszám": "1"
                                },
                                {
                                    "szoba_id": "7",
                                    "szallas_fk": "1",
                                    "Átlagos létszám": "1"
                                },
                                {
                                    "szoba_id": "8",
                                    "szallas_fk": "1",
                                    "Átlagos létszám": "2"
                                },
                                {
                                    "szoba_id": "8",
                                    "szallas_fk": "1",
                                    "Átlagos létszám": "2"
                                },
                                {
                                    "szoba_id": "8",
                                    "szallas_fk": "1",
                                    "Átlagos létszám": "2"
                                },
                                {
                                    "szoba_id": "8",
                                    "szallas_fk": "1",
                                    "Átlagos létszám": "2"
                                },
                                {
                                    "szoba_id": "8",
                                    "szallas_fk": "1",
                                    "Átlagos létszám": "2"
                                },
                                {
                                    "szoba_id": "9",
                                    "szallas_fk": "1",
                                    "Átlagos létszám": "2"
                                },
                                {
                                    "szoba_id": "9",
                                    "szallas_fk": "1",
                                    "Átlagos létszám": "2"
                                },
                                {
                                    "szoba_id": "9",
                                    "szallas_fk": "1",
                                    "Átlagos létszám": "3"
                                },
                                {
                                    "szoba_id": "9",
                                    "szallas_fk": "1",
                                    "Átlagos létszám": "3"
                                },
                                {
                                    "szoba_id": "9",
                                    "szallas_fk": "1",
                                    "Átlagos létszám": "3"
                                },
                                {
                                    "szoba_id": "9",
                                    "szallas_fk": "1",
                                    "Átlagos létszám": "3"
                                },
                                {
                                    "szoba_id": "10",
                                    "szallas_fk": "1",
                                    "Átlagos létszám": "2"
                                },
                                {
                                    "szoba_id": "10",
                                    "szallas_fk": "1",
                                    "Átlagos létszám": "1"
                                },
                                {
                                    "szoba_id": "10",
                                    "szallas_fk": "1",
                                    "Átlagos létszám": "2"
                                },
                                {
                                    "szoba_id": "10",
                                    "szallas_fk": "1",
                                    "Átlagos létszám": "2"
                                },
                                {
                                    "szoba_id": "11",
                                    "szallas_fk": "1",
                                    "Átlagos létszám": "3"
                                },
                                {
                                    "szoba_id": "11",
                                    "szallas_fk": "1",
                                    "Átlagos létszám": "3"
                                },
                                {
                                    "szoba_id": "11",
                                    "szallas_fk": "1",
                                    "Átlagos létszám": "2"
                                },
                                {
                                    "szoba_id": "11",
                                    "szallas_fk": "1",
                                    "Átlagos létszám": "2"
                                },
                                {
                                    "szoba_id": "12",
                                    "szallas_fk": "1",
                                    "Átlagos létszám": "3"
                                },
                                {
                                    "szoba_id": "12",
                                    "szallas_fk": "1",
                                    "Átlagos létszám": "2"
                                },
                                {
                                    "szoba_id": "12",
                                    "szallas_fk": "1",
                                    "Átlagos létszám": "2"
                                },
                                {
                                    "szoba_id": "12",
                                    "szallas_fk": "1",
                                    "Átlagos létszám": "2"
                                },
                                {
                                    "szoba_id": "12",
                                    "szallas_fk": "1",
                                    "Átlagos létszám": "2"
                                },
                                {
                                    "szoba_id": "12",
                                    "szallas_fk": "1",
                                    "Átlagos létszám": "2"
                                },
                                {
                                    "szoba_id": "12",
                                    "szallas_fk": "1",
                                    "Átlagos létszám": "2"
                                },
                                {
                                    "szoba_id": "12",
                                    "szallas_fk": "1",
                                    "Átlagos létszám": "2"
                                },
                                {
                                    "szoba_id": "12",
                                    "szallas_fk": "1",
                                    "Átlagos létszám": "2"
                                },
                                {
                                    "szoba_id": "13",
                                    "szallas_fk": "2",
                                    "Átlagos létszám": "3"
                                },
                                {
                                    "szoba_id": "13",
                                    "szallas_fk": "2",
                                    "Átlagos létszám": "3"
                                },
                                {
                                    "szoba_id": "13",
                                    "szallas_fk": "2",
                                    "Átlagos létszám": "3"
                                },
                                {
                                    "szoba_id": "13",
                                    "szallas_fk": "2",
                                    "Átlagos létszám": "2"
                                },
                                {
                                    "szoba_id": "14",
                                    "szallas_fk": "2",
                                    "Átlagos létszám": "4"
                                },
                                {
                                    "szoba_id": "14",
                                    "szallas_fk": "2",
                                    "Átlagos létszám": "3"
                                },
                                {
                                    "szoba_id": "14",
                                    "szallas_fk": "2",
                                    "Átlagos létszám": "3"
                                },
                                {
                                    "szoba_id": "15",
                                    "szallas_fk": "2",
                                    "Átlagos létszám": "3"
                                },
                                {
                                    "szoba_id": "15",
                                    "szallas_fk": "2",
                                    "Átlagos létszám": "2"
                                },
                                {
                                    "szoba_id": "15",
                                    "szallas_fk": "2",
                                    "Átlagos létszám": "2"
                                },
                                {
                                    "szoba_id": "15",
                                    "szallas_fk": "2",
                                    "Átlagos létszám": "2"
                                },
                                {
                                    "szoba_id": "15",
                                    "szallas_fk": "2",
                                    "Átlagos létszám": "2"
                                },
                                {
                                    "szoba_id": "15",
                                    "szallas_fk": "2",
                                    "Átlagos létszám": "2"
                                },
                                {
                                    "szoba_id": "16",
                                    "szallas_fk": "2",
                                    "Átlagos létszám": "4"
                                },
                                {
                                    "szoba_id": "16",
                                    "szallas_fk": "2",
                                    "Átlagos létszám": "3"
                                },
                                {
                                    "szoba_id": "16",
                                    "szallas_fk": "2",
                                    "Átlagos létszám": "3"
                                },
                                {
                                    "szoba_id": "16",
                                    "szallas_fk": "2",
                                    "Átlagos létszám": "3"
                                },
                                {
                                    "szoba_id": "16",
                                    "szallas_fk": "2",
                                    "Átlagos létszám": "3"
                                },
                                {
                                    "szoba_id": "17",
                                    "szallas_fk": "3",
                                    "Átlagos létszám": "4"
                                },
                                {
                                    "szoba_id": "17",
                                    "szallas_fk": "3",
                                    "Átlagos létszám": "3"
                                },
                                {
                                    "szoba_id": "17",
                                    "szallas_fk": "3",
                                    "Átlagos létszám": "3"
                                },
                                {
                                    "szoba_id": "17",
                                    "szallas_fk": "3",
                                    "Átlagos létszám": "2"
                                },
                                {
                                    "szoba_id": "17",
                                    "szallas_fk": "3",
                                    "Átlagos létszám": "2"
                                },
                                {
                                    "szoba_id": "17",
                                    "szallas_fk": "3",
                                    "Átlagos létszám": "2"
                                },
                                {
                                    "szoba_id": "18",
                                    "szallas_fk": "3",
                                    "Átlagos létszám": "2"
                                },
                                {
                                    "szoba_id": "18",
                                    "szallas_fk": "3",
                                    "Átlagos létszám": "2"
                                },
                                {
                                    "szoba_id": "18",
                                    "szallas_fk": "3",
                                    "Átlagos létszám": "2"
                                },
                                {
                                    "szoba_id": "18",
                                    "szallas_fk": "3",
                                    "Átlagos létszám": "3"
                                },
                                {
                                    "szoba_id": "18",
                                    "szallas_fk": "3",
                                    "Átlagos létszám": "2"
                                },
                                {
                                    "szoba_id": "18",
                                    "szallas_fk": "3",
                                    "Átlagos létszám": "3"
                                },
                                {
                                    "szoba_id": "19",
                                    "szallas_fk": "3",
                                    "Átlagos létszám": "1"
                                },
                                {
                                    "szoba_id": "19",
                                    "szallas_fk": "3",
                                    "Átlagos létszám": "2"
                                },
                                {
                                    "szoba_id": "19",
                                    "szallas_fk": "3",
                                    "Átlagos létszám": "2"
                                },
                                {
                                    "szoba_id": "19",
                                    "szallas_fk": "3",
                                    "Átlagos létszám": "2"
                                },
                                {
                                    "szoba_id": "19",
                                    "szallas_fk": "3",
                                    "Átlagos létszám": "2"
                                },
                                {
                                    "szoba_id": "19",
                                    "szallas_fk": "3",
                                    "Átlagos létszám": "2"
                                },
                                {
                                    "szoba_id": "20",
                                    "szallas_fk": "3",
                                    "Átlagos létszám": "1"
                                },
                                {
                                    "szoba_id": "20",
                                    "szallas_fk": "3",
                                    "Átlagos létszám": "2"
                                },
                                {
                                    "szoba_id": "20",
                                    "szallas_fk": "3",
                                    "Átlagos létszám": "2"
                                },
                                {
                                    "szoba_id": "20",
                                    "szallas_fk": "3",
                                    "Átlagos létszám": "2"
                                },
                                {
                                    "szoba_id": "20",
                                    "szallas_fk": "3",
                                    "Átlagos létszám": "2"
                                },
                                {
                                    "szoba_id": "21",
                                    "szallas_fk": "3",
                                    "Átlagos létszám": "2"
                                },
                                {
                                    "szoba_id": "21",
                                    "szallas_fk": "3",
                                    "Átlagos létszám": "2"
                                },
                                {
                                    "szoba_id": "21",
                                    "szallas_fk": "3",
                                    "Átlagos létszám": "2"
                                },
                                {
                                    "szoba_id": "21",
                                    "szallas_fk": "3",
                                    "Átlagos létszám": "2"
                                },
                                {
                                    "szoba_id": "22",
                                    "szallas_fk": "3",
                                    "Átlagos létszám": "2"
                                },
                                {
                                    "szoba_id": "22",
                                    "szallas_fk": "3",
                                    "Átlagos létszám": "1"
                                },
                                {
                                    "szoba_id": "22",
                                    "szallas_fk": "3",
                                    "Átlagos létszám": "2"
                                },
                                {
                                    "szoba_id": "22",
                                    "szallas_fk": "3",
                                    "Átlagos létszám": "3"
                                },
                                {
                                    "szoba_id": "22",
                                    "szallas_fk": "3",
                                    "Átlagos létszám": "3"
                                },
                                {
                                    "szoba_id": "22",
                                    "szallas_fk": "3",
                                    "Átlagos létszám": "3"
                                },
                                {
                                    "szoba_id": "23",
                                    "szallas_fk": "3",
                                    "Átlagos létszám": "2"
                                },
                                {
                                    "szoba_id": "23",
                                    "szallas_fk": "3",
                                    "Átlagos létszám": "1"
                                },
                                {
                                    "szoba_id": "23",
                                    "szallas_fk": "3",
                                    "Átlagos létszám": "1"
                                },
                                {
                                    "szoba_id": "24",
                                    "szallas_fk": "3",
                                    "Átlagos létszám": "1"
                                },
                                {
                                    "szoba_id": "24",
                                    "szallas_fk": "3",
                                    "Átlagos létszám": "2"
                                },
                                {
                                    "szoba_id": "24",
                                    "szallas_fk": "3",
                                    "Átlagos létszám": "3"
                                },
                                {
                                    "szoba_id": "25",
                                    "szallas_fk": "4",
                                    "Átlagos létszám": "3"
                                },
                                {
                                    "szoba_id": "25",
                                    "szallas_fk": "4",
                                    "Átlagos létszám": "3"
                                },
                                {
                                    "szoba_id": "26",
                                    "szallas_fk": "4",
                                    "Átlagos létszám": "3"
                                },
                                {
                                    "szoba_id": "26",
                                    "szallas_fk": "4",
                                    "Átlagos létszám": "2"
                                },
                                {
                                    "szoba_id": "27",
                                    "szallas_fk": "4",
                                    "Átlagos létszám": "4"
                                },
                                {
                                    "szoba_id": "27",
                                    "szallas_fk": "4",
                                    "Átlagos létszám": "3"
                                },
                                {
                                    "szoba_id": "27",
                                    "szallas_fk": "4",
                                    "Átlagos létszám": "3"
                                },
                                {
                                    "szoba_id": "27",
                                    "szallas_fk": "4",
                                    "Átlagos létszám": "3"
                                },
                                {
                                    "szoba_id": "27",
                                    "szallas_fk": "4",
                                    "Átlagos létszám": "3"
                                },
                                {
                                    "szoba_id": "27",
                                    "szallas_fk": "4",
                                    "Átlagos létszám": "3"
                                },
                                {
                                    "szoba_id": "27",
                                    "szallas_fk": "4",
                                    "Átlagos létszám": "3"
                                },
                                {
                                    "szoba_id": "28",
                                    "szallas_fk": "4",
                                    "Átlagos létszám": "1"
                                },
                                {
                                    "szoba_id": "28",
                                    "szallas_fk": "4",
                                    "Átlagos létszám": "1"
                                },
                                {
                                    "szoba_id": "28",
                                    "szallas_fk": "4",
                                    "Átlagos létszám": "1"
                                },
                                {
                                    "szoba_id": "28",
                                    "szallas_fk": "4",
                                    "Átlagos létszám": "1"
                                },
                                {
                                    "szoba_id": "28",
                                    "szallas_fk": "4",
                                    "Átlagos létszám": "2"
                                },
                                {
                                    "szoba_id": "28",
                                    "szallas_fk": "4",
                                    "Átlagos létszám": "2"
                                },
                                {
                                    "szoba_id": "29",
                                    "szallas_fk": "4",
                                    "Átlagos létszám": "2"
                                },
                                {
                                    "szoba_id": "29",
                                    "szallas_fk": "4",
                                    "Átlagos létszám": "2"
                                },
                                {
                                    "szoba_id": "29",
                                    "szallas_fk": "4",
                                    "Átlagos létszám": "2"
                                },
                                {
                                    "szoba_id": "29",
                                    "szallas_fk": "4",
                                    "Átlagos létszám": "2"
                                },
                                {
                                    "szoba_id": "29",
                                    "szallas_fk": "4",
                                    "Átlagos létszám": "2"
                                },
                                {
                                    "szoba_id": "29",
                                    "szallas_fk": "4",
                                    "Átlagos létszám": "1"
                                },
                                {
                                    "szoba_id": "30",
                                    "szallas_fk": "4",
                                    "Átlagos létszám": "2"
                                },
                                {
                                    "szoba_id": "30",
                                    "szallas_fk": "4",
                                    "Átlagos létszám": "2"
                                },
                                {
                                    "szoba_id": "30",
                                    "szallas_fk": "4",
                                    "Átlagos létszám": "2"
                                },
                                {
                                    "szoba_id": "31",
                                    "szallas_fk": "4",
                                    "Átlagos létszám": "4"
                                },
                                {
                                    "szoba_id": "31",
                                    "szallas_fk": "4",
                                    "Átlagos létszám": "4"
                                },
                                {
                                    "szoba_id": "31",
                                    "szallas_fk": "4",
                                    "Átlagos létszám": "4"
                                },
                                {
                                    "szoba_id": "32",
                                    "szallas_fk": "4",
                                    "Átlagos létszám": "2"
                                },
                                {
                                    "szoba_id": "33",
                                    "szallas_fk": "4",
                                    "Átlagos létszám": "4"
                                },
                                {
                                    "szoba_id": "33",
                                    "szallas_fk": "4",
                                    "Átlagos létszám": "3"
                                },
                                {
                                    "szoba_id": "33",
                                    "szallas_fk": "4",
                                    "Átlagos létszám": "3"
                                },
                                {
                                    "szoba_id": "33",
                                    "szallas_fk": "4",
                                    "Átlagos létszám": "3"
                                },
                                {
                                    "szoba_id": "33",
                                    "szallas_fk": "4",
                                    "Átlagos létszám": "2"
                                },
                                {
                                    "szoba_id": "33",
                                    "szallas_fk": "4",
                                    "Átlagos létszám": "2"
                                },
                                {
                                    "szoba_id": "34",
                                    "szallas_fk": "4",
                                    "Átlagos létszám": "2"
                                },
                                {
                                    "szoba_id": "34",
                                    "szallas_fk": "4",
                                    "Átlagos létszám": "1"
                                },
                                {
                                    "szoba_id": "34",
                                    "szallas_fk": "4",
                                    "Átlagos létszám": "1"
                                },
                                {
                                    "szoba_id": "34",
                                    "szallas_fk": "4",
                                    "Átlagos létszám": "2"
                                },
                                {
                                    "szoba_id": "35",
                                    "szallas_fk": "4",
                                    "Átlagos létszám": "3"
                                },
                                {
                                    "szoba_id": "35",
                                    "szallas_fk": "4",
                                    "Átlagos létszám": "2"
                                },
                                {
                                    "szoba_id": "35",
                                    "szallas_fk": "4",
                                    "Átlagos létszám": "2"
                                },
                                {
                                    "szoba_id": "35",
                                    "szallas_fk": "4",
                                    "Átlagos létszám": "2"
                                },
                                {
                                    "szoba_id": "35",
                                    "szallas_fk": "4",
                                    "Átlagos létszám": "2"
                                },
                                {
                                    "szoba_id": "35",
                                    "szallas_fk": "4",
                                    "Átlagos létszám": "2"
                                },
                                {
                                    "szoba_id": "35",
                                    "szallas_fk": "4",
                                    "Átlagos létszám": "2"
                                },
                                {
                                    "szoba_id": "35",
                                    "szallas_fk": "4",
                                    "Átlagos létszám": "2"
                                },
                                {
                                    "szoba_id": "35",
                                    "szallas_fk": "4",
                                    "Átlagos létszám": "1"
                                },
                                {
                                    "szoba_id": "36",
                                    "szallas_fk": "4",
                                    "Átlagos létszám": "5"
                                },
                                {
                                    "szoba_id": "36",
                                    "szallas_fk": "4",
                                    "Átlagos létszám": "4"
                                },
                                {
                                    "szoba_id": "36",
                                    "szallas_fk": "4",
                                    "Átlagos létszám": "4"
                                },
                                {
                                    "szoba_id": "36",
                                    "szallas_fk": "4",
                                    "Átlagos létszám": "4"
                                },
                                {
                                    "szoba_id": "36",
                                    "szallas_fk": "4",
                                    "Átlagos létszám": "4"
                                },
                                {
                                    "szoba_id": "36",
                                    "szallas_fk": "4",
                                    "Átlagos létszám": "3"
                                },
                                {
                                    "szoba_id": "37",
                                    "szallas_fk": "4",
                                    "Átlagos létszám": "2"
                                },
                                {
                                    "szoba_id": "37",
                                    "szallas_fk": "4",
                                    "Átlagos létszám": "1"
                                },
                                {
                                    "szoba_id": "37",
                                    "szallas_fk": "4",
                                    "Átlagos létszám": "1"
                                },
                                {
                                    "szoba_id": "38",
                                    "szallas_fk": "4",
                                    "Átlagos létszám": "3"
                                },
                                {
                                    "szoba_id": "38",
                                    "szallas_fk": "4",
                                    "Átlagos létszám": "3"
                                },
                                {
                                    "szoba_id": "38",
                                    "szallas_fk": "4",
                                    "Átlagos létszám": "3"
                                },
                                {
                                    "szoba_id": "38",
                                    "szallas_fk": "4",
                                    "Átlagos létszám": "3"
                                },
                                {
                                    "szoba_id": "38",
                                    "szallas_fk": "4",
                                    "Átlagos létszám": "2"
                                },
                                {
                                    "szoba_id": "38",
                                    "szallas_fk": "4",
                                    "Átlagos létszám": "2"
                                },
                                {
                                    "szoba_id": "38",
                                    "szallas_fk": "4",
                                    "Átlagos létszám": "2"
                                },
                                {
                                    "szoba_id": "38",
                                    "szallas_fk": "4",
                                    "Átlagos létszám": "2"
                                },
                                {
                                    "szoba_id": "39",
                                    "szallas_fk": "4",
                                    "Átlagos létszám": "1"
                                },
                                {
                                    "szoba_id": "39",
                                    "szallas_fk": "4",
                                    "Átlagos létszám": "1"
                                },
                                {
                                    "szoba_id": "39",
                                    "szallas_fk": "4",
                                    "Átlagos létszám": "1"
                                },
                                {
                                    "szoba_id": "39",
                                    "szallas_fk": "4",
                                    "Átlagos létszám": "1"
                                },
                                {
                                    "szoba_id": "39",
                                    "szallas_fk": "4",
                                    "Átlagos létszám": "1"
                                },
                                {
                                    "szoba_id": "39",
                                    "szallas_fk": "4",
                                    "Átlagos létszám": "2"
                                },
                                {
                                    "szoba_id": "39",
                                    "szallas_fk": "4",
                                    "Átlagos létszám": "2"
                                },
                                {
                                    "szoba_id": "40",
                                    "szallas_fk": "5",
                                    "Átlagos létszám": "3"
                                },
                                {
                                    "szoba_id": "40",
                                    "szallas_fk": "5",
                                    "Átlagos létszám": "3"
                                },
                                {
                                    "szoba_id": "40",
                                    "szallas_fk": "5",
                                    "Átlagos létszám": "2"
                                },
                                {
                                    "szoba_id": "40",
                                    "szallas_fk": "5",
                                    "Átlagos létszám": "2"
                                },
                                {
                                    "szoba_id": "41",
                                    "szallas_fk": "5",
                                    "Átlagos létszám": "3"
                                },
                                {
                                    "szoba_id": "41",
                                    "szallas_fk": "5",
                                    "Átlagos létszám": "3"
                                },
                                {
                                    "szoba_id": "42",
                                    "szallas_fk": "5",
                                    "Átlagos létszám": "2"
                                },
                                {
                                    "szoba_id": "42",
                                    "szallas_fk": "5",
                                    "Átlagos létszám": "2"
                                },
                                {
                                    "szoba_id": "42",
                                    "szallas_fk": "5",
                                    "Átlagos létszám": "2"
                                },
                                {
                                    "szoba_id": "42",
                                    "szallas_fk": "5",
                                    "Átlagos létszám": "2"
                                },
                                {
                                    "szoba_id": "42",
                                    "szallas_fk": "5",
                                    "Átlagos létszám": "2"
                                },
                                {
                                    "szoba_id": "42",
                                    "szallas_fk": "5",
                                    "Átlagos létszám": "2"
                                },
                                {
                                    "szoba_id": "43",
                                    "szallas_fk": "5",
                                    "Átlagos létszám": "3"
                                },
                                {
                                    "szoba_id": "43",
                                    "szallas_fk": "5",
                                    "Átlagos létszám": "2"
                                },
                                {
                                    "szoba_id": "43",
                                    "szallas_fk": "5",
                                    "Átlagos létszám": "2"
                                },
                                {
                                    "szoba_id": "43",
                                    "szallas_fk": "5",
                                    "Átlagos létszám": "2"
                                },
                                {
                                    "szoba_id": "43",
                                    "szallas_fk": "5",
                                    "Átlagos létszám": "2"
                                },
                                {
                                    "szoba_id": "43",
                                    "szallas_fk": "5",
                                    "Átlagos létszám": "2"
                                },
                                {
                                    "szoba_id": "43",
                                    "szallas_fk": "5",
                                    "Átlagos létszám": "2"
                                },
                                {
                                    "szoba_id": "43",
                                    "szallas_fk": "5",
                                    "Átlagos létszám": "2"
                                },
                                {
                                    "szoba_id": "44",
                                    "szallas_fk": "5",
                                    "Átlagos létszám": "3"
                                },
                                {
                                    "szoba_id": "44",
                                    "szallas_fk": "5",
                                    "Átlagos létszám": "3"
                                },
                                {
                                    "szoba_id": "44",
                                    "szallas_fk": "5",
                                    "Átlagos létszám": "3"
                                },
                                {
                                    "szoba_id": "44",
                                    "szallas_fk": "5",
                                    "Átlagos létszám": "3"
                                },
                                {
                                    "szoba_id": "44",
                                    "szallas_fk": "5",
                                    "Átlagos létszám": "3"
                                },
                                {
                                    "szoba_id": "44",
                                    "szallas_fk": "5",
                                    "Átlagos létszám": "3"
                                },
                                {
                                    "szoba_id": "45",
                                    "szallas_fk": "5",
                                    "Átlagos létszám": "2"
                                },
                                {
                                    "szoba_id": "45",
                                    "szallas_fk": "5",
                                    "Átlagos létszám": "2"
                                },
                                {
                                    "szoba_id": "45",
                                    "szallas_fk": "5",
                                    "Átlagos létszám": "1"
                                },
                                {
                                    "szoba_id": "45",
                                    "szallas_fk": "5",
                                    "Átlagos létszám": "1"
                                },
                                {
                                    "szoba_id": "45",
                                    "szallas_fk": "5",
                                    "Átlagos létszám": "1"
                                },
                                {
                                    "szoba_id": "46",
                                    "szallas_fk": "5",
                                    "Átlagos létszám": "2"
                                },
                                {
                                    "szoba_id": "46",
                                    "szallas_fk": "5",
                                    "Átlagos létszám": "1"
                                },
                                {
                                    "szoba_id": "46",
                                    "szallas_fk": "5",
                                    "Átlagos létszám": "1"
                                },
                                {
                                    "szoba_id": "46",
                                    "szallas_fk": "5",
                                    "Átlagos létszám": "2"
                                },
                                {
                                    "szoba_id": "47",
                                    "szallas_fk": "5",
                                    "Átlagos létszám": "1"
                                },
                                {
                                    "szoba_id": "47",
                                    "szallas_fk": "5",
                                    "Átlagos létszám": "1"
                                },
                                {
                                    "szoba_id": "48",
                                    "szallas_fk": "5",
                                    "Átlagos létszám": "3"
                                },
                                {
                                    "szoba_id": "48",
                                    "szallas_fk": "5",
                                    "Átlagos létszám": "3"
                                },
                                {
                                    "szoba_id": "48",
                                    "szallas_fk": "5",
                                    "Átlagos létszám": "3"
                                },
                                {
                                    "szoba_id": "48",
                                    "szallas_fk": "5",
                                    "Átlagos létszám": "3"
                                },
                                {
                                    "szoba_id": "48",
                                    "szallas_fk": "5",
                                    "Átlagos létszám": "3"
                                },
                                {
                                    "szoba_id": "48",
                                    "szallas_fk": "5",
                                    "Átlagos létszám": "3"
                                },
                                {
                                    "szoba_id": "48",
                                    "szallas_fk": "5",
                                    "Átlagos létszám": "3"
                                },
                                {
                                    "szoba_id": "48",
                                    "szallas_fk": "5",
                                    "Átlagos létszám": "3"
                                },
                                {
                                    "szoba_id": "48",
                                    "szallas_fk": "5",
                                    "Átlagos létszám": "2"
                                },
                                {
                                    "szoba_id": "49",
                                    "szallas_fk": "5",
                                    "Átlagos létszám": "3"
                                },
                                {
                                    "szoba_id": "49",
                                    "szallas_fk": "5",
                                    "Átlagos létszám": "3"
                                },
                                {
                                    "szoba_id": "49",
                                    "szallas_fk": "5",
                                    "Átlagos létszám": "2"
                                },
                                {
                                    "szoba_id": "49",
                                    "szallas_fk": "5",
                                    "Átlagos létszám": "2"
                                },
                                {
                                    "szoba_id": "49",
                                    "szallas_fk": "5",
                                    "Átlagos létszám": "2"
                                },
                                {
                                    "szoba_id": "49",
                                    "szallas_fk": "5",
                                    "Átlagos létszám": "2"
                                },
                                {
                                    "szoba_id": "49",
                                    "szallas_fk": "5",
                                    "Átlagos létszám": "2"
                                },
                                {
                                    "szoba_id": "50",
                                    "szallas_fk": "6",
                                    "Átlagos létszám": "1"
                                },
                                {
                                    "szoba_id": "50",
                                    "szallas_fk": "6",
                                    "Átlagos létszám": "1"
                                },
                                {
                                    "szoba_id": "50",
                                    "szallas_fk": "6",
                                    "Átlagos létszám": "1"
                                },
                                {
                                    "szoba_id": "50",
                                    "szallas_fk": "6",
                                    "Átlagos létszám": "1"
                                },
                                {
                                    "szoba_id": "51",
                                    "szallas_fk": "6",
                                    "Átlagos létszám": "2"
                                },
                                {
                                    "szoba_id": "51",
                                    "szallas_fk": "6",
                                    "Átlagos létszám": "2"
                                },
                                {
                                    "szoba_id": "51",
                                    "szallas_fk": "6",
                                    "Átlagos létszám": "2"
                                },
                                {
                                    "szoba_id": "51",
                                    "szallas_fk": "6",
                                    "Átlagos létszám": "2"
                                },
                                {
                                    "szoba_id": "51",
                                    "szallas_fk": "6",
                                    "Átlagos létszám": "2"
                                },
                                {
                                    "szoba_id": "52",
                                    "szallas_fk": "6",
                                    "Átlagos létszám": "2"
                                },
                                {
                                    "szoba_id": "52",
                                    "szallas_fk": "6",
                                    "Átlagos létszám": "1"
                                },
                                {
                                    "szoba_id": "52",
                                    "szallas_fk": "6",
                                    "Átlagos létszám": "1"
                                },
                                {
                                    "szoba_id": "52",
                                    "szallas_fk": "6",
                                    "Átlagos létszám": "1"
                                },
                                {
                                    "szoba_id": "52",
                                    "szallas_fk": "6",
                                    "Átlagos létszám": "1"
                                },
                                {
                                    "szoba_id": "53",
                                    "szallas_fk": "6",
                                    "Átlagos létszám": "3"
                                },
                                {
                                    "szoba_id": "53",
                                    "szallas_fk": "6",
                                    "Átlagos létszám": "2"
                                },
                                {
                                    "szoba_id": "54",
                                    "szallas_fk": "6",
                                    "Átlagos létszám": "2"
                                },
                                {
                                    "szoba_id": "54",
                                    "szallas_fk": "6",
                                    "Átlagos létszám": "2"
                                },
                                {
                                    "szoba_id": "54",
                                    "szallas_fk": "6",
                                    "Átlagos létszám": "2"
                                },
                                {
                                    "szoba_id": "54",
                                    "szallas_fk": "6",
                                    "Átlagos létszám": "2"
                                },
                                {
                                    "szoba_id": "54",
                                    "szallas_fk": "6",
                                    "Átlagos létszám": "2"
                                },
                                {
                                    "szoba_id": "54",
                                    "szallas_fk": "6",
                                    "Átlagos létszám": "2"
                                },
                                {
                                    "szoba_id": "55",
                                    "szallas_fk": "6",
                                    "Átlagos létszám": "3"
                                },
                                {
                                    "szoba_id": "55",
                                    "szallas_fk": "6",
                                    "Átlagos létszám": "2"
                                },
                                {
                                    "szoba_id": "55",
                                    "szallas_fk": "6",
                                    "Átlagos létszám": "2"
                                },
                                {
                                    "szoba_id": "55",
                                    "szallas_fk": "6",
                                    "Átlagos létszám": "2"
                                },
                                {
                                    "szoba_id": "55",
                                    "szallas_fk": "6",
                                    "Átlagos létszám": "2"
                                },
                                {
                                    "szoba_id": "55",
                                    "szallas_fk": "6",
                                    "Átlagos létszám": "2"
                                },
                                {
                                    "szoba_id": "55",
                                    "szallas_fk": "6",
                                    "Átlagos létszám": "2"
                                },
                                {
                                    "szoba_id": "55",
                                    "szallas_fk": "6",
                                    "Átlagos létszám": "3"
                                },
                                {
                                    "szoba_id": "56",
                                    "szallas_fk": "6",
                                    "Átlagos létszám": "1"
                                },
                                {
                                    "szoba_id": "56",
                                    "szallas_fk": "6",
                                    "Átlagos létszám": "1"
                                },
                                {
                                    "szoba_id": "57",
                                    "szallas_fk": "6",
                                    "Átlagos létszám": "2"
                                },
                                {
                                    "szoba_id": "57",
                                    "szallas_fk": "6",
                                    "Átlagos létszám": "2"
                                },
                                {
                                    "szoba_id": "57",
                                    "szallas_fk": "6",
                                    "Átlagos létszám": "1"
                                },
                                {
                                    "szoba_id": "57",
                                    "szallas_fk": "6",
                                    "Átlagos létszám": "1"
                                },
                                {
                                    "szoba_id": "58",
                                    "szallas_fk": "6",
                                    "Átlagos létszám": "2"
                                },
                                {
                                    "szoba_id": "58",
                                    "szallas_fk": "6",
                                    "Átlagos létszám": "2"
                                },
                                {
                                    "szoba_id": "58",
                                    "szallas_fk": "6",
                                    "Átlagos létszám": "2"
                                },
                                {
                                    "szoba_id": "58",
                                    "szallas_fk": "6",
                                    "Átlagos létszám": "2"
                                },
                                {
                                    "szoba_id": "58",
                                    "szallas_fk": "6",
                                    "Átlagos létszám": "2"
                                },
                                {
                                    "szoba_id": "58",
                                    "szallas_fk": "6",
                                    "Átlagos létszám": "2"
                                },
                                {
                                    "szoba_id": "58",
                                    "szallas_fk": "6",
                                    "Átlagos létszám": "2"
                                },
                                {
                                    "szoba_id": "58",
                                    "szallas_fk": "6",
                                    "Átlagos létszám": "2"
                                },
                                {
                                    "szoba_id": "58",
                                    "szallas_fk": "6",
                                    "Átlagos létszám": "2"
                                },
                                {
                                    "szoba_id": "58",
                                    "szallas_fk": "6",
                                    "Átlagos létszám": "2"
                                },
                                {
                                    "szoba_id": "58",
                                    "szallas_fk": "6",
                                    "Átlagos létszám": "2"
                                },
                                {
                                    "szoba_id": "58",
                                    "szallas_fk": "6",
                                    "Átlagos létszám": "2"
                                },
                                {
                                    "szoba_id": "58",
                                    "szallas_fk": "6",
                                    "Átlagos létszám": "2"
                                },
                                {
                                    "szoba_id": "59",
                                    "szallas_fk": "6",
                                    "Átlagos létszám": "3"
                                },
                                {
                                    "szoba_id": "59",
                                    "szallas_fk": "6",
                                    "Átlagos létszám": "2"
                                },
                                {
                                    "szoba_id": "59",
                                    "szallas_fk": "6",
                                    "Átlagos létszám": "2"
                                },
                                {
                                    "szoba_id": "59",
                                    "szallas_fk": "6",
                                    "Átlagos létszám": "2"
                                },
                                {
                                    "szoba_id": "59",
                                    "szallas_fk": "6",
                                    "Átlagos létszám": "2"
                                },
                                {
                                    "szoba_id": "59",
                                    "szallas_fk": "6",
                                    "Átlagos létszám": "2"
                                },
                                {
                                    "szoba_id": "59",
                                    "szallas_fk": "6",
                                    "Átlagos létszám": "2"
                                },
                                {
                                    "szoba_id": "60",
                                    "szallas_fk": "6",
                                    "Átlagos létszám": "2"
                                },
                                {
                                    "szoba_id": "61",
                                    "szallas_fk": "6",
                                    "Átlagos létszám": "2"
                                },
                                {
                                    "szoba_id": "61",
                                    "szallas_fk": "6",
                                    "Átlagos létszám": "2"
                                },
                                {
                                    "szoba_id": "61",
                                    "szallas_fk": "6",
                                    "Átlagos létszám": "2"
                                },
                                {
                                    "szoba_id": "61",
                                    "szallas_fk": "6",
                                    "Átlagos létszám": "2"
                                },
                                {
                                    "szoba_id": "61",
                                    "szallas_fk": "6",
                                    "Átlagos létszám": "2"
                                },
                                {
                                    "szoba_id": "62",
                                    "szallas_fk": "6",
                                    "Átlagos létszám": "2"
                                },
                                {
                                    "szoba_id": "62",
                                    "szallas_fk": "6",
                                    "Átlagos létszám": "2"
                                },
                                {
                                    "szoba_id": "62",
                                    "szallas_fk": "6",
                                    "Átlagos létszám": "1"
                                },
                                {
                                    "szoba_id": "62",
                                    "szallas_fk": "6",
                                    "Átlagos létszám": "1"
                                },
                                {
                                    "szoba_id": "62",
                                    "szallas_fk": "6",
                                    "Átlagos létszám": "1"
                                },
                                {
                                    "szoba_id": "63",
                                    "szallas_fk": "6",
                                    "Átlagos létszám": "2"
                                },
                                {
                                    "szoba_id": "63",
                                    "szallas_fk": "6",
                                    "Átlagos létszám": "1"
                                },
                                {
                                    "szoba_id": "63",
                                    "szallas_fk": "6",
                                    "Átlagos létszám": "1"
                                },
                                {
                                    "szoba_id": "63",
                                    "szallas_fk": "6",
                                    "Átlagos létszám": "1"
                                },
                                {
                                    "szoba_id": "64",
                                    "szallas_fk": "6",
                                    "Átlagos létszám": "2"
                                },
                                {
                                    "szoba_id": "64",
                                    "szallas_fk": "6",
                                    "Átlagos létszám": "2"
                                },
                                {
                                    "szoba_id": "64",
                                    "szallas_fk": "6",
                                    "Átlagos létszám": "2"
                                },
                                {
                                    "szoba_id": "64",
                                    "szallas_fk": "6",
                                    "Átlagos létszám": "2"
                                },
                                {
                                    "szoba_id": "64",
                                    "szallas_fk": "6",
                                    "Átlagos létszám": "2"
                                },
                                {
                                    "szoba_id": "64",
                                    "szallas_fk": "6",
                                    "Átlagos létszám": "2"
                                },
                                {
                                    "szoba_id": "65",
                                    "szallas_fk": "6",
                                    "Átlagos létszám": "2"
                                },
                                {
                                    "szoba_id": "66",
                                    "szallas_fk": "6",
                                    "Átlagos létszám": "3"
                                },
                                {
                                    "szoba_id": "66",
                                    "szallas_fk": "6",
                                    "Átlagos létszám": "3"
                                },
                                {
                                    "szoba_id": "66",
                                    "szallas_fk": "6",
                                    "Átlagos létszám": "3"
                                },
                                {
                                    "szoba_id": "66",
                                    "szallas_fk": "6",
                                    "Átlagos létszám": "3"
                                },
                                {
                                    "szoba_id": "67",
                                    "szallas_fk": "6",
                                    "Átlagos létszám": "1"
                                },
                                {
                                    "szoba_id": "67",
                                    "szallas_fk": "6",
                                    "Átlagos létszám": "2"
                                },
                                {
                                    "szoba_id": "67",
                                    "szallas_fk": "6",
                                    "Átlagos létszám": "2"
                                },
                                {
                                    "szoba_id": "67",
                                    "szallas_fk": "6",
                                    "Átlagos létszám": "2"
                                },
                                {
                                    "szoba_id": "67",
                                    "szallas_fk": "6",
                                    "Átlagos létszám": "2"
                                },
                                {
                                    "szoba_id": "67",
                                    "szallas_fk": "6",
                                    "Átlagos létszám": "3"
                                },
                                {
                                    "szoba_id": "68",
                                    "szallas_fk": "6",
                                    "Átlagos létszám": "4"
                                },
                                {
                                    "szoba_id": "68",
                                    "szallas_fk": "6",
                                    "Átlagos létszám": "4"
                                },
                                {
                                    "szoba_id": "68",
                                    "szallas_fk": "6",
                                    "Átlagos létszám": "4"
                                },
                                {
                                    "szoba_id": "69",
                                    "szallas_fk": "6",
                                    "Átlagos létszám": "3"
                                },
                                {
                                    "szoba_id": "69",
                                    "szallas_fk": "6",
                                    "Átlagos létszám": "3"
                                },
                                {
                                    "szoba_id": "69",
                                    "szallas_fk": "6",
                                    "Átlagos létszám": "2"
                                },
                                {
                                    "szoba_id": "69",
                                    "szallas_fk": "6",
                                    "Átlagos létszám": "2"
                                },
                                {
                                    "szoba_id": "70",
                                    "szallas_fk": "6",
                                    "Átlagos létszám": "3"
                                },
                                {
                                    "szoba_id": "70",
                                    "szallas_fk": "6",
                                    "Átlagos létszám": "2"
                                },
                                {
                                    "szoba_id": "70",
                                    "szallas_fk": "6",
                                    "Átlagos létszám": "1"
                                },
                                {
                                    "szoba_id": "70",
                                    "szallas_fk": "6",
                                    "Átlagos létszám": "2"
                                },
                                {
                                    "szoba_id": "70",
                                    "szallas_fk": "6",
                                    "Átlagos létszám": "2"
                                },
                                {
                                    "szoba_id": "70",
                                    "szallas_fk": "6",
                                    "Átlagos létszám": "2"
                                },
                                {
                                    "szoba_id": "70",
                                    "szallas_fk": "6",
                                    "Átlagos létszám": "2"
                                },
                                {
                                    "szoba_id": "70",
                                    "szallas_fk": "6",
                                    "Átlagos létszám": "2"
                                },
                                {
                                    "szoba_id": "70",
                                    "szallas_fk": "6",
                                    "Átlagos létszám": "2"
                                },
                                {
                                    "szoba_id": "70",
                                    "szallas_fk": "6",
                                    "Átlagos létszám": "2"
                                },
                                {
                                    "szoba_id": "70",
                                    "szallas_fk": "6",
                                    "Átlagos létszám": "2"
                                },
                                {
                                    "szoba_id": "71",
                                    "szallas_fk": "6",
                                    "Átlagos létszám": "3"
                                },
                                {
                                    "szoba_id": "71",
                                    "szallas_fk": "6",
                                    "Átlagos létszám": "2"
                                },
                                {
                                    "szoba_id": "71",
                                    "szallas_fk": "6",
                                    "Átlagos létszám": "2"
                                },
                                {
                                    "szoba_id": "72",
                                    "szallas_fk": "6",
                                    "Átlagos létszám": "2"
                                },
                                {
                                    "szoba_id": "72",
                                    "szallas_fk": "6",
                                    "Átlagos létszám": "2"
                                },
                                {
                                    "szoba_id": "72",
                                    "szallas_fk": "6",
                                    "Átlagos létszám": "2"
                                },
                                {
                                    "szoba_id": "72",
                                    "szallas_fk": "6",
                                    "Átlagos létszám": "1"
                                },
                                {
                                    "szoba_id": "73",
                                    "szallas_fk": "6",
                                    "Átlagos létszám": "2"
                                },
                                {
                                    "szoba_id": "73",
                                    "szallas_fk": "6",
                                    "Átlagos létszám": "2"
                                },
                                {
                                    "szoba_id": "73",
                                    "szallas_fk": "6",
                                    "Átlagos létszám": "2"
                                },
                                {
                                    "szoba_id": "73",
                                    "szallas_fk": "6",
                                    "Átlagos létszám": "2"
                                },
                                {
                                    "szoba_id": "74",
                                    "szallas_fk": "6",
                                    "Átlagos létszám": "2"
                                },
                                {
                                    "szoba_id": "74",
                                    "szallas_fk": "6",
                                    "Átlagos létszám": "2"
                                },
                                {
                                    "szoba_id": "74",
                                    "szallas_fk": "6",
                                    "Átlagos létszám": "3"
                                },
                                {
                                    "szoba_id": "74",
                                    "szallas_fk": "6",
                                    "Átlagos létszám": "3"
                                },
                                {
                                    "szoba_id": "74",
                                    "szallas_fk": "6",
                                    "Átlagos létszám": "3"
                                },
                                {
                                    "szoba_id": "74",
                                    "szallas_fk": "6",
                                    "Átlagos létszám": "3"
                                },
                                {
                                    "szoba_id": "74",
                                    "szallas_fk": "6",
                                    "Átlagos létszám": "3"
                                },
                                {
                                    "szoba_id": "74",
                                    "szallas_fk": "6",
                                    "Átlagos létszám": "3"
                                },
                                {
                                    "szoba_id": "74",
                                    "szallas_fk": "6",
                                    "Átlagos létszám": "3"
                                },
                                {
                                    "szoba_id": "75",
                                    "szallas_fk": "6",
                                    "Átlagos létszám": "2"
                                },
                                {
                                    "szoba_id": "75",
                                    "szallas_fk": "6",
                                    "Átlagos létszám": "2"
                                },
                                {
                                    "szoba_id": "75",
                                    "szallas_fk": "6",
                                    "Átlagos létszám": "2"
                                },
                                {
                                    "szoba_id": "76",
                                    "szallas_fk": "6",
                                    "Átlagos létszám": "1"
                                },
                                {
                                    "szoba_id": "76",
                                    "szallas_fk": "6",
                                    "Átlagos létszám": "1"
                                },
                                {
                                    "szoba_id": "76",
                                    "szallas_fk": "6",
                                    "Átlagos létszám": "1"
                                },
                                {
                                    "szoba_id": "77",
                                    "szallas_fk": "6",
                                    "Átlagos létszám": "3"
                                },
                                {
                                    "szoba_id": "77",
                                    "szallas_fk": "6",
                                    "Átlagos létszám": "3"
                                },
                                {
                                    "szoba_id": "77",
                                    "szallas_fk": "6",
                                    "Átlagos létszám": "3"
                                },
                                {
                                    "szoba_id": "77",
                                    "szallas_fk": "6",
                                    "Átlagos létszám": "3"
                                },
                                {
                                    "szoba_id": "77",
                                    "szallas_fk": "6",
                                    "Átlagos létszám": "3"
                                },
                                {
                                    "szoba_id": "77",
                                    "szallas_fk": "6",
                                    "Átlagos létszám": "2"
                                },
                                {
                                    "szoba_id": "78",
                                    "szallas_fk": "6",
                                    "Átlagos létszám": "2"
                                },
                                {
                                    "szoba_id": "78",
                                    "szallas_fk": "6",
                                    "Átlagos létszám": "2"
                                },
                                {
                                    "szoba_id": "78",
                                    "szallas_fk": "6",
                                    "Átlagos létszám": "2"
                                },
                                {
                                    "szoba_id": "78",
                                    "szallas_fk": "6",
                                    "Átlagos létszám": "2"
                                },
                                {
                                    "szoba_id": "78",
                                    "szallas_fk": "6",
                                    "Átlagos létszám": "2"
                                },
                                {
                                    "szoba_id": "78",
                                    "szallas_fk": "6",
                                    "Átlagos létszám": "2"
                                },
                                {
                                    "szoba_id": "79",
                                    "szallas_fk": "6",
                                    "Átlagos létszám": "3"
                                },
                                {
                                    "szoba_id": "79",
                                    "szallas_fk": "6",
                                    "Átlagos létszám": "3"
                                },
                                {
                                    "szoba_id": "79",
                                    "szallas_fk": "6",
                                    "Átlagos létszám": "3"
                                },
                                {
                                    "szoba_id": "79",
                                    "szallas_fk": "6",
                                    "Átlagos létszám": "2"
                                },
                                {
                                    "szoba_id": "79",
                                    "szallas_fk": "6",
                                    "Átlagos létszám": "2"
                                },
                                {
                                    "szoba_id": "80",
                                    "szallas_fk": "6",
                                    "Átlagos létszám": "2"
                                },
                                {
                                    "szoba_id": "80",
                                    "szallas_fk": "6",
                                    "Átlagos létszám": "2"
                                },
                                {
                                    "szoba_id": "80",
                                    "szallas_fk": "6",
                                    "Átlagos létszám": "2"
                                },
                                {
                                    "szoba_id": "80",
                                    "szallas_fk": "6",
                                    "Átlagos létszám": "2"
                                },
                                {
                                    "szoba_id": "80",
                                    "szallas_fk": "6",
                                    "Átlagos létszám": "2"
                                },
                                {
                                    "szoba_id": "80",
                                    "szallas_fk": "6",
                                    "Átlagos létszám": "2"
                                },
                                {
                                    "szoba_id": "80",
                                    "szallas_fk": "6",
                                    "Átlagos létszám": "2"
                                },
                                {
                                    "szoba_id": "81",
                                    "szallas_fk": "6",
                                    "Átlagos létszám": "1"
                                },
                                {
                                    "szoba_id": "81",
                                    "szallas_fk": "6",
                                    "Átlagos létszám": "1"
                                },
                                {
                                    "szoba_id": "81",
                                    "szallas_fk": "6",
                                    "Átlagos létszám": "1"
                                },
                                {
                                    "szoba_id": "81",
                                    "szallas_fk": "6",
                                    "Átlagos létszám": "1"
                                },
                                {
                                    "szoba_id": "81",
                                    "szallas_fk": "6",
                                    "Átlagos létszám": "1"
                                },
                                {
                                    "szoba_id": "82",
                                    "szallas_fk": "6",
                                    "Átlagos létszám": "3"
                                },
                                {
                                    "szoba_id": "82",
                                    "szallas_fk": "6",
                                    "Átlagos létszám": "3"
                                },
                                {
                                    "szoba_id": "82",
                                    "szallas_fk": "6",
                                    "Átlagos létszám": "2"
                                },
                                {
                                    "szoba_id": "82",
                                    "szallas_fk": "6",
                                    "Átlagos létszám": "2"
                                },
                                {
                                    "szoba_id": "82",
                                    "szallas_fk": "6",
                                    "Átlagos létszám": "2"
                                },
                                {
                                    "szoba_id": "82",
                                    "szallas_fk": "6",
                                    "Átlagos létszám": "2"
                                },
                                {
                                    "szoba_id": "83",
                                    "szallas_fk": "6",
                                    "Átlagos létszám": "2"
                                },
                                {
                                    "szoba_id": "83",
                                    "szallas_fk": "6",
                                    "Átlagos létszám": "2"
                                },
                                {
                                    "szoba_id": "83",
                                    "szallas_fk": "6",
                                    "Átlagos létszám": "2"
                                },
                                {
                                    "szoba_id": "83",
                                    "szallas_fk": "6",
                                    "Átlagos létszám": "2"
                                },
                                {
                                    "szoba_id": "83",
                                    "szallas_fk": "6",
                                    "Átlagos létszám": "2"
                                },
                                {
                                    "szoba_id": "83",
                                    "szallas_fk": "6",
                                    "Átlagos létszám": "2"
                                },
                                {
                                    "szoba_id": "83",
                                    "szallas_fk": "6",
                                    "Átlagos létszám": "2"
                                },
                                {
                                    "szoba_id": "83",
                                    "szallas_fk": "6",
                                    "Átlagos létszám": "2"
                                },
                                {
                                    "szoba_id": "84",
                                    "szallas_fk": "6",
                                    "Átlagos létszám": "1"
                                },
                                {
                                    "szoba_id": "84",
                                    "szallas_fk": "6",
                                    "Átlagos létszám": "1"
                                },
                                {
                                    "szoba_id": "84",
                                    "szallas_fk": "6",
                                    "Átlagos létszám": "2"
                                },
                                {
                                    "szoba_id": "84",
                                    "szallas_fk": "6",
                                    "Átlagos létszám": "1"
                                },
                                {
                                    "szoba_id": "85",
                                    "szallas_fk": "7",
                                    "Átlagos létszám": "2"
                                },
                                {
                                    "szoba_id": "85",
                                    "szallas_fk": "7",
                                    "Átlagos létszám": "2"
                                },
                                {
                                    "szoba_id": "85",
                                    "szallas_fk": "7",
                                    "Átlagos létszám": "2"
                                },
                                {
                                    "szoba_id": "85",
                                    "szallas_fk": "7",
                                    "Átlagos létszám": "2"
                                },
                                {
                                    "szoba_id": "86",
                                    "szallas_fk": "7",
                                    "Átlagos létszám": "3"
                                },
                                {
                                    "szoba_id": "86",
                                    "szallas_fk": "7",
                                    "Átlagos létszám": "2"
                                },
                                {
                                    "szoba_id": "86",
                                    "szallas_fk": "7",
                                    "Átlagos létszám": "1"
                                },
                                {
                                    "szoba_id": "86",
                                    "szallas_fk": "7",
                                    "Átlagos létszám": "1"
                                },
                                {
                                    "szoba_id": "86",
                                    "szallas_fk": "7",
                                    "Átlagos létszám": "2"
                                },
                                {
                                    "szoba_id": "87",
                                    "szallas_fk": "7",
                                    "Átlagos létszám": "3"
                                },
                                {
                                    "szoba_id": "87",
                                    "szallas_fk": "7",
                                    "Átlagos létszám": "3"
                                },
                                {
                                    "szoba_id": "87",
                                    "szallas_fk": "7",
                                    "Átlagos létszám": "2"
                                },
                                {
                                    "szoba_id": "87",
                                    "szallas_fk": "7",
                                    "Átlagos létszám": "2"
                                },
                                {
                                    "szoba_id": "87",
                                    "szallas_fk": "7",
                                    "Átlagos létszám": "2"
                                },
                                {
                                    "szoba_id": "88",
                                    "szallas_fk": "7",
                                    "Átlagos létszám": "2"
                                },
                                {
                                    "szoba_id": "88",
                                    "szallas_fk": "7",
                                    "Átlagos létszám": "1"
                                },
                                {
                                    "szoba_id": "88",
                                    "szallas_fk": "7",
                                    "Átlagos létszám": "2"
                                },
                                {
                                    "szoba_id": "88",
                                    "szallas_fk": "7",
                                    "Átlagos létszám": "2"
                                },
                                {
                                    "szoba_id": "88",
                                    "szallas_fk": "7",
                                    "Átlagos létszám": "2"
                                },
                                {
                                    "szoba_id": "88",
                                    "szallas_fk": "7",
                                    "Átlagos létszám": "2"
                                },
                                {
                                    "szoba_id": "88",
                                    "szallas_fk": "7",
                                    "Átlagos létszám": "3"
                                },
                                {
                                    "szoba_id": "88",
                                    "szallas_fk": "7",
                                    "Átlagos létszám": "2"
                                },
                                {
                                    "szoba_id": "89",
                                    "szallas_fk": "7",
                                    "Átlagos létszám": "3"
                                },
                                {
                                    "szoba_id": "89",
                                    "szallas_fk": "7",
                                    "Átlagos létszám": "2"
                                },
                                {
                                    "szoba_id": "89",
                                    "szallas_fk": "7",
                                    "Átlagos létszám": "2"
                                },
                                {
                                    "szoba_id": "89",
                                    "szallas_fk": "7",
                                    "Átlagos létszám": "2"
                                },
                                {
                                    "szoba_id": "89",
                                    "szallas_fk": "7",
                                    "Átlagos létszám": "2"
                                },
                                {
                                    "szoba_id": "89",
                                    "szallas_fk": "7",
                                    "Átlagos létszám": "2"
                                },
                                {
                                    "szoba_id": "89",
                                    "szallas_fk": "7",
                                    "Átlagos létszám": "2"
                                },
                                {
                                    "szoba_id": "89",
                                    "szallas_fk": "7",
                                    "Átlagos létszám": "2"
                                },
                                {
                                    "szoba_id": "90",
                                    "szallas_fk": "7",
                                    "Átlagos létszám": "2"
                                },
                                {
                                    "szoba_id": "90",
                                    "szallas_fk": "7",
                                    "Átlagos létszám": "2"
                                },
                                {
                                    "szoba_id": "90",
                                    "szallas_fk": "7",
                                    "Átlagos létszám": "2"
                                },
                                {
                                    "szoba_id": "90",
                                    "szallas_fk": "7",
                                    "Átlagos létszám": "2"
                                },
                                {
                                    "szoba_id": "91",
                                    "szallas_fk": "8",
                                    "Átlagos létszám": "2"
                                },
                                {
                                    "szoba_id": "91",
                                    "szallas_fk": "8",
                                    "Átlagos létszám": "2"
                                },
                                {
                                    "szoba_id": "91",
                                    "szallas_fk": "8",
                                    "Átlagos létszám": "1"
                                },
                                {
                                    "szoba_id": "91",
                                    "szallas_fk": "8",
                                    "Átlagos létszám": "1"
                                },
                                {
                                    "szoba_id": "92",
                                    "szallas_fk": "8",
                                    "Átlagos létszám": "4"
                                },
                                {
                                    "szoba_id": "92",
                                    "szallas_fk": "8",
                                    "Átlagos létszám": "3"
                                },
                                {
                                    "szoba_id": "92",
                                    "szallas_fk": "8",
                                    "Átlagos létszám": "3"
                                },
                                {
                                    "szoba_id": "92",
                                    "szallas_fk": "8",
                                    "Átlagos létszám": "3"
                                },
                                {
                                    "szoba_id": "92",
                                    "szallas_fk": "8",
                                    "Átlagos létszám": "3"
                                },
                                {
                                    "szoba_id": "92",
                                    "szallas_fk": "8",
                                    "Átlagos létszám": "3"
                                },
                                {
                                    "szoba_id": "93",
                                    "szallas_fk": "8",
                                    "Átlagos létszám": "4"
                                },
                                {
                                    "szoba_id": "93",
                                    "szallas_fk": "8",
                                    "Átlagos létszám": "2"
                                },
                                {
                                    "szoba_id": "93",
                                    "szallas_fk": "8",
                                    "Átlagos létszám": "3"
                                },
                                {
                                    "szoba_id": "93",
                                    "szallas_fk": "8",
                                    "Átlagos létszám": "3"
                                },
                                {
                                    "szoba_id": "93",
                                    "szallas_fk": "8",
                                    "Átlagos létszám": "3"
                                },
                                {
                                    "szoba_id": "94",
                                    "szallas_fk": "8",
                                    "Átlagos létszám": "2"
                                },
                                {
                                    "szoba_id": "94",
                                    "szallas_fk": "8",
                                    "Átlagos létszám": "2"
                                },
                                {
                                    "szoba_id": "94",
                                    "szallas_fk": "8",
                                    "Átlagos létszám": "2"
                                },
                                {
                                    "szoba_id": "94",
                                    "szallas_fk": "8",
                                    "Átlagos létszám": "2"
                                },
                                {
                                    "szoba_id": "94",
                                    "szallas_fk": "8",
                                    "Átlagos létszám": "2"
                                },
                                {
                                    "szoba_id": "94",
                                    "szallas_fk": "8",
                                    "Átlagos létszám": "2"
                                },
                                {
                                    "szoba_id": "94",
                                    "szallas_fk": "8",
                                    "Átlagos létszám": "1"
                                },
                                {
                                    "szoba_id": "94",
                                    "szallas_fk": "8",
                                    "Átlagos létszám": "1"
                                },
                                {
                                    "szoba_id": "94",
                                    "szallas_fk": "8",
                                    "Átlagos létszám": "1"
                                },
                                {
                                    "szoba_id": "94",
                                    "szallas_fk": "8",
                                    "Átlagos létszám": "1"
                                },
                                {
                                    "szoba_id": "95",
                                    "szallas_fk": "8",
                                    "Átlagos létszám": "2"
                                },
                                {
                                    "szoba_id": "95",
                                    "szallas_fk": "8",
                                    "Átlagos létszám": "1"
                                },
                                {
                                    "szoba_id": "95",
                                    "szallas_fk": "8",
                                    "Átlagos létszám": "2"
                                },
                                {
                                    "szoba_id": "95",
                                    "szallas_fk": "8",
                                    "Átlagos létszám": "1"
                                },
                                {
                                    "szoba_id": "96",
                                    "szallas_fk": "8",
                                    "Átlagos létszám": "3"
                                },
                                {
                                    "szoba_id": "96",
                                    "szallas_fk": "8",
                                    "Átlagos létszám": "3"
                                },
                                {
                                    "szoba_id": "96",
                                    "szallas_fk": "8",
                                    "Átlagos létszám": "3"
                                },
                                {
                                    "szoba_id": "96",
                                    "szallas_fk": "8",
                                    "Átlagos létszám": "2"
                                },
                                {
                                    "szoba_id": "96",
                                    "szallas_fk": "8",
                                    "Átlagos létszám": "2"
                                },
                                {
                                    "szoba_id": "96",
                                    "szallas_fk": "8",
                                    "Átlagos létszám": "2"
                                },
                                {
                                    "szoba_id": "96",
                                    "szallas_fk": "8",
                                    "Átlagos létszám": "2"
                                },
                                {
                                    "szoba_id": "97",
                                    "szallas_fk": "8",
                                    "Átlagos létszám": "4"
                                },
                                {
                                    "szoba_id": "97",
                                    "szallas_fk": "8",
                                    "Átlagos létszám": "4"
                                },
                                {
                                    "szoba_id": "97",
                                    "szallas_fk": "8",
                                    "Átlagos létszám": "4"
                                },
                                {
                                    "szoba_id": "97",
                                    "szallas_fk": "8",
                                    "Átlagos létszám": "3"
                                },
                                {
                                    "szoba_id": "97",
                                    "szallas_fk": "8",
                                    "Átlagos létszám": "3"
                                },
                                {
                                    "szoba_id": "97",
                                    "szallas_fk": "8",
                                    "Átlagos létszám": "3"
                                },
                                {
                                    "szoba_id": "97",
                                    "szallas_fk": "8",
                                    "Átlagos létszám": "3"
                                },
                                {
                                    "szoba_id": "98",
                                    "szallas_fk": "8",
                                    "Átlagos létszám": "1"
                                },
                                {
                                    "szoba_id": "98",
                                    "szallas_fk": "8",
                                    "Átlagos létszám": "1"
                                },
                                {
                                    "szoba_id": "98",
                                    "szallas_fk": "8",
                                    "Átlagos létszám": "1"
                                },
                                {
                                    "szoba_id": "98",
                                    "szallas_fk": "8",
                                    "Átlagos létszám": "1"
                                },
                                {
                                    "szoba_id": "99",
                                    "szallas_fk": "8",
                                    "Átlagos létszám": "2"
                                },
                                {
                                    "szoba_id": "99",
                                    "szallas_fk": "8",
                                    "Átlagos létszám": "2"
                                },
                                {
                                    "szoba_id": "99",
                                    "szallas_fk": "8",
                                    "Átlagos létszám": "2"
                                },
                                {
                                    "szoba_id": "99",
                                    "szallas_fk": "8",
                                    "Átlagos létszám": "2"
                                },
                                {
                                    "szoba_id": "99",
                                    "szallas_fk": "8",
                                    "Átlagos létszám": "2"
                                },
                                {
                                    "szoba_id": "100",
                                    "szallas_fk": "8",
                                    "Átlagos létszám": "2"
                                },
                                {
                                    "szoba_id": "100",
                                    "szallas_fk": "8",
                                    "Átlagos létszám": "2"
                                },
                                {
                                    "szoba_id": "100",
                                    "szallas_fk": "8",
                                    "Átlagos létszám": "2"
                                },
                                {
                                    "szoba_id": "100",
                                    "szallas_fk": "8",
                                    "Átlagos létszám": "2"
                                },
                                {
                                    "szoba_id": "101",
                                    "szallas_fk": "8",
                                    "Átlagos létszám": "2"
                                },
                                {
                                    "szoba_id": "101",
                                    "szallas_fk": "8",
                                    "Átlagos létszám": "2"
                                },
                                {
                                    "szoba_id": "101",
                                    "szallas_fk": "8",
                                    "Átlagos létszám": "2"
                                },
                                {
                                    "szoba_id": "102",
                                    "szallas_fk": "8",
                                    "Átlagos létszám": "1"
                                },
                                {
                                    "szoba_id": "102",
                                    "szallas_fk": "8",
                                    "Átlagos létszám": "1"
                                },
                                {
                                    "szoba_id": "103",
                                    "szallas_fk": "8",
                                    "Átlagos létszám": "3"
                                },
                                {
                                    "szoba_id": "103",
                                    "szallas_fk": "8",
                                    "Átlagos létszám": "2"
                                },
                                {
                                    "szoba_id": "103",
                                    "szallas_fk": "8",
                                    "Átlagos létszám": "2"
                                },
                                {
                                    "szoba_id": "103",
                                    "szallas_fk": "8",
                                    "Átlagos létszám": "2"
                                },
                                {
                                    "szoba_id": "104",
                                    "szallas_fk": "8",
                                    "Átlagos létszám": "3"
                                },
                                {
                                    "szoba_id": "104",
                                    "szallas_fk": "8",
                                    "Átlagos létszám": "3"
                                },
                                {
                                    "szoba_id": "104",
                                    "szallas_fk": "8",
                                    "Átlagos létszám": "3"
                                },
                                {
                                    "szoba_id": "104",
                                    "szallas_fk": "8",
                                    "Átlagos létszám": "2"
                                },
                                {
                                    "szoba_id": "105",
                                    "szallas_fk": "8",
                                    "Átlagos létszám": "2"
                                },
                                {
                                    "szoba_id": "105",
                                    "szallas_fk": "8",
                                    "Átlagos létszám": "2"
                                },
                                {
                                    "szoba_id": "106",
                                    "szallas_fk": "8",
                                    "Átlagos létszám": "1"
                                },
                                {
                                    "szoba_id": "106",
                                    "szallas_fk": "8",
                                    "Átlagos létszám": "1"
                                },
                                {
                                    "szoba_id": "106",
                                    "szallas_fk": "8",
                                    "Átlagos létszám": "1"
                                },
                                {
                                    "szoba_id": "106",
                                    "szallas_fk": "8",
                                    "Átlagos létszám": "1"
                                },
                                {
                                    "szoba_id": "106",
                                    "szallas_fk": "8",
                                    "Átlagos létszám": "1"
                                },
                                {
                                    "szoba_id": "106",
                                    "szallas_fk": "8",
                                    "Átlagos létszám": "1"
                                },
                                {
                                    "szoba_id": "107",
                                    "szallas_fk": "8",
                                    "Átlagos létszám": "1"
                                },
                                {
                                    "szoba_id": "107",
                                    "szallas_fk": "8",
                                    "Átlagos létszám": "1"
                                },
                                {
                                    "szoba_id": "107",
                                    "szallas_fk": "8",
                                    "Átlagos létszám": "1"
                                },
                                {
                                    "szoba_id": "107",
                                    "szallas_fk": "8",
                                    "Átlagos létszám": "2"
                                },
                                {
                                    "szoba_id": "107",
                                    "szallas_fk": "8",
                                    "Átlagos létszám": "2"
                                },
                                {
                                    "szoba_id": "108",
                                    "szallas_fk": "8",
                                    "Átlagos létszám": "1"
                                },
                                {
                                    "szoba_id": "108",
                                    "szallas_fk": "8",
                                    "Átlagos létszám": "1"
                                },
                                {
                                    "szoba_id": "109",
                                    "szallas_fk": "8",
                                    "Átlagos létszám": "3"
                                },
                                {
                                    "szoba_id": "109",
                                    "szallas_fk": "8",
                                    "Átlagos létszám": "2"
                                },
                                {
                                    "szoba_id": "109",
                                    "szallas_fk": "8",
                                    "Átlagos létszám": "2"
                                },
                                {
                                    "szoba_id": "109",
                                    "szallas_fk": "8",
                                    "Átlagos létszám": "2"
                                },
                                {
                                    "szoba_id": "109",
                                    "szallas_fk": "8",
                                    "Átlagos létszám": "2"
                                },
                                {
                                    "szoba_id": "109",
                                    "szallas_fk": "8",
                                    "Átlagos létszám": "2"
                                },
                                {
                                    "szoba_id": "109",
                                    "szallas_fk": "8",
                                    "Átlagos létszám": "2"
                                },
                                {
                                    "szoba_id": "110",
                                    "szallas_fk": "8",
                                    "Átlagos létszám": "2"
                                },
                                {
                                    "szoba_id": "110",
                                    "szallas_fk": "8",
                                    "Átlagos létszám": "2"
                                },
                                {
                                    "szoba_id": "110",
                                    "szallas_fk": "8",
                                    "Átlagos létszám": "2"
                                },
                                {
                                    "szoba_id": "110",
                                    "szallas_fk": "8",
                                    "Átlagos létszám": "2"
                                },
                                {
                                    "szoba_id": "110",
                                    "szallas_fk": "8",
                                    "Átlagos létszám": "1"
                                },
                                {
                                    "szoba_id": "110",
                                    "szallas_fk": "8",
                                    "Átlagos létszám": "1"
                                },
                                {
                                    "szoba_id": "110",
                                    "szallas_fk": "8",
                                    "Átlagos létszám": "1"
                                },
                                {
                                    "szoba_id": "110",
                                    "szallas_fk": "8",
                                    "Átlagos létszám": "1"
                                },
                                {
                                    "szoba_id": "111",
                                    "szallas_fk": "8",
                                    "Átlagos létszám": "3"
                                },
                                {
                                    "szoba_id": "111",
                                    "szallas_fk": "8",
                                    "Átlagos létszám": "2"
                                },
                                {
                                    "szoba_id": "111",
                                    "szallas_fk": "8",
                                    "Átlagos létszám": "2"
                                },
                                {
                                    "szoba_id": "111",
                                    "szallas_fk": "8",
                                    "Átlagos létszám": "2"
                                },
                                {
                                    "szoba_id": "111",
                                    "szallas_fk": "8",
                                    "Átlagos létszám": "2"
                                },
                                {
                                    "szoba_id": "112",
                                    "szallas_fk": "8",
                                    "Átlagos létszám": "3"
                                },
                                {
                                    "szoba_id": "112",
                                    "szallas_fk": "8",
                                    "Átlagos létszám": "3"
                                },
                                {
                                    "szoba_id": "112",
                                    "szallas_fk": "8",
                                    "Átlagos létszám": "3"
                                },
                                {
                                    "szoba_id": "112",
                                    "szallas_fk": "8",
                                    "Átlagos létszám": "3"
                                },
                                {
                                    "szoba_id": "112",
                                    "szallas_fk": "8",
                                    "Átlagos létszám": "3"
                                },
                                {
                                    "szoba_id": "113",
                                    "szallas_fk": "8",
                                    "Átlagos létszám": "4"
                                },
                                {
                                    "szoba_id": "113",
                                    "szallas_fk": "8",
                                    "Átlagos létszám": "4"
                                },
                                {
                                    "szoba_id": "113",
                                    "szallas_fk": "8",
                                    "Átlagos létszám": "4"
                                },
                                {
                                    "szoba_id": "113",
                                    "szallas_fk": "8",
                                    "Átlagos létszám": "4"
                                },
                                {
                                    "szoba_id": "113",
                                    "szallas_fk": "8",
                                    "Átlagos létszám": "4"
                                },
                                {
                                    "szoba_id": "114",
                                    "szallas_fk": "8",
                                    "Átlagos létszám": "2"
                                },
                                {
                                    "szoba_id": "114",
                                    "szallas_fk": "8",
                                    "Átlagos létszám": "2"
                                },
                                {
                                    "szoba_id": "114",
                                    "szallas_fk": "8",
                                    "Átlagos létszám": "2"
                                },
                                {
                                    "szoba_id": "114",
                                    "szallas_fk": "8",
                                    "Átlagos létszám": "2"
                                },
                                {
                                    "szoba_id": "115",
                                    "szallas_fk": "8",
                                    "Átlagos létszám": "3"
                                },
                                {
                                    "szoba_id": "115",
                                    "szallas_fk": "8",
                                    "Átlagos létszám": "3"
                                },
                                {
                                    "szoba_id": "115",
                                    "szallas_fk": "8",
                                    "Átlagos létszám": "3"
                                },
                                {
                                    "szoba_id": "115",
                                    "szallas_fk": "8",
                                    "Átlagos létszám": "2"
                                },
                                {
                                    "szoba_id": "115",
                                    "szallas_fk": "8",
                                    "Átlagos létszám": "2"
                                },
                                {
                                    "szoba_id": "115",
                                    "szallas_fk": "8",
                                    "Átlagos létszám": "2"
                                },
                                {
                                    "szoba_id": "115",
                                    "szallas_fk": "8",
                                    "Átlagos létszám": "2"
                                },
                                {
                                    "szoba_id": "116",
                                    "szallas_fk": "8",
                                    "Átlagos létszám": "2"
                                },
                                {
                                    "szoba_id": "116",
                                    "szallas_fk": "8",
                                    "Átlagos létszám": "2"
                                },
                                {
                                    "szoba_id": "117",
                                    "szallas_fk": "8",
                                    "Átlagos létszám": "2"
                                },
                                {
                                    "szoba_id": "117",
                                    "szallas_fk": "8",
                                    "Átlagos létszám": "2"
                                },
                                {
                                    "szoba_id": "117",
                                    "szallas_fk": "8",
                                    "Átlagos létszám": "2"
                                },
                                {
                                    "szoba_id": "117",
                                    "szallas_fk": "8",
                                    "Átlagos létszám": "2"
                                },
                                {
                                    "szoba_id": "117",
                                    "szallas_fk": "8",
                                    "Átlagos létszám": "3"
                                },
                                {
                                    "szoba_id": "117",
                                    "szallas_fk": "8",
                                    "Átlagos létszám": "3"
                                },
                                {
                                    "szoba_id": "117",
                                    "szallas_fk": "8",
                                    "Átlagos létszám": "3"
                                },
                                {
                                    "szoba_id": "117",
                                    "szallas_fk": "8",
                                    "Átlagos létszám": "3"
                                },
                                {
                                    "szoba_id": "118",
                                    "szallas_fk": "8",
                                    "Átlagos létszám": "2"
                                },
                                {
                                    "szoba_id": "118",
                                    "szallas_fk": "8",
                                    "Átlagos létszám": "2"
                                },
                                {
                                    "szoba_id": "118",
                                    "szallas_fk": "8",
                                    "Átlagos létszám": "2"
                                },
                                {
                                    "szoba_id": "118",
                                    "szallas_fk": "8",
                                    "Átlagos létszám": "2"
                                },
                                {
                                    "szoba_id": "118",
                                    "szallas_fk": "8",
                                    "Átlagos létszám": "2"
                                },
                                {
                                    "szoba_id": "118",
                                    "szallas_fk": "8",
                                    "Átlagos létszám": "2"
                                },
                                {
                                    "szoba_id": "118",
                                    "szallas_fk": "8",
                                    "Átlagos létszám": "2"
                                },
                                {
                                    "szoba_id": "119",
                                    "szallas_fk": "8",
                                    "Átlagos létszám": "1"
                                },
                                {
                                    "szoba_id": "119",
                                    "szallas_fk": "8",
                                    "Átlagos létszám": "1"
                                },
                                {
                                    "szoba_id": "119",
                                    "szallas_fk": "8",
                                    "Átlagos létszám": "1"
                                },
                                {
                                    "szoba_id": "119",
                                    "szallas_fk": "8",
                                    "Átlagos létszám": "1"
                                },
                                {
                                    "szoba_id": "119",
                                    "szallas_fk": "8",
                                    "Átlagos létszám": "1"
                                },
                                {
                                    "szoba_id": "120",
                                    "szallas_fk": "8",
                                    "Átlagos létszám": "4"
                                },
                                {
                                    "szoba_id": "120",
                                    "szallas_fk": "8",
                                    "Átlagos létszám": "3"
                                },
                                {
                                    "szoba_id": "120",
                                    "szallas_fk": "8",
                                    "Átlagos létszám": "3"
                                },
                                {
                                    "szoba_id": "120",
                                    "szallas_fk": "8",
                                    "Átlagos létszám": "2"
                                },
                                {
                                    "szoba_id": "120",
                                    "szallas_fk": "8",
                                    "Átlagos létszám": "2"
                                },
                                {
                                    "szoba_id": "120",
                                    "szallas_fk": "8",
                                    "Átlagos létszám": "2"
                                },
                                {
                                    "szoba_id": "121",
                                    "szallas_fk": "8",
                                    "Átlagos létszám": "1"
                                },
                                {
                                    "szoba_id": "121",
                                    "szallas_fk": "8",
                                    "Átlagos létszám": "1"
                                },
                                {
                                    "szoba_id": "121",
                                    "szallas_fk": "8",
                                    "Átlagos létszám": "1"
                                },
                                {
                                    "szoba_id": "121",
                                    "szallas_fk": "8",
                                    "Átlagos létszám": "1"
                                },
                                {
                                    "szoba_id": "121",
                                    "szallas_fk": "8",
                                    "Átlagos létszám": "2"
                                },
                                {
                                    "szoba_id": "121",
                                    "szallas_fk": "8",
                                    "Átlagos létszám": "2"
                                },
                                {
                                    "szoba_id": "121",
                                    "szallas_fk": "8",
                                    "Átlagos létszám": "2"
                                },
                                {
                                    "szoba_id": "121",
                                    "szallas_fk": "8",
                                    "Átlagos létszám": "2"
                                },
                                {
                                    "szoba_id": "122",
                                    "szallas_fk": "8",
                                    "Átlagos létszám": "3"
                                },
                                {
                                    "szoba_id": "122",
                                    "szallas_fk": "8",
                                    "Átlagos létszám": "3"
                                },
                                {
                                    "szoba_id": "122",
                                    "szallas_fk": "8",
                                    "Átlagos létszám": "3"
                                },
                                {
                                    "szoba_id": "122",
                                    "szallas_fk": "8",
                                    "Átlagos létszám": "3"
                                },
                                {
                                    "szoba_id": "122",
                                    "szallas_fk": "8",
                                    "Átlagos létszám": "3"
                                },
                                {
                                    "szoba_id": "122",
                                    "szallas_fk": "8",
                                    "Átlagos létszám": "3"
                                },
                                {
                                    "szoba_id": "122",
                                    "szallas_fk": "8",
                                    "Átlagos létszám": "3"
                                },
                                {
                                    "szoba_id": "122",
                                    "szallas_fk": "8",
                                    "Átlagos létszám": "3"
                                },
                                {
                                    "szoba_id": "122",
                                    "szallas_fk": "8",
                                    "Átlagos létszám": "3"
                                },
                                {
                                    "szoba_id": "123",
                                    "szallas_fk": "8",
                                    "Átlagos létszám": "1"
                                },
                                {
                                    "szoba_id": "123",
                                    "szallas_fk": "8",
                                    "Átlagos létszám": "1"
                                },
                                {
                                    "szoba_id": "123",
                                    "szallas_fk": "8",
                                    "Átlagos létszám": "1"
                                },
                                {
                                    "szoba_id": "123",
                                    "szallas_fk": "8",
                                    "Átlagos létszám": "2"
                                },
                                {
                                    "szoba_id": "123",
                                    "szallas_fk": "8",
                                    "Átlagos létszám": "2"
                                },
                                {
                                    "szoba_id": "124",
                                    "szallas_fk": "8",
                                    "Átlagos létszám": "3"
                                },
                                {
                                    "szoba_id": "124",
                                    "szallas_fk": "8",
                                    "Átlagos létszám": "3"
                                },
                                {
                                    "szoba_id": "124",
                                    "szallas_fk": "8",
                                    "Átlagos létszám": "3"
                                },
                                {
                                    "szoba_id": "124",
                                    "szallas_fk": "8",
                                    "Átlagos létszám": "2"
                                },
                                {
                                    "szoba_id": "124",
                                    "szallas_fk": "8",
                                    "Átlagos létszám": "2"
                                },
                                {
                                    "szoba_id": "124",
                                    "szallas_fk": "8",
                                    "Átlagos létszám": "2"
                                },
                                {
                                    "szoba_id": "125",
                                    "szallas_fk": "8",
                                    "Átlagos létszám": "3"
                                },
                                {
                                    "szoba_id": "126",
                                    "szallas_fk": "8",
                                    "Átlagos létszám": "3"
                                },
                                {
                                    "szoba_id": "126",
                                    "szallas_fk": "8",
                                    "Átlagos létszám": "2"
                                },
                                {
                                    "szoba_id": "126",
                                    "szallas_fk": "8",
                                    "Átlagos létszám": "2"
                                },
                                {
                                    "szoba_id": "126",
                                    "szallas_fk": "8",
                                    "Átlagos létszám": "2"
                                },
                                {
                                    "szoba_id": "126",
                                    "szallas_fk": "8",
                                    "Átlagos létszám": "1"
                                },
                                {
                                    "szoba_id": "126",
                                    "szallas_fk": "8",
                                    "Átlagos létszám": "1"
                                },
                                {
                                    "szoba_id": "127",
                                    "szallas_fk": "8",
                                    "Átlagos létszám": "2"
                                },
                                {
                                    "szoba_id": "127",
                                    "szallas_fk": "8",
                                    "Átlagos létszám": "2"
                                },
                                {
                                    "szoba_id": "127",
                                    "szallas_fk": "8",
                                    "Átlagos létszám": "2"
                                },
                                {
                                    "szoba_id": "127",
                                    "szallas_fk": "8",
                                    "Átlagos létszám": "1"
                                },
                                {
                                    "szoba_id": "127",
                                    "szallas_fk": "8",
                                    "Átlagos létszám": "2"
                                },
                                {
                                    "szoba_id": "127",
                                    "szallas_fk": "8",
                                    "Átlagos létszám": "2"
                                },
                                {
                                    "szoba_id": "127",
                                    "szallas_fk": "8",
                                    "Átlagos létszám": "2"
                                },
                                {
                                    "szoba_id": "128",
                                    "szallas_fk": "8",
                                    "Átlagos létszám": "2"
                                },
                                {
                                    "szoba_id": "128",
                                    "szallas_fk": "8",
                                    "Átlagos létszám": "2"
                                },
                                {
                                    "szoba_id": "128",
                                    "szallas_fk": "8",
                                    "Átlagos létszám": "2"
                                },
                                {
                                    "szoba_id": "128",
                                    "szallas_fk": "8",
                                    "Átlagos létszám": "2"
                                },
                                {
                                    "szoba_id": "128",
                                    "szallas_fk": "8",
                                    "Átlagos létszám": "2"
                                },
                                {
                                    "szoba_id": "129",
                                    "szallas_fk": "8",
                                    "Átlagos létszám": "2"
                                },
                                {
                                    "szoba_id": "129",
                                    "szallas_fk": "8",
                                    "Átlagos létszám": "2"
                                },
                                {
                                    "szoba_id": "129",
                                    "szallas_fk": "8",
                                    "Átlagos létszám": "2"
                                },
                                {
                                    "szoba_id": "129",
                                    "szallas_fk": "8",
                                    "Átlagos létszám": "2"
                                },
                                {
                                    "szoba_id": "130",
                                    "szallas_fk": "9",
                                    "Átlagos létszám": "2"
                                },
                                {
                                    "szoba_id": "130",
                                    "szallas_fk": "9",
                                    "Átlagos létszám": "2"
                                },
                                {
                                    "szoba_id": "130",
                                    "szallas_fk": "9",
                                    "Átlagos létszám": "2"
                                },
                                {
                                    "szoba_id": "130",
                                    "szallas_fk": "9",
                                    "Átlagos létszám": "1"
                                },
                                {
                                    "szoba_id": "130",
                                    "szallas_fk": "9",
                                    "Átlagos létszám": "1"
                                },
                                {
                                    "szoba_id": "130",
                                    "szallas_fk": "9",
                                    "Átlagos létszám": "1"
                                },
                                {
                                    "szoba_id": "131",
                                    "szallas_fk": "9",
                                    "Átlagos létszám": "2"
                                },
                                {
                                    "szoba_id": "131",
                                    "szallas_fk": "9",
                                    "Átlagos létszám": "2"
                                },
                                {
                                    "szoba_id": "131",
                                    "szallas_fk": "9",
                                    "Átlagos létszám": "1"
                                },
                                {
                                    "szoba_id": "131",
                                    "szallas_fk": "9",
                                    "Átlagos létszám": "1"
                                },
                                {
                                    "szoba_id": "131",
                                    "szallas_fk": "9",
                                    "Átlagos létszám": "1"
                                },
                                {
                                    "szoba_id": "132",
                                    "szallas_fk": "9",
                                    "Átlagos létszám": "2"
                                },
                                {
                                    "szoba_id": "132",
                                    "szallas_fk": "9",
                                    "Átlagos létszám": "2"
                                },
                                {
                                    "szoba_id": "132",
                                    "szallas_fk": "9",
                                    "Átlagos létszám": "2"
                                },
                                {
                                    "szoba_id": "132",
                                    "szallas_fk": "9",
                                    "Átlagos létszám": "2"
                                },
                                {
                                    "szoba_id": "132",
                                    "szallas_fk": "9",
                                    "Átlagos létszám": "2"
                                },
                                {
                                    "szoba_id": "132",
                                    "szallas_fk": "9",
                                    "Átlagos létszám": "2"
                                },
                                {
                                    "szoba_id": "133",
                                    "szallas_fk": "9",
                                    "Átlagos létszám": "3"
                                },
                                {
                                    "szoba_id": "133",
                                    "szallas_fk": "9",
                                    "Átlagos létszám": "2"
                                },
                                {
                                    "szoba_id": "133",
                                    "szallas_fk": "9",
                                    "Átlagos létszám": "2"
                                },
                                {
                                    "szoba_id": "133",
                                    "szallas_fk": "9",
                                    "Átlagos létszám": "2"
                                },
                                {
                                    "szoba_id": "133",
                                    "szallas_fk": "9",
                                    "Átlagos létszám": "2"
                                },
                                {
                                    "szoba_id": "133",
                                    "szallas_fk": "9",
                                    "Átlagos létszám": "2"
                                },
                                {
                                    "szoba_id": "134",
                                    "szallas_fk": "9",
                                    "Átlagos létszám": "2"
                                },
                                {
                                    "szoba_id": "134",
                                    "szallas_fk": "9",
                                    "Átlagos létszám": "2"
                                },
                                {
                                    "szoba_id": "134",
                                    "szallas_fk": "9",
                                    "Átlagos létszám": "2"
                                },
                                {
                                    "szoba_id": "134",
                                    "szallas_fk": "9",
                                    "Átlagos létszám": "2"
                                },
                                {
                                    "szoba_id": "134",
                                    "szallas_fk": "9",
                                    "Átlagos létszám": "2"
                                },
                                {
                                    "szoba_id": "134",
                                    "szallas_fk": "9",
                                    "Átlagos létszám": "2"
                                },
                                {
                                    "szoba_id": "135",
                                    "szallas_fk": "10",
                                    "Átlagos létszám": "2"
                                },
                                {
                                    "szoba_id": "135",
                                    "szallas_fk": "10",
                                    "Átlagos létszám": "2"
                                },
                                {
                                    "szoba_id": "135",
                                    "szallas_fk": "10",
                                    "Átlagos létszám": "2"
                                },
                                {
                                    "szoba_id": "136",
                                    "szallas_fk": "10",
                                    "Átlagos létszám": "2"
                                },
                                {
                                    "szoba_id": "136",
                                    "szallas_fk": "10",
                                    "Átlagos létszám": "1"
                                },
                                {
                                    "szoba_id": "136",
                                    "szallas_fk": "10",
                                    "Átlagos létszám": "1"
                                },
                                {
                                    "szoba_id": "137",
                                    "szallas_fk": "10",
                                    "Átlagos létszám": "2"
                                },
                                {
                                    "szoba_id": "137",
                                    "szallas_fk": "10",
                                    "Átlagos létszám": "2"
                                },
                                {
                                    "szoba_id": "137",
                                    "szallas_fk": "10",
                                    "Átlagos létszám": "1"
                                },
                                {
                                    "szoba_id": "137",
                                    "szallas_fk": "10",
                                    "Átlagos létszám": "1"
                                },
                                {
                                    "szoba_id": "137",
                                    "szallas_fk": "10",
                                    "Átlagos létszám": "2"
                                },
                                {
                                    "szoba_id": "137",
                                    "szallas_fk": "10",
                                    "Átlagos létszám": "2"
                                },
                                {
                                    "szoba_id": "138",
                                    "szallas_fk": "10",
                                    "Átlagos létszám": "4"
                                },
                                {
                                    "szoba_id": "138",
                                    "szallas_fk": "10",
                                    "Átlagos létszám": "3"
                                },
                                {
                                    "szoba_id": "138",
                                    "szallas_fk": "10",
                                    "Átlagos létszám": "3"
                                },
                                {
                                    "szoba_id": "138",
                                    "szallas_fk": "10",
                                    "Átlagos létszám": "3"
                                },
                                {
                                    "szoba_id": "138",
                                    "szallas_fk": "10",
                                    "Átlagos létszám": "2"
                                },
                                {
                                    "szoba_id": "138",
                                    "szallas_fk": "10",
                                    "Átlagos létszám": "2"
                                },
                                {
                                    "szoba_id": "138",
                                    "szallas_fk": "10",
                                    "Átlagos létszám": "2"
                                },
                                {
                                    "szoba_id": "139",
                                    "szallas_fk": "10",
                                    "Átlagos létszám": "2"
                                },
                                {
                                    "szoba_id": "139",
                                    "szallas_fk": "10",
                                    "Átlagos létszám": "2"
                                },
                                {
                                    "szoba_id": "139",
                                    "szallas_fk": "10",
                                    "Átlagos létszám": "2"
                                },
                                {
                                    "szoba_id": "139",
                                    "szallas_fk": "10",
                                    "Átlagos létszám": "2"
                                },
                                {
                                    "szoba_id": "139",
                                    "szallas_fk": "10",
                                    "Átlagos létszám": "2"
                                },
                                {
                                    "szoba_id": "139",
                                    "szallas_fk": "10",
                                    "Átlagos létszám": "2"
                                },
                                {
                                    "szoba_id": "139",
                                    "szallas_fk": "10",
                                    "Átlagos létszám": "2"
                                },
                                {
                                    "szoba_id": "140",
                                    "szallas_fk": "10",
                                    "Átlagos létszám": "2"
                                },
                                {
                                    "szoba_id": "140",
                                    "szallas_fk": "10",
                                    "Átlagos létszám": "1"
                                },
                                {
                                    "szoba_id": "140",
                                    "szallas_fk": "10",
                                    "Átlagos létszám": "2"
                                },
                                {
                                    "szoba_id": "140",
                                    "szallas_fk": "10",
                                    "Átlagos létszám": "1"
                                },
                                {
                                    "szoba_id": "140",
                                    "szallas_fk": "10",
                                    "Átlagos létszám": "2"
                                },
                                {
                                    "szoba_id": "140",
                                    "szallas_fk": "10",
                                    "Átlagos létszám": "2"
                                },
                                {
                                    "szoba_id": "140",
                                    "szallas_fk": "10",
                                    "Átlagos létszám": "2"
                                },
                                {
                                    "szoba_id": "140",
                                    "szallas_fk": "10",
                                    "Átlagos létszám": "2"
                                },
                                {
                                    "szoba_id": "141",
                                    "szallas_fk": "10",
                                    "Átlagos létszám": "2"
                                },
                                {
                                    "szoba_id": "141",
                                    "szallas_fk": "10",
                                    "Átlagos létszám": "2"
                                },
                                {
                                    "szoba_id": "141",
                                    "szallas_fk": "10",
                                    "Átlagos létszám": "2"
                                },
                                {
                                    "szoba_id": "141",
                                    "szallas_fk": "10",
                                    "Átlagos létszám": "2"
                                },
                                {
                                    "szoba_id": "141",
                                    "szallas_fk": "10",
                                    "Átlagos létszám": "2"
                                },
                                {
                                    "szoba_id": "141",
                                    "szallas_fk": "10",
                                    "Átlagos létszám": "2"
                                },
                                {
                                    "szoba_id": "142",
                                    "szallas_fk": "10",
                                    "Átlagos létszám": "3"
                                },
                                {
                                    "szoba_id": "142",
                                    "szallas_fk": "10",
                                    "Átlagos létszám": "2"
                                },
                                {
                                    "szoba_id": "143",
                                    "szallas_fk": "10",
                                    "Átlagos létszám": "1"
                                },
                                {
                                    "szoba_id": "143",
                                    "szallas_fk": "10",
                                    "Átlagos létszám": "2"
                                },
                                {
                                    "szoba_id": "143",
                                    "szallas_fk": "10",
                                    "Átlagos létszám": "2"
                                },
                                {
                                    "szoba_id": "143",
                                    "szallas_fk": "10",
                                    "Átlagos létszám": "2"
                                },
                                {
                                    "szoba_id": "143",
                                    "szallas_fk": "10",
                                    "Átlagos létszám": "2"
                                },
                                {
                                    "szoba_id": "143",
                                    "szallas_fk": "10",
                                    "Átlagos létszám": "3"
                                },
                                {
                                    "szoba_id": "143",
                                    "szallas_fk": "10",
                                    "Átlagos létszám": "3"
                                },
                                {
                                    "szoba_id": "144",
                                    "szallas_fk": "10",
                                    "Átlagos létszám": "3"
                                },
                                {
                                    "szoba_id": "144",
                                    "szallas_fk": "10",
                                    "Átlagos létszám": "3"
                                },
                                {
                                    "szoba_id": "144",
                                    "szallas_fk": "10",
                                    "Átlagos létszám": "3"
                                },
                                {
                                    "szoba_id": "144",
                                    "szallas_fk": "10",
                                    "Átlagos létszám": "3"
                                },
                                {
                                    "szoba_id": "144",
                                    "szallas_fk": "10",
                                    "Átlagos létszám": "3"
                                },
                                {
                                    "szoba_id": "145",
                                    "szallas_fk": "10",
                                    "Átlagos létszám": "4"
                                },
                                {
                                    "szoba_id": "145",
                                    "szallas_fk": "10",
                                    "Átlagos létszám": "3"
                                },
                                {
                                    "szoba_id": "145",
                                    "szallas_fk": "10",
                                    "Átlagos létszám": "3"
                                },
                                {
                                    "szoba_id": "145",
                                    "szallas_fk": "10",
                                    "Átlagos létszám": "2"
                                },
                                {
                                    "szoba_id": "145",
                                    "szallas_fk": "10",
                                    "Átlagos létszám": "2"
                                },
                                {
                                    "szoba_id": "145",
                                    "szallas_fk": "10",
                                    "Átlagos létszám": "2"
                                },
                                {
                                    "szoba_id": "146",
                                    "szallas_fk": "10",
                                    "Átlagos létszám": "3"
                                },
                                {
                                    "szoba_id": "146",
                                    "szallas_fk": "10",
                                    "Átlagos létszám": "2"
                                },
                                {
                                    "szoba_id": "146",
                                    "szallas_fk": "10",
                                    "Átlagos létszám": "2"
                                },
                                {
                                    "szoba_id": "146",
                                    "szallas_fk": "10",
                                    "Átlagos létszám": "2"
                                },
                                {
                                    "szoba_id": "146",
                                    "szallas_fk": "10",
                                    "Átlagos létszám": "2"
                                },
                                {
                                    "szoba_id": "146",
                                    "szallas_fk": "10",
                                    "Átlagos létszám": "2"
                                },
                                {
                                    "szoba_id": "147",
                                    "szallas_fk": "10",
                                    "Átlagos létszám": "2"
                                },
                                {
                                    "szoba_id": "148",
                                    "szallas_fk": "10",
                                    "Átlagos létszám": "2"
                                },
                                {
                                    "szoba_id": "148",
                                    "szallas_fk": "10",
                                    "Átlagos létszám": "2"
                                },
                                {
                                    "szoba_id": "148",
                                    "szallas_fk": "10",
                                    "Átlagos létszám": "2"
                                },
                                {
                                    "szoba_id": "148",
                                    "szallas_fk": "10",
                                    "Átlagos létszám": "2"
                                },
                                {
                                    "szoba_id": "148",
                                    "szallas_fk": "10",
                                    "Átlagos létszám": "2"
                                },
                                {
                                    "szoba_id": "148",
                                    "szallas_fk": "10",
                                    "Átlagos létszám": "1"
                                },
                                {
                                    "szoba_id": "149",
                                    "szallas_fk": "10",
                                    "Átlagos létszám": "2"
                                },
                                {
                                    "szoba_id": "149",
                                    "szallas_fk": "10",
                                    "Átlagos létszám": "1"
                                },
                                {
                                    "szoba_id": "149",
                                    "szallas_fk": "10",
                                    "Átlagos létszám": "1"
                                },
                                {
                                    "szoba_id": "149",
                                    "szallas_fk": "10",
                                    "Átlagos létszám": "1"
                                },
                                {
                                    "szoba_id": "149",
                                    "szallas_fk": "10",
                                    "Átlagos létszám": "1"
                                },
                                {
                                    "szoba_id": "149",
                                    "szallas_fk": "10",
                                    "Átlagos létszám": "1"
                                },
                                {
                                    "szoba_id": "149",
                                    "szallas_fk": "10",
                                    "Átlagos létszám": "1"
                                },
                                {
                                    "szoba_id": "150",
                                    "szallas_fk": "10",
                                    "Átlagos létszám": "3"
                                },
                                {
                                    "szoba_id": "150",
                                    "szallas_fk": "10",
                                    "Átlagos létszám": "2"
                                },
                                {
                                    "szoba_id": "150",
                                    "szallas_fk": "10",
                                    "Átlagos létszám": "2"
                                },
                                {
                                    "szoba_id": "150",
                                    "szallas_fk": "10",
                                    "Átlagos létszám": "2"
                                },
                                {
                                    "szoba_id": "150",
                                    "szallas_fk": "10",
                                    "Átlagos létszám": "2"
                                },
                                {
                                    "szoba_id": "150",
                                    "szallas_fk": "10",
                                    "Átlagos létszám": "2"
                                },
                                {
                                    "szoba_id": "151",
                                    "szallas_fk": "10",
                                    "Átlagos létszám": "1"
                                },
                                {
                                    "szoba_id": "151",
                                    "szallas_fk": "10",
                                    "Átlagos létszám": "1"
                                },
                                {
                                    "szoba_id": "151",
                                    "szallas_fk": "10",
                                    "Átlagos létszám": "1"
                                },
                                {
                                    "szoba_id": "152",
                                    "szallas_fk": "10",
                                    "Átlagos létszám": "2"
                                },
                                {
                                    "szoba_id": "152",
                                    "szallas_fk": "10",
                                    "Átlagos létszám": "2"
                                },
                                {
                                    "szoba_id": "152",
                                    "szallas_fk": "10",
                                    "Átlagos létszám": "2"
                                },
                                {
                                    "szoba_id": "152",
                                    "szallas_fk": "10",
                                    "Átlagos létszám": "2"
                                },
                                {
                                    "szoba_id": "153",
                                    "szallas_fk": "10",
                                    "Átlagos létszám": "2"
                                },
                                {
                                    "szoba_id": "153",
                                    "szallas_fk": "10",
                                    "Átlagos létszám": "2"
                                },
                                {
                                    "szoba_id": "153",
                                    "szallas_fk": "10",
                                    "Átlagos létszám": "2"
                                },
                                {
                                    "szoba_id": "153",
                                    "szallas_fk": "10",
                                    "Átlagos létszám": "2"
                                },
                                {
                                    "szoba_id": "153",
                                    "szallas_fk": "10",
                                    "Átlagos létszám": "2"
                                },
                                {
                                    "szoba_id": "154",
                                    "szallas_fk": "10",
                                    "Átlagos létszám": "2"
                                },
                                {
                                    "szoba_id": "154",
                                    "szallas_fk": "10",
                                    "Átlagos létszám": "2"
                                },
                                {
                                    "szoba_id": "154",
                                    "szallas_fk": "10",
                                    "Átlagos létszám": "2"
                                },
                                {
                                    "szoba_id": "154",
                                    "szallas_fk": "10",
                                    "Átlagos létszám": "2"
                                },
                                {
                                    "szoba_id": "154",
                                    "szallas_fk": "10",
                                    "Átlagos létszám": "2"
                                },
                                {
                                    "szoba_id": "155",
                                    "szallas_fk": "10",
                                    "Átlagos létszám": "4"
                                },
                                {
                                    "szoba_id": "155",
                                    "szallas_fk": "10",
                                    "Átlagos létszám": "3"
                                },
                                {
                                    "szoba_id": "155",
                                    "szallas_fk": "10",
                                    "Átlagos létszám": "2"
                                },
                                {
                                    "szoba_id": "155",
                                    "szallas_fk": "10",
                                    "Átlagos létszám": "3"
                                },
                                {
                                    "szoba_id": "155",
                                    "szallas_fk": "10",
                                    "Átlagos létszám": "2"
                                },
                                {
                                    "szoba_id": "156",
                                    "szallas_fk": "10",
                                    "Átlagos létszám": "4"
                                },
                                {
                                    "szoba_id": "156",
                                    "szallas_fk": "10",
                                    "Átlagos létszám": "3"
                                },
                                {
                                    "szoba_id": "156",
                                    "szallas_fk": "10",
                                    "Átlagos létszám": "3"
                                },
                                {
                                    "szoba_id": "156",
                                    "szallas_fk": "10",
                                    "Átlagos létszám": "3"
                                },
                                {
                                    "szoba_id": "156",
                                    "szallas_fk": "10",
                                    "Átlagos létszám": "3"
                                },
                                {
                                    "szoba_id": "156",
                                    "szallas_fk": "10",
                                    "Átlagos létszám": "2"
                                },
                                {
                                    "szoba_id": "156",
                                    "szallas_fk": "10",
                                    "Átlagos létszám": "3"
                                },
                                {
                                    "szoba_id": "157",
                                    "szallas_fk": "10",
                                    "Átlagos létszám": "1"
                                },
                                {
                                    "szoba_id": "157",
                                    "szallas_fk": "10",
                                    "Átlagos létszám": "1"
                                },
                                {
                                    "szoba_id": "157",
                                    "szallas_fk": "10",
                                    "Átlagos létszám": "1"
                                },
                                {
                                    "szoba_id": "157",
                                    "szallas_fk": "10",
                                    "Átlagos létszám": "1"
                                },
                                {
                                    "szoba_id": "157",
                                    "szallas_fk": "10",
                                    "Átlagos létszám": "1"
                                },
                                {
                                    "szoba_id": "158",
                                    "szallas_fk": "10",
                                    "Átlagos létszám": "3"
                                },
                                {
                                    "szoba_id": "158",
                                    "szallas_fk": "10",
                                    "Átlagos létszám": "3"
                                },
                                {
                                    "szoba_id": "158",
                                    "szallas_fk": "10",
                                    "Átlagos létszám": "3"
                                },
                                {
                                    "szoba_id": "160",
                                    "szallas_fk": "11",
                                    "Átlagos létszám": "4"
                                },
                                {
                                    "szoba_id": "160",
                                    "szallas_fk": "11",
                                    "Átlagos létszám": "3"
                                },
                                {
                                    "szoba_id": "160",
                                    "szallas_fk": "11",
                                    "Átlagos létszám": "3"
                                },
                                {
                                    "szoba_id": "160",
                                    "szallas_fk": "11",
                                    "Átlagos létszám": "3"
                                },
                                {
                                    "szoba_id": "160",
                                    "szallas_fk": "11",
                                    "Átlagos létszám": "3"
                                },
                                {
                                    "szoba_id": "161",
                                    "szallas_fk": "11",
                                    "Átlagos létszám": "3"
                                },
                                {
                                    "szoba_id": "161",
                                    "szallas_fk": "11",
                                    "Átlagos létszám": "2"
                                },
                                {
                                    "szoba_id": "161",
                                    "szallas_fk": "11",
                                    "Átlagos létszám": "2"
                                },
                                {
                                    "szoba_id": "161",
                                    "szallas_fk": "11",
                                    "Átlagos létszám": "2"
                                },
                                {
                                    "szoba_id": "161",
                                    "szallas_fk": "11",
                                    "Átlagos létszám": "2"
                                },
                                {
                                    "szoba_id": "161",
                                    "szallas_fk": "11",
                                    "Átlagos létszám": "2"
                                },
                                {
                                    "szoba_id": "162",
                                    "szallas_fk": "11",
                                    "Átlagos létszám": "3"
                                },
                                {
                                    "szoba_id": "162",
                                    "szallas_fk": "11",
                                    "Átlagos létszám": "3"
                                },
                                {
                                    "szoba_id": "162",
                                    "szallas_fk": "11",
                                    "Átlagos létszám": "2"
                                },
                                {
                                    "szoba_id": "163",
                                    "szallas_fk": "11",
                                    "Átlagos létszám": "2"
                                },
                                {
                                    "szoba_id": "163",
                                    "szallas_fk": "11",
                                    "Átlagos létszám": "2"
                                },
                                {
                                    "szoba_id": "163",
                                    "szallas_fk": "11",
                                    "Átlagos létszám": "1"
                                },
                                {
                                    "szoba_id": "163",
                                    "szallas_fk": "11",
                                    "Átlagos létszám": "1"
                                },
                                {
                                    "szoba_id": "163",
                                    "szallas_fk": "11",
                                    "Átlagos létszám": "1"
                                },
                                {
                                    "szoba_id": "163",
                                    "szallas_fk": "11",
                                    "Átlagos létszám": "1"
                                },
                                {
                                    "szoba_id": "163",
                                    "szallas_fk": "11",
                                    "Átlagos létszám": "1"
                                },
                                {
                                    "szoba_id": "164",
                                    "szallas_fk": "11",
                                    "Átlagos létszám": "2"
                                },
                                {
                                    "szoba_id": "164",
                                    "szallas_fk": "11",
                                    "Átlagos létszám": "2"
                                },
                                {
                                    "szoba_id": "164",
                                    "szallas_fk": "11",
                                    "Átlagos létszám": "2"
                                },
                                {
                                    "szoba_id": "164",
                                    "szallas_fk": "11",
                                    "Átlagos létszám": "2"
                                },
                                {
                                    "szoba_id": "164",
                                    "szallas_fk": "11",
                                    "Átlagos létszám": "2"
                                },
                                {
                                    "szoba_id": "165",
                                    "szallas_fk": "12",
                                    "Átlagos létszám": "2"
                                },
                                {
                                    "szoba_id": "165",
                                    "szallas_fk": "12",
                                    "Átlagos létszám": "1"
                                },
                                {
                                    "szoba_id": "165",
                                    "szallas_fk": "12",
                                    "Átlagos létszám": "1"
                                },
                                {
                                    "szoba_id": "165",
                                    "szallas_fk": "12",
                                    "Átlagos létszám": "1"
                                },
                                {
                                    "szoba_id": "165",
                                    "szallas_fk": "12",
                                    "Átlagos létszám": "1"
                                },
                                {
                                    "szoba_id": "165",
                                    "szallas_fk": "12",
                                    "Átlagos létszám": "1"
                                },
                                {
                                    "szoba_id": "165",
                                    "szallas_fk": "12",
                                    "Átlagos létszám": "1"
                                },
                                {
                                    "szoba_id": "166",
                                    "szallas_fk": "12",
                                    "Átlagos létszám": "2"
                                },
                                {
                                    "szoba_id": "166",
                                    "szallas_fk": "12",
                                    "Átlagos létszám": "1"
                                },
                                {
                                    "szoba_id": "166",
                                    "szallas_fk": "12",
                                    "Átlagos létszám": "2"
                                },
                                {
                                    "szoba_id": "167",
                                    "szallas_fk": "12",
                                    "Átlagos létszám": "1"
                                },
                                {
                                    "szoba_id": "167",
                                    "szallas_fk": "12",
                                    "Átlagos létszám": "2"
                                },
                                {
                                    "szoba_id": "168",
                                    "szallas_fk": "12",
                                    "Átlagos létszám": "4"
                                },
                                {
                                    "szoba_id": "168",
                                    "szallas_fk": "12",
                                    "Átlagos létszám": "4"
                                },
                                {
                                    "szoba_id": "168",
                                    "szallas_fk": "12",
                                    "Átlagos létszám": "4"
                                },
                                {
                                    "szoba_id": "168",
                                    "szallas_fk": "12",
                                    "Átlagos létszám": "3"
                                },
                                {
                                    "szoba_id": "168",
                                    "szallas_fk": "12",
                                    "Átlagos létszám": "3"
                                },
                                {
                                    "szoba_id": "169",
                                    "szallas_fk": "12",
                                    "Átlagos létszám": "2"
                                },
                                {
                                    "szoba_id": "169",
                                    "szallas_fk": "12",
                                    "Átlagos létszám": "2"
                                },
                                {
                                    "szoba_id": "169",
                                    "szallas_fk": "12",
                                    "Átlagos létszám": "1"
                                },
                                {
                                    "szoba_id": "169",
                                    "szallas_fk": "12",
                                    "Átlagos létszám": "2"
                                },
                                {
                                    "szoba_id": "169",
                                    "szallas_fk": "12",
                                    "Átlagos létszám": "2"
                                },
                                {
                                    "szoba_id": "169",
                                    "szallas_fk": "12",
                                    "Átlagos létszám": "2"
                                },
                                {
                                    "szoba_id": "170",
                                    "szallas_fk": "12",
                                    "Átlagos létszám": "1"
                                },
                                {
                                    "szoba_id": "170",
                                    "szallas_fk": "12",
                                    "Átlagos létszám": "1"
                                },
                                {
                                    "szoba_id": "170",
                                    "szallas_fk": "12",
                                    "Átlagos létszám": "1"
                                },
                                {
                                    "szoba_id": "170",
                                    "szallas_fk": "12",
                                    "Átlagos létszám": "1"
                                },
                                {
                                    "szoba_id": "170",
                                    "szallas_fk": "12",
                                    "Átlagos létszám": "1"
                                },
                                {
                                    "szoba_id": "171",
                                    "szallas_fk": "12",
                                    "Átlagos létszám": "2"
                                },
                                {
                                    "szoba_id": "171",
                                    "szallas_fk": "12",
                                    "Átlagos létszám": "1"
                                },
                                {
                                    "szoba_id": "171",
                                    "szallas_fk": "12",
                                    "Átlagos létszám": "2"
                                },
                                {
                                    "szoba_id": "171",
                                    "szallas_fk": "12",
                                    "Átlagos létszám": "1"
                                },
                                {
                                    "szoba_id": "171",
                                    "szallas_fk": "12",
                                    "Átlagos létszám": "1"
                                },
                                {
                                    "szoba_id": "172",
                                    "szallas_fk": "12",
                                    "Átlagos létszám": "2"
                                },
                                {
                                    "szoba_id": "172",
                                    "szallas_fk": "12",
                                    "Átlagos létszám": "1"
                                },
                                {
                                    "szoba_id": "172",
                                    "szallas_fk": "12",
                                    "Átlagos létszám": "2"
                                },
                                {
                                    "szoba_id": "172",
                                    "szallas_fk": "12",
                                    "Átlagos létszám": "2"
                                },
                                {
                                    "szoba_id": "172",
                                    "szallas_fk": "12",
                                    "Átlagos létszám": "2"
                                },
                                {
                                    "szoba_id": "172",
                                    "szallas_fk": "12",
                                    "Átlagos létszám": "1"
                                },
                                {
                                    "szoba_id": "172",
                                    "szallas_fk": "12",
                                    "Átlagos létszám": "1"
                                },
                                {
                                    "szoba_id": "172",
                                    "szallas_fk": "12",
                                    "Átlagos létszám": "1"
                                },
                                {
                                    "szoba_id": "172",
                                    "szallas_fk": "12",
                                    "Átlagos létszám": "1"
                                },
                                {
                                    "szoba_id": "173",
                                    "szallas_fk": "12",
                                    "Átlagos létszám": "2"
                                },
                                {
                                    "szoba_id": "173",
                                    "szallas_fk": "12",
                                    "Átlagos létszám": "1"
                                },
                                {
                                    "szoba_id": "173",
                                    "szallas_fk": "12",
                                    "Átlagos létszám": "1"
                                },
                                {
                                    "szoba_id": "173",
                                    "szallas_fk": "12",
                                    "Átlagos létszám": "1"
                                },
                                {
                                    "szoba_id": "174",
                                    "szallas_fk": "12",
                                    "Átlagos létszám": "2"
                                },
                                {
                                    "szoba_id": "174",
                                    "szallas_fk": "12",
                                    "Átlagos létszám": "1"
                                },
                                {
                                    "szoba_id": "174",
                                    "szallas_fk": "12",
                                    "Átlagos létszám": "1"
                                },
                                {
                                    "szoba_id": "174",
                                    "szallas_fk": "12",
                                    "Átlagos létszám": "1"
                                },
                                {
                                    "szoba_id": "175",
                                    "szallas_fk": "12",
                                    "Átlagos létszám": "1"
                                },
                                {
                                    "szoba_id": "175",
                                    "szallas_fk": "12",
                                    "Átlagos létszám": "1"
                                },
                                {
                                    "szoba_id": "175",
                                    "szallas_fk": "12",
                                    "Átlagos létszám": "1"
                                },
                                {
                                    "szoba_id": "175",
                                    "szallas_fk": "12",
                                    "Átlagos létszám": "1"
                                },
                                {
                                    "szoba_id": "175",
                                    "szallas_fk": "12",
                                    "Átlagos létszám": "1"
                                },
                                {
                                    "szoba_id": "176",
                                    "szallas_fk": "12",
                                    "Átlagos létszám": "2"
                                },
                                {
                                    "szoba_id": "176",
                                    "szallas_fk": "12",
                                    "Átlagos létszám": "2"
                                },
                                {
                                    "szoba_id": "176",
                                    "szallas_fk": "12",
                                    "Átlagos létszám": "2"
                                },
                                {
                                    "szoba_id": "176",
                                    "szallas_fk": "12",
                                    "Átlagos létszám": "2"
                                },
                                {
                                    "szoba_id": "176",
                                    "szallas_fk": "12",
                                    "Átlagos létszám": "2"
                                },
                                {
                                    "szoba_id": "176",
                                    "szallas_fk": "12",
                                    "Átlagos létszám": "3"
                                },
                                {
                                    "szoba_id": "177",
                                    "szallas_fk": "12",
                                    "Átlagos létszám": "4"
                                },
                                {
                                    "szoba_id": "177",
                                    "szallas_fk": "12",
                                    "Átlagos létszám": "3"
                                },
                                {
                                    "szoba_id": "177",
                                    "szallas_fk": "12",
                                    "Átlagos létszám": "3"
                                },
                                {
                                    "szoba_id": "177",
                                    "szallas_fk": "12",
                                    "Átlagos létszám": "3"
                                },
                                {
                                    "szoba_id": "178",
                                    "szallas_fk": "12",
                                    "Átlagos létszám": "3"
                                },
                                {
                                    "szoba_id": "178",
                                    "szallas_fk": "12",
                                    "Átlagos létszám": "3"
                                },
                                {
                                    "szoba_id": "178",
                                    "szallas_fk": "12",
                                    "Átlagos létszám": "3"
                                },
                                {
                                    "szoba_id": "178",
                                    "szallas_fk": "12",
                                    "Átlagos létszám": "3"
                                },
                                {
                                    "szoba_id": "179",
                                    "szallas_fk": "12",
                                    "Átlagos létszám": "4"
                                },
                                {
                                    "szoba_id": "179",
                                    "szallas_fk": "12",
                                    "Átlagos létszám": "4"
                                },
                                {
                                    "szoba_id": "179",
                                    "szallas_fk": "12",
                                    "Átlagos létszám": "3"
                                },
                                {
                                    "szoba_id": "180",
                                    "szallas_fk": "12",
                                    "Átlagos létszám": "4"
                                },
                                {
                                    "szoba_id": "180",
                                    "szallas_fk": "12",
                                    "Átlagos létszám": "3"
                                },
                                {
                                    "szoba_id": "180",
                                    "szallas_fk": "12",
                                    "Átlagos létszám": "3"
                                },
                                {
                                    "szoba_id": "181",
                                    "szallas_fk": "12",
                                    "Átlagos létszám": "3"
                                },
                                {
                                    "szoba_id": "181",
                                    "szallas_fk": "12",
                                    "Átlagos létszám": "3"
                                },
                                {
                                    "szoba_id": "181",
                                    "szallas_fk": "12",
                                    "Átlagos létszám": "3"
                                },
                                {
                                    "szoba_id": "181",
                                    "szallas_fk": "12",
                                    "Átlagos létszám": "3"
                                },
                                {
                                    "szoba_id": "181",
                                    "szallas_fk": "12",
                                    "Átlagos létszám": "3"
                                },
                                {
                                    "szoba_id": "181",
                                    "szallas_fk": "12",
                                    "Átlagos létszám": "3"
                                },
                                {
                                    "szoba_id": "182",
                                    "szallas_fk": "12",
                                    "Átlagos létszám": "2"
                                },
                                {
                                    "szoba_id": "182",
                                    "szallas_fk": "12",
                                    "Átlagos létszám": "2"
                                },
                                {
                                    "szoba_id": "182",
                                    "szallas_fk": "12",
                                    "Átlagos létszám": "2"
                                },
                                {
                                    "szoba_id": "182",
                                    "szallas_fk": "12",
                                    "Átlagos létszám": "2"
                                },
                                {
                                    "szoba_id": "182",
                                    "szallas_fk": "12",
                                    "Átlagos létszám": "2"
                                },
                                {
                                    "szoba_id": "182",
                                    "szallas_fk": "12",
                                    "Átlagos létszám": "1"
                                },
                                {
                                    "szoba_id": "182",
                                    "szallas_fk": "12",
                                    "Átlagos létszám": "1"
                                },
                                {
                                    "szoba_id": "182",
                                    "szallas_fk": "12",
                                    "Átlagos létszám": "1"
                                },
                                {
                                    "szoba_id": "182",
                                    "szallas_fk": "12",
                                    "Átlagos létszám": "1"
                                },
                                {
                                    "szoba_id": "182",
                                    "szallas_fk": "12",
                                    "Átlagos létszám": "1"
                                },
                                {
                                    "szoba_id": "182",
                                    "szallas_fk": "12",
                                    "Átlagos létszám": "1"
                                },
                                {
                                    "szoba_id": "182",
                                    "szallas_fk": "12",
                                    "Átlagos létszám": "1"
                                },
                                {
                                    "szoba_id": "183",
                                    "szallas_fk": "12",
                                    "Átlagos létszám": "3"
                                },
                                {
                                    "szoba_id": "183",
                                    "szallas_fk": "12",
                                    "Átlagos létszám": "2"
                                },
                                {
                                    "szoba_id": "183",
                                    "szallas_fk": "12",
                                    "Átlagos létszám": "2"
                                },
                                {
                                    "szoba_id": "183",
                                    "szallas_fk": "12",
                                    "Átlagos létszám": "2"
                                },
                                {
                                    "szoba_id": "184",
                                    "szallas_fk": "12",
                                    "Átlagos létszám": "2"
                                },
                                {
                                    "szoba_id": "184",
                                    "szallas_fk": "12",
                                    "Átlagos létszám": "1"
                                },
                                {
                                    "szoba_id": "184",
                                    "szallas_fk": "12",
                                    "Átlagos létszám": "1"
                                },
                                {
                                    "szoba_id": "184",
                                    "szallas_fk": "12",
                                    "Átlagos létszám": "1"
                                },
                                {
                                    "szoba_id": "185",
                                    "szallas_fk": "12",
                                    "Átlagos létszám": "3"
                                },
                                {
                                    "szoba_id": "185",
                                    "szallas_fk": "12",
                                    "Átlagos létszám": "3"
                                },
                                {
                                    "szoba_id": "185",
                                    "szallas_fk": "12",
                                    "Átlagos létszám": "3"
                                },
                                {
                                    "szoba_id": "185",
                                    "szallas_fk": "12",
                                    "Átlagos létszám": "3"
                                },
                                {
                                    "szoba_id": "185",
                                    "szallas_fk": "12",
                                    "Átlagos létszám": "3"
                                },
                                {
                                    "szoba_id": "185",
                                    "szallas_fk": "12",
                                    "Átlagos létszám": "3"
                                },
                                {
                                    "szoba_id": "185",
                                    "szallas_fk": "12",
                                    "Átlagos létszám": "2"
                                },
                                {
                                    "szoba_id": "185",
                                    "szallas_fk": "12",
                                    "Átlagos létszám": "2"
                                },
                                {
                                    "szoba_id": "185",
                                    "szallas_fk": "12",
                                    "Átlagos létszám": "2"
                                },
                                {
                                    "szoba_id": "185",
                                    "szallas_fk": "12",
                                    "Átlagos létszám": "2"
                                },
                                {
                                    "szoba_id": "185",
                                    "szallas_fk": "12",
                                    "Átlagos létszám": "2"
                                },
                                {
                                    "szoba_id": "185",
                                    "szallas_fk": "12",
                                    "Átlagos létszám": "3"
                                },
                                {
                                    "szoba_id": "186",
                                    "szallas_fk": "12",
                                    "Átlagos létszám": "3"
                                },
                                {
                                    "szoba_id": "186",
                                    "szallas_fk": "12",
                                    "Átlagos létszám": "3"
                                },
                                {
                                    "szoba_id": "186",
                                    "szallas_fk": "12",
                                    "Átlagos létszám": "2"
                                },
                                {
                                    "szoba_id": "186",
                                    "szallas_fk": "12",
                                    "Átlagos létszám": "3"
                                },
                                {
                                    "szoba_id": "187",
                                    "szallas_fk": "12",
                                    "Átlagos létszám": "3"
                                },
                                {
                                    "szoba_id": "187",
                                    "szallas_fk": "12",
                                    "Átlagos létszám": "3"
                                },
                                {
                                    "szoba_id": "187",
                                    "szallas_fk": "12",
                                    "Átlagos létszám": "3"
                                },
                                {
                                    "szoba_id": "187",
                                    "szallas_fk": "12",
                                    "Átlagos létszám": "3"
                                },
                                {
                                    "szoba_id": "187",
                                    "szallas_fk": "12",
                                    "Átlagos létszám": "3"
                                },
                                {
                                    "szoba_id": "187",
                                    "szallas_fk": "12",
                                    "Átlagos létszám": "2"
                                },
                                {
                                    "szoba_id": "187",
                                    "szallas_fk": "12",
                                    "Átlagos létszám": "2"
                                },
                                {
                                    "szoba_id": "188",
                                    "szallas_fk": "12",
                                    "Átlagos létszám": "3"
                                },
                                {
                                    "szoba_id": "188",
                                    "szallas_fk": "12",
                                    "Átlagos létszám": "2"
                                },
                                {
                                    "szoba_id": "188",
                                    "szallas_fk": "12",
                                    "Átlagos létszám": "2"
                                },
                                {
                                    "szoba_id": "188",
                                    "szallas_fk": "12",
                                    "Átlagos létszám": "2"
                                },
                                {
                                    "szoba_id": "188",
                                    "szallas_fk": "12",
                                    "Átlagos létszám": "2"
                                },
                                {
                                    "szoba_id": "188",
                                    "szallas_fk": "12",
                                    "Átlagos létszám": "2"
                                },
                                {
                                    "szoba_id": "189",
                                    "szallas_fk": "12",
                                    "Átlagos létszám": "2"
                                },
                                {
                                    "szoba_id": "189",
                                    "szallas_fk": "12",
                                    "Átlagos létszám": "2"
                                },
                                {
                                    "szoba_id": "189",
                                    "szallas_fk": "12",
                                    "Átlagos létszám": "2"
                                },
                                {
                                    "szoba_id": "189",
                                    "szallas_fk": "12",
                                    "Átlagos létszám": "2"
                                },
                                {
                                    "szoba_id": "189",
                                    "szallas_fk": "12",
                                    "Átlagos létszám": "2"
                                },
                                {
                                    "szoba_id": "190",
                                    "szallas_fk": "12",
                                    "Átlagos létszám": "1"
                                },
                                {
                                    "szoba_id": "190",
                                    "szallas_fk": "12",
                                    "Átlagos létszám": "1"
                                },
                                {
                                    "szoba_id": "190",
                                    "szallas_fk": "12",
                                    "Átlagos létszám": "1"
                                },
                                {
                                    "szoba_id": "190",
                                    "szallas_fk": "12",
                                    "Átlagos létszám": "1"
                                },
                                {
                                    "szoba_id": "190",
                                    "szallas_fk": "12",
                                    "Átlagos létszám": "1"
                                },
                                {
                                    "szoba_id": "191",
                                    "szallas_fk": "12",
                                    "Átlagos létszám": "2"
                                },
                                {
                                    "szoba_id": "191",
                                    "szallas_fk": "12",
                                    "Átlagos létszám": "2"
                                },
                                {
                                    "szoba_id": "191",
                                    "szallas_fk": "12",
                                    "Átlagos létszám": "2"
                                },
                                {
                                    "szoba_id": "191",
                                    "szallas_fk": "12",
                                    "Átlagos létszám": "2"
                                },
                                {
                                    "szoba_id": "191",
                                    "szallas_fk": "12",
                                    "Átlagos létszám": "2"
                                },
                                {
                                    "szoba_id": "192",
                                    "szallas_fk": "12",
                                    "Átlagos létszám": "3"
                                },
                                {
                                    "szoba_id": "192",
                                    "szallas_fk": "12",
                                    "Átlagos létszám": "2"
                                },
                                {
                                    "szoba_id": "193",
                                    "szallas_fk": "12",
                                    "Átlagos létszám": "2"
                                },
                                {
                                    "szoba_id": "193",
                                    "szallas_fk": "12",
                                    "Átlagos létszám": "3"
                                },
                                {
                                    "szoba_id": "193",
                                    "szallas_fk": "12",
                                    "Átlagos létszám": "4"
                                },
                                {
                                    "szoba_id": "193",
                                    "szallas_fk": "12",
                                    "Átlagos létszám": "3"
                                },
                                {
                                    "szoba_id": "193",
                                    "szallas_fk": "12",
                                    "Átlagos létszám": "4"
                                },
                                {
                                    "szoba_id": "193",
                                    "szallas_fk": "12",
                                    "Átlagos létszám": "4"
                                },
                                {
                                    "szoba_id": "193",
                                    "szallas_fk": "12",
                                    "Átlagos létszám": "4"
                                },
                                {
                                    "szoba_id": "194",
                                    "szallas_fk": "12",
                                    "Átlagos létszám": "3"
                                },
                                {
                                    "szoba_id": "195",
                                    "szallas_fk": "12",
                                    "Átlagos létszám": "2"
                                },
                                {
                                    "szoba_id": "195",
                                    "szallas_fk": "12",
                                    "Átlagos létszám": "2"
                                },
                                {
                                    "szoba_id": "195",
                                    "szallas_fk": "12",
                                    "Átlagos létszám": "1"
                                },
                                {
                                    "szoba_id": "195",
                                    "szallas_fk": "12",
                                    "Átlagos létszám": "1"
                                },
                                {
                                    "szoba_id": "195",
                                    "szallas_fk": "12",
                                    "Átlagos létszám": "1"
                                },
                                {
                                    "szoba_id": "195",
                                    "szallas_fk": "12",
                                    "Átlagos létszám": "1"
                                },
                                {
                                    "szoba_id": "196",
                                    "szallas_fk": "12",
                                    "Átlagos létszám": "3"
                                },
                                {
                                    "szoba_id": "196",
                                    "szallas_fk": "12",
                                    "Átlagos létszám": "2"
                                },
                                {
                                    "szoba_id": "196",
                                    "szallas_fk": "12",
                                    "Átlagos létszám": "2"
                                },
                                {
                                    "szoba_id": "196",
                                    "szallas_fk": "12",
                                    "Átlagos létszám": "2"
                                },
                                {
                                    "szoba_id": "197",
                                    "szallas_fk": "12",
                                    "Átlagos létszám": "3"
                                },
                                {
                                    "szoba_id": "197",
                                    "szallas_fk": "12",
                                    "Átlagos létszám": "3"
                                },
                                {
                                    "szoba_id": "197",
                                    "szallas_fk": "12",
                                    "Átlagos létszám": "3"
                                },
                                {
                                    "szoba_id": "197",
                                    "szallas_fk": "12",
                                    "Átlagos létszám": "2"
                                },
                                {
                                    "szoba_id": "197",
                                    "szallas_fk": "12",
                                    "Átlagos létszám": "2"
                                },
                                {
                                    "szoba_id": "197",
                                    "szallas_fk": "12",
                                    "Átlagos létszám": "2"
                                },
                                {
                                    "szoba_id": "198",
                                    "szallas_fk": "12",
                                    "Átlagos létszám": "3"
                                },
                                {
                                    "szoba_id": "198",
                                    "szallas_fk": "12",
                                    "Átlagos létszám": "3"
                                },
                                {
                                    "szoba_id": "198",
                                    "szallas_fk": "12",
                                    "Átlagos létszám": "3"
                                },
                                {
                                    "szoba_id": "198",
                                    "szallas_fk": "12",
                                    "Átlagos létszám": "3"
                                },
                                {
                                    "szoba_id": "198",
                                    "szallas_fk": "12",
                                    "Átlagos létszám": "2"
                                },
                                {
                                    "szoba_id": "198",
                                    "szallas_fk": "12",
                                    "Átlagos létszám": "2"
                                },
                                {
                                    "szoba_id": "198",
                                    "szallas_fk": "12",
                                    "Átlagos létszám": "2"
                                },
                                {
                                    "szoba_id": "198",
                                    "szallas_fk": "12",
                                    "Átlagos létszám": "2"
                                }
                            ]
                        },
                        "text/html": [
                            "<table>",
                            "<tr><th>szoba_id</th><th>szallas_fk</th><th>Átlagos létszám</th></tr>",
                            "<tr><td>1</td><td>1</td><td>1</td></tr>",
                            "<tr><td>1</td><td>1</td><td>1</td></tr>",
                            "<tr><td>1</td><td>1</td><td>1</td></tr>",
                            "<tr><td>1</td><td>1</td><td>1</td></tr>",
                            "<tr><td>1</td><td>1</td><td>1</td></tr>",
                            "<tr><td>1</td><td>1</td><td>2</td></tr>",
                            "<tr><td>1</td><td>1</td><td>2</td></tr>",
                            "<tr><td>1</td><td>1</td><td>2</td></tr>",
                            "<tr><td>2</td><td>1</td><td>4</td></tr>",
                            "<tr><td>2</td><td>1</td><td>3</td></tr>",
                            "<tr><td>2</td><td>1</td><td>3</td></tr>",
                            "<tr><td>2</td><td>1</td><td>3</td></tr>",
                            "<tr><td>3</td><td>1</td><td>3</td></tr>",
                            "<tr><td>3</td><td>1</td><td>3</td></tr>",
                            "<tr><td>3</td><td>1</td><td>3</td></tr>",
                            "<tr><td>3</td><td>1</td><td>3</td></tr>",
                            "<tr><td>3</td><td>1</td><td>3</td></tr>",
                            "<tr><td>3</td><td>1</td><td>3</td></tr>",
                            "<tr><td>3</td><td>1</td><td>3</td></tr>",
                            "<tr><td>3</td><td>1</td><td>2</td></tr>",
                            "<tr><td>4</td><td>1</td><td>1</td></tr>",
                            "<tr><td>4</td><td>1</td><td>1</td></tr>",
                            "<tr><td>4</td><td>1</td><td>1</td></tr>",
                            "<tr><td>4</td><td>1</td><td>1</td></tr>",
                            "<tr><td>4</td><td>1</td><td>1</td></tr>",
                            "<tr><td>4</td><td>1</td><td>1</td></tr>",
                            "<tr><td>5</td><td>1</td><td>2</td></tr>",
                            "<tr><td>5</td><td>1</td><td>1</td></tr>",
                            "<tr><td>5</td><td>1</td><td>1</td></tr>",
                            "<tr><td>5</td><td>1</td><td>1</td></tr>",
                            "<tr><td>6</td><td>1</td><td>2</td></tr>",
                            "<tr><td>6</td><td>1</td><td>2</td></tr>",
                            "<tr><td>6</td><td>1</td><td>1</td></tr>",
                            "<tr><td>6</td><td>1</td><td>2</td></tr>",
                            "<tr><td>6</td><td>1</td><td>2</td></tr>",
                            "<tr><td>6</td><td>1</td><td>2</td></tr>",
                            "<tr><td>7</td><td>1</td><td>1</td></tr>",
                            "<tr><td>7</td><td>1</td><td>1</td></tr>",
                            "<tr><td>7</td><td>1</td><td>1</td></tr>",
                            "<tr><td>7</td><td>1</td><td>1</td></tr>",
                            "<tr><td>7</td><td>1</td><td>1</td></tr>",
                            "<tr><td>7</td><td>1</td><td>1</td></tr>",
                            "<tr><td>8</td><td>1</td><td>2</td></tr>",
                            "<tr><td>8</td><td>1</td><td>2</td></tr>",
                            "<tr><td>8</td><td>1</td><td>2</td></tr>",
                            "<tr><td>8</td><td>1</td><td>2</td></tr>",
                            "<tr><td>8</td><td>1</td><td>2</td></tr>",
                            "<tr><td>9</td><td>1</td><td>2</td></tr>",
                            "<tr><td>9</td><td>1</td><td>2</td></tr>",
                            "<tr><td>9</td><td>1</td><td>3</td></tr>",
                            "<tr><td>9</td><td>1</td><td>3</td></tr>",
                            "<tr><td>9</td><td>1</td><td>3</td></tr>",
                            "<tr><td>9</td><td>1</td><td>3</td></tr>",
                            "<tr><td>10</td><td>1</td><td>2</td></tr>",
                            "<tr><td>10</td><td>1</td><td>1</td></tr>",
                            "<tr><td>10</td><td>1</td><td>2</td></tr>",
                            "<tr><td>10</td><td>1</td><td>2</td></tr>",
                            "<tr><td>11</td><td>1</td><td>3</td></tr>",
                            "<tr><td>11</td><td>1</td><td>3</td></tr>",
                            "<tr><td>11</td><td>1</td><td>2</td></tr>",
                            "<tr><td>11</td><td>1</td><td>2</td></tr>",
                            "<tr><td>12</td><td>1</td><td>3</td></tr>",
                            "<tr><td>12</td><td>1</td><td>2</td></tr>",
                            "<tr><td>12</td><td>1</td><td>2</td></tr>",
                            "<tr><td>12</td><td>1</td><td>2</td></tr>",
                            "<tr><td>12</td><td>1</td><td>2</td></tr>",
                            "<tr><td>12</td><td>1</td><td>2</td></tr>",
                            "<tr><td>12</td><td>1</td><td>2</td></tr>",
                            "<tr><td>12</td><td>1</td><td>2</td></tr>",
                            "<tr><td>12</td><td>1</td><td>2</td></tr>",
                            "<tr><td>13</td><td>2</td><td>3</td></tr>",
                            "<tr><td>13</td><td>2</td><td>3</td></tr>",
                            "<tr><td>13</td><td>2</td><td>3</td></tr>",
                            "<tr><td>13</td><td>2</td><td>2</td></tr>",
                            "<tr><td>14</td><td>2</td><td>4</td></tr>",
                            "<tr><td>14</td><td>2</td><td>3</td></tr>",
                            "<tr><td>14</td><td>2</td><td>3</td></tr>",
                            "<tr><td>15</td><td>2</td><td>3</td></tr>",
                            "<tr><td>15</td><td>2</td><td>2</td></tr>",
                            "<tr><td>15</td><td>2</td><td>2</td></tr>",
                            "<tr><td>15</td><td>2</td><td>2</td></tr>",
                            "<tr><td>15</td><td>2</td><td>2</td></tr>",
                            "<tr><td>15</td><td>2</td><td>2</td></tr>",
                            "<tr><td>16</td><td>2</td><td>4</td></tr>",
                            "<tr><td>16</td><td>2</td><td>3</td></tr>",
                            "<tr><td>16</td><td>2</td><td>3</td></tr>",
                            "<tr><td>16</td><td>2</td><td>3</td></tr>",
                            "<tr><td>16</td><td>2</td><td>3</td></tr>",
                            "<tr><td>17</td><td>3</td><td>4</td></tr>",
                            "<tr><td>17</td><td>3</td><td>3</td></tr>",
                            "<tr><td>17</td><td>3</td><td>3</td></tr>",
                            "<tr><td>17</td><td>3</td><td>2</td></tr>",
                            "<tr><td>17</td><td>3</td><td>2</td></tr>",
                            "<tr><td>17</td><td>3</td><td>2</td></tr>",
                            "<tr><td>18</td><td>3</td><td>2</td></tr>",
                            "<tr><td>18</td><td>3</td><td>2</td></tr>",
                            "<tr><td>18</td><td>3</td><td>2</td></tr>",
                            "<tr><td>18</td><td>3</td><td>3</td></tr>",
                            "<tr><td>18</td><td>3</td><td>2</td></tr>",
                            "<tr><td>18</td><td>3</td><td>3</td></tr>",
                            "<tr><td>19</td><td>3</td><td>1</td></tr>",
                            "<tr><td>19</td><td>3</td><td>2</td></tr>",
                            "<tr><td>19</td><td>3</td><td>2</td></tr>",
                            "<tr><td>19</td><td>3</td><td>2</td></tr>",
                            "<tr><td>19</td><td>3</td><td>2</td></tr>",
                            "<tr><td>19</td><td>3</td><td>2</td></tr>",
                            "<tr><td>20</td><td>3</td><td>1</td></tr>",
                            "<tr><td>20</td><td>3</td><td>2</td></tr>",
                            "<tr><td>20</td><td>3</td><td>2</td></tr>",
                            "<tr><td>20</td><td>3</td><td>2</td></tr>",
                            "<tr><td>20</td><td>3</td><td>2</td></tr>",
                            "<tr><td>21</td><td>3</td><td>2</td></tr>",
                            "<tr><td>21</td><td>3</td><td>2</td></tr>",
                            "<tr><td>21</td><td>3</td><td>2</td></tr>",
                            "<tr><td>21</td><td>3</td><td>2</td></tr>",
                            "<tr><td>22</td><td>3</td><td>2</td></tr>",
                            "<tr><td>22</td><td>3</td><td>1</td></tr>",
                            "<tr><td>22</td><td>3</td><td>2</td></tr>",
                            "<tr><td>22</td><td>3</td><td>3</td></tr>",
                            "<tr><td>22</td><td>3</td><td>3</td></tr>",
                            "<tr><td>22</td><td>3</td><td>3</td></tr>",
                            "<tr><td>23</td><td>3</td><td>2</td></tr>",
                            "<tr><td>23</td><td>3</td><td>1</td></tr>",
                            "<tr><td>23</td><td>3</td><td>1</td></tr>",
                            "<tr><td>24</td><td>3</td><td>1</td></tr>",
                            "<tr><td>24</td><td>3</td><td>2</td></tr>",
                            "<tr><td>24</td><td>3</td><td>3</td></tr>",
                            "<tr><td>25</td><td>4</td><td>3</td></tr>",
                            "<tr><td>25</td><td>4</td><td>3</td></tr>",
                            "<tr><td>26</td><td>4</td><td>3</td></tr>",
                            "<tr><td>26</td><td>4</td><td>2</td></tr>",
                            "<tr><td>27</td><td>4</td><td>4</td></tr>",
                            "<tr><td>27</td><td>4</td><td>3</td></tr>",
                            "<tr><td>27</td><td>4</td><td>3</td></tr>",
                            "<tr><td>27</td><td>4</td><td>3</td></tr>",
                            "<tr><td>27</td><td>4</td><td>3</td></tr>",
                            "<tr><td>27</td><td>4</td><td>3</td></tr>",
                            "<tr><td>27</td><td>4</td><td>3</td></tr>",
                            "<tr><td>28</td><td>4</td><td>1</td></tr>",
                            "<tr><td>28</td><td>4</td><td>1</td></tr>",
                            "<tr><td>28</td><td>4</td><td>1</td></tr>",
                            "<tr><td>28</td><td>4</td><td>1</td></tr>",
                            "<tr><td>28</td><td>4</td><td>2</td></tr>",
                            "<tr><td>28</td><td>4</td><td>2</td></tr>",
                            "<tr><td>29</td><td>4</td><td>2</td></tr>",
                            "<tr><td>29</td><td>4</td><td>2</td></tr>",
                            "<tr><td>29</td><td>4</td><td>2</td></tr>",
                            "<tr><td>29</td><td>4</td><td>2</td></tr>",
                            "<tr><td>29</td><td>4</td><td>2</td></tr>",
                            "<tr><td>29</td><td>4</td><td>1</td></tr>",
                            "<tr><td>30</td><td>4</td><td>2</td></tr>",
                            "<tr><td>30</td><td>4</td><td>2</td></tr>",
                            "<tr><td>30</td><td>4</td><td>2</td></tr>",
                            "<tr><td>31</td><td>4</td><td>4</td></tr>",
                            "<tr><td>31</td><td>4</td><td>4</td></tr>",
                            "<tr><td>31</td><td>4</td><td>4</td></tr>",
                            "<tr><td>32</td><td>4</td><td>2</td></tr>",
                            "<tr><td>33</td><td>4</td><td>4</td></tr>",
                            "<tr><td>33</td><td>4</td><td>3</td></tr>",
                            "<tr><td>33</td><td>4</td><td>3</td></tr>",
                            "<tr><td>33</td><td>4</td><td>3</td></tr>",
                            "<tr><td>33</td><td>4</td><td>2</td></tr>",
                            "<tr><td>33</td><td>4</td><td>2</td></tr>",
                            "<tr><td>34</td><td>4</td><td>2</td></tr>",
                            "<tr><td>34</td><td>4</td><td>1</td></tr>",
                            "<tr><td>34</td><td>4</td><td>1</td></tr>",
                            "<tr><td>34</td><td>4</td><td>2</td></tr>",
                            "<tr><td>35</td><td>4</td><td>3</td></tr>",
                            "<tr><td>35</td><td>4</td><td>2</td></tr>",
                            "<tr><td>35</td><td>4</td><td>2</td></tr>",
                            "<tr><td>35</td><td>4</td><td>2</td></tr>",
                            "<tr><td>35</td><td>4</td><td>2</td></tr>",
                            "<tr><td>35</td><td>4</td><td>2</td></tr>",
                            "<tr><td>35</td><td>4</td><td>2</td></tr>",
                            "<tr><td>35</td><td>4</td><td>2</td></tr>",
                            "<tr><td>35</td><td>4</td><td>1</td></tr>",
                            "<tr><td>36</td><td>4</td><td>5</td></tr>",
                            "<tr><td>36</td><td>4</td><td>4</td></tr>",
                            "<tr><td>36</td><td>4</td><td>4</td></tr>",
                            "<tr><td>36</td><td>4</td><td>4</td></tr>",
                            "<tr><td>36</td><td>4</td><td>4</td></tr>",
                            "<tr><td>36</td><td>4</td><td>3</td></tr>",
                            "<tr><td>37</td><td>4</td><td>2</td></tr>",
                            "<tr><td>37</td><td>4</td><td>1</td></tr>",
                            "<tr><td>37</td><td>4</td><td>1</td></tr>",
                            "<tr><td>38</td><td>4</td><td>3</td></tr>",
                            "<tr><td>38</td><td>4</td><td>3</td></tr>",
                            "<tr><td>38</td><td>4</td><td>3</td></tr>",
                            "<tr><td>38</td><td>4</td><td>3</td></tr>",
                            "<tr><td>38</td><td>4</td><td>2</td></tr>",
                            "<tr><td>38</td><td>4</td><td>2</td></tr>",
                            "<tr><td>38</td><td>4</td><td>2</td></tr>",
                            "<tr><td>38</td><td>4</td><td>2</td></tr>",
                            "<tr><td>39</td><td>4</td><td>1</td></tr>",
                            "<tr><td>39</td><td>4</td><td>1</td></tr>",
                            "<tr><td>39</td><td>4</td><td>1</td></tr>",
                            "<tr><td>39</td><td>4</td><td>1</td></tr>",
                            "<tr><td>39</td><td>4</td><td>1</td></tr>",
                            "<tr><td>39</td><td>4</td><td>2</td></tr>",
                            "<tr><td>39</td><td>4</td><td>2</td></tr>",
                            "<tr><td>40</td><td>5</td><td>3</td></tr>",
                            "<tr><td>40</td><td>5</td><td>3</td></tr>",
                            "<tr><td>40</td><td>5</td><td>2</td></tr>",
                            "<tr><td>40</td><td>5</td><td>2</td></tr>",
                            "<tr><td>41</td><td>5</td><td>3</td></tr>",
                            "<tr><td>41</td><td>5</td><td>3</td></tr>",
                            "<tr><td>42</td><td>5</td><td>2</td></tr>",
                            "<tr><td>42</td><td>5</td><td>2</td></tr>",
                            "<tr><td>42</td><td>5</td><td>2</td></tr>",
                            "<tr><td>42</td><td>5</td><td>2</td></tr>",
                            "<tr><td>42</td><td>5</td><td>2</td></tr>",
                            "<tr><td>42</td><td>5</td><td>2</td></tr>",
                            "<tr><td>43</td><td>5</td><td>3</td></tr>",
                            "<tr><td>43</td><td>5</td><td>2</td></tr>",
                            "<tr><td>43</td><td>5</td><td>2</td></tr>",
                            "<tr><td>43</td><td>5</td><td>2</td></tr>",
                            "<tr><td>43</td><td>5</td><td>2</td></tr>",
                            "<tr><td>43</td><td>5</td><td>2</td></tr>",
                            "<tr><td>43</td><td>5</td><td>2</td></tr>",
                            "<tr><td>43</td><td>5</td><td>2</td></tr>",
                            "<tr><td>44</td><td>5</td><td>3</td></tr>",
                            "<tr><td>44</td><td>5</td><td>3</td></tr>",
                            "<tr><td>44</td><td>5</td><td>3</td></tr>",
                            "<tr><td>44</td><td>5</td><td>3</td></tr>",
                            "<tr><td>44</td><td>5</td><td>3</td></tr>",
                            "<tr><td>44</td><td>5</td><td>3</td></tr>",
                            "<tr><td>45</td><td>5</td><td>2</td></tr>",
                            "<tr><td>45</td><td>5</td><td>2</td></tr>",
                            "<tr><td>45</td><td>5</td><td>1</td></tr>",
                            "<tr><td>45</td><td>5</td><td>1</td></tr>",
                            "<tr><td>45</td><td>5</td><td>1</td></tr>",
                            "<tr><td>46</td><td>5</td><td>2</td></tr>",
                            "<tr><td>46</td><td>5</td><td>1</td></tr>",
                            "<tr><td>46</td><td>5</td><td>1</td></tr>",
                            "<tr><td>46</td><td>5</td><td>2</td></tr>",
                            "<tr><td>47</td><td>5</td><td>1</td></tr>",
                            "<tr><td>47</td><td>5</td><td>1</td></tr>",
                            "<tr><td>48</td><td>5</td><td>3</td></tr>",
                            "<tr><td>48</td><td>5</td><td>3</td></tr>",
                            "<tr><td>48</td><td>5</td><td>3</td></tr>",
                            "<tr><td>48</td><td>5</td><td>3</td></tr>",
                            "<tr><td>48</td><td>5</td><td>3</td></tr>",
                            "<tr><td>48</td><td>5</td><td>3</td></tr>",
                            "<tr><td>48</td><td>5</td><td>3</td></tr>",
                            "<tr><td>48</td><td>5</td><td>3</td></tr>",
                            "<tr><td>48</td><td>5</td><td>2</td></tr>",
                            "<tr><td>49</td><td>5</td><td>3</td></tr>",
                            "<tr><td>49</td><td>5</td><td>3</td></tr>",
                            "<tr><td>49</td><td>5</td><td>2</td></tr>",
                            "<tr><td>49</td><td>5</td><td>2</td></tr>",
                            "<tr><td>49</td><td>5</td><td>2</td></tr>",
                            "<tr><td>49</td><td>5</td><td>2</td></tr>",
                            "<tr><td>49</td><td>5</td><td>2</td></tr>",
                            "<tr><td>50</td><td>6</td><td>1</td></tr>",
                            "<tr><td>50</td><td>6</td><td>1</td></tr>",
                            "<tr><td>50</td><td>6</td><td>1</td></tr>",
                            "<tr><td>50</td><td>6</td><td>1</td></tr>",
                            "<tr><td>51</td><td>6</td><td>2</td></tr>",
                            "<tr><td>51</td><td>6</td><td>2</td></tr>",
                            "<tr><td>51</td><td>6</td><td>2</td></tr>",
                            "<tr><td>51</td><td>6</td><td>2</td></tr>",
                            "<tr><td>51</td><td>6</td><td>2</td></tr>",
                            "<tr><td>52</td><td>6</td><td>2</td></tr>",
                            "<tr><td>52</td><td>6</td><td>1</td></tr>",
                            "<tr><td>52</td><td>6</td><td>1</td></tr>",
                            "<tr><td>52</td><td>6</td><td>1</td></tr>",
                            "<tr><td>52</td><td>6</td><td>1</td></tr>",
                            "<tr><td>53</td><td>6</td><td>3</td></tr>",
                            "<tr><td>53</td><td>6</td><td>2</td></tr>",
                            "<tr><td>54</td><td>6</td><td>2</td></tr>",
                            "<tr><td>54</td><td>6</td><td>2</td></tr>",
                            "<tr><td>54</td><td>6</td><td>2</td></tr>",
                            "<tr><td>54</td><td>6</td><td>2</td></tr>",
                            "<tr><td>54</td><td>6</td><td>2</td></tr>",
                            "<tr><td>54</td><td>6</td><td>2</td></tr>",
                            "<tr><td>55</td><td>6</td><td>3</td></tr>",
                            "<tr><td>55</td><td>6</td><td>2</td></tr>",
                            "<tr><td>55</td><td>6</td><td>2</td></tr>",
                            "<tr><td>55</td><td>6</td><td>2</td></tr>",
                            "<tr><td>55</td><td>6</td><td>2</td></tr>",
                            "<tr><td>55</td><td>6</td><td>2</td></tr>",
                            "<tr><td>55</td><td>6</td><td>2</td></tr>",
                            "<tr><td>55</td><td>6</td><td>3</td></tr>",
                            "<tr><td>56</td><td>6</td><td>1</td></tr>",
                            "<tr><td>56</td><td>6</td><td>1</td></tr>",
                            "<tr><td>57</td><td>6</td><td>2</td></tr>",
                            "<tr><td>57</td><td>6</td><td>2</td></tr>",
                            "<tr><td>57</td><td>6</td><td>1</td></tr>",
                            "<tr><td>57</td><td>6</td><td>1</td></tr>",
                            "<tr><td>58</td><td>6</td><td>2</td></tr>",
                            "<tr><td>58</td><td>6</td><td>2</td></tr>",
                            "<tr><td>58</td><td>6</td><td>2</td></tr>",
                            "<tr><td>58</td><td>6</td><td>2</td></tr>",
                            "<tr><td>58</td><td>6</td><td>2</td></tr>",
                            "<tr><td>58</td><td>6</td><td>2</td></tr>",
                            "<tr><td>58</td><td>6</td><td>2</td></tr>",
                            "<tr><td>58</td><td>6</td><td>2</td></tr>",
                            "<tr><td>58</td><td>6</td><td>2</td></tr>",
                            "<tr><td>58</td><td>6</td><td>2</td></tr>",
                            "<tr><td>58</td><td>6</td><td>2</td></tr>",
                            "<tr><td>58</td><td>6</td><td>2</td></tr>",
                            "<tr><td>58</td><td>6</td><td>2</td></tr>",
                            "<tr><td>59</td><td>6</td><td>3</td></tr>",
                            "<tr><td>59</td><td>6</td><td>2</td></tr>",
                            "<tr><td>59</td><td>6</td><td>2</td></tr>",
                            "<tr><td>59</td><td>6</td><td>2</td></tr>",
                            "<tr><td>59</td><td>6</td><td>2</td></tr>",
                            "<tr><td>59</td><td>6</td><td>2</td></tr>",
                            "<tr><td>59</td><td>6</td><td>2</td></tr>",
                            "<tr><td>60</td><td>6</td><td>2</td></tr>",
                            "<tr><td>61</td><td>6</td><td>2</td></tr>",
                            "<tr><td>61</td><td>6</td><td>2</td></tr>",
                            "<tr><td>61</td><td>6</td><td>2</td></tr>",
                            "<tr><td>61</td><td>6</td><td>2</td></tr>",
                            "<tr><td>61</td><td>6</td><td>2</td></tr>",
                            "<tr><td>62</td><td>6</td><td>2</td></tr>",
                            "<tr><td>62</td><td>6</td><td>2</td></tr>",
                            "<tr><td>62</td><td>6</td><td>1</td></tr>",
                            "<tr><td>62</td><td>6</td><td>1</td></tr>",
                            "<tr><td>62</td><td>6</td><td>1</td></tr>",
                            "<tr><td>63</td><td>6</td><td>2</td></tr>",
                            "<tr><td>63</td><td>6</td><td>1</td></tr>",
                            "<tr><td>63</td><td>6</td><td>1</td></tr>",
                            "<tr><td>63</td><td>6</td><td>1</td></tr>",
                            "<tr><td>64</td><td>6</td><td>2</td></tr>",
                            "<tr><td>64</td><td>6</td><td>2</td></tr>",
                            "<tr><td>64</td><td>6</td><td>2</td></tr>",
                            "<tr><td>64</td><td>6</td><td>2</td></tr>",
                            "<tr><td>64</td><td>6</td><td>2</td></tr>",
                            "<tr><td>64</td><td>6</td><td>2</td></tr>",
                            "<tr><td>65</td><td>6</td><td>2</td></tr>",
                            "<tr><td>66</td><td>6</td><td>3</td></tr>",
                            "<tr><td>66</td><td>6</td><td>3</td></tr>",
                            "<tr><td>66</td><td>6</td><td>3</td></tr>",
                            "<tr><td>66</td><td>6</td><td>3</td></tr>",
                            "<tr><td>67</td><td>6</td><td>1</td></tr>",
                            "<tr><td>67</td><td>6</td><td>2</td></tr>",
                            "<tr><td>67</td><td>6</td><td>2</td></tr>",
                            "<tr><td>67</td><td>6</td><td>2</td></tr>",
                            "<tr><td>67</td><td>6</td><td>2</td></tr>",
                            "<tr><td>67</td><td>6</td><td>3</td></tr>",
                            "<tr><td>68</td><td>6</td><td>4</td></tr>",
                            "<tr><td>68</td><td>6</td><td>4</td></tr>",
                            "<tr><td>68</td><td>6</td><td>4</td></tr>",
                            "<tr><td>69</td><td>6</td><td>3</td></tr>",
                            "<tr><td>69</td><td>6</td><td>3</td></tr>",
                            "<tr><td>69</td><td>6</td><td>2</td></tr>",
                            "<tr><td>69</td><td>6</td><td>2</td></tr>",
                            "<tr><td>70</td><td>6</td><td>3</td></tr>",
                            "<tr><td>70</td><td>6</td><td>2</td></tr>",
                            "<tr><td>70</td><td>6</td><td>1</td></tr>",
                            "<tr><td>70</td><td>6</td><td>2</td></tr>",
                            "<tr><td>70</td><td>6</td><td>2</td></tr>",
                            "<tr><td>70</td><td>6</td><td>2</td></tr>",
                            "<tr><td>70</td><td>6</td><td>2</td></tr>",
                            "<tr><td>70</td><td>6</td><td>2</td></tr>",
                            "<tr><td>70</td><td>6</td><td>2</td></tr>",
                            "<tr><td>70</td><td>6</td><td>2</td></tr>",
                            "<tr><td>70</td><td>6</td><td>2</td></tr>",
                            "<tr><td>71</td><td>6</td><td>3</td></tr>",
                            "<tr><td>71</td><td>6</td><td>2</td></tr>",
                            "<tr><td>71</td><td>6</td><td>2</td></tr>",
                            "<tr><td>72</td><td>6</td><td>2</td></tr>",
                            "<tr><td>72</td><td>6</td><td>2</td></tr>",
                            "<tr><td>72</td><td>6</td><td>2</td></tr>",
                            "<tr><td>72</td><td>6</td><td>1</td></tr>",
                            "<tr><td>73</td><td>6</td><td>2</td></tr>",
                            "<tr><td>73</td><td>6</td><td>2</td></tr>",
                            "<tr><td>73</td><td>6</td><td>2</td></tr>",
                            "<tr><td>73</td><td>6</td><td>2</td></tr>",
                            "<tr><td>74</td><td>6</td><td>2</td></tr>",
                            "<tr><td>74</td><td>6</td><td>2</td></tr>",
                            "<tr><td>74</td><td>6</td><td>3</td></tr>",
                            "<tr><td>74</td><td>6</td><td>3</td></tr>",
                            "<tr><td>74</td><td>6</td><td>3</td></tr>",
                            "<tr><td>74</td><td>6</td><td>3</td></tr>",
                            "<tr><td>74</td><td>6</td><td>3</td></tr>",
                            "<tr><td>74</td><td>6</td><td>3</td></tr>",
                            "<tr><td>74</td><td>6</td><td>3</td></tr>",
                            "<tr><td>75</td><td>6</td><td>2</td></tr>",
                            "<tr><td>75</td><td>6</td><td>2</td></tr>",
                            "<tr><td>75</td><td>6</td><td>2</td></tr>",
                            "<tr><td>76</td><td>6</td><td>1</td></tr>",
                            "<tr><td>76</td><td>6</td><td>1</td></tr>",
                            "<tr><td>76</td><td>6</td><td>1</td></tr>",
                            "<tr><td>77</td><td>6</td><td>3</td></tr>",
                            "<tr><td>77</td><td>6</td><td>3</td></tr>",
                            "<tr><td>77</td><td>6</td><td>3</td></tr>",
                            "<tr><td>77</td><td>6</td><td>3</td></tr>",
                            "<tr><td>77</td><td>6</td><td>3</td></tr>",
                            "<tr><td>77</td><td>6</td><td>2</td></tr>",
                            "<tr><td>78</td><td>6</td><td>2</td></tr>",
                            "<tr><td>78</td><td>6</td><td>2</td></tr>",
                            "<tr><td>78</td><td>6</td><td>2</td></tr>",
                            "<tr><td>78</td><td>6</td><td>2</td></tr>",
                            "<tr><td>78</td><td>6</td><td>2</td></tr>",
                            "<tr><td>78</td><td>6</td><td>2</td></tr>",
                            "<tr><td>79</td><td>6</td><td>3</td></tr>",
                            "<tr><td>79</td><td>6</td><td>3</td></tr>",
                            "<tr><td>79</td><td>6</td><td>3</td></tr>",
                            "<tr><td>79</td><td>6</td><td>2</td></tr>",
                            "<tr><td>79</td><td>6</td><td>2</td></tr>",
                            "<tr><td>80</td><td>6</td><td>2</td></tr>",
                            "<tr><td>80</td><td>6</td><td>2</td></tr>",
                            "<tr><td>80</td><td>6</td><td>2</td></tr>",
                            "<tr><td>80</td><td>6</td><td>2</td></tr>",
                            "<tr><td>80</td><td>6</td><td>2</td></tr>",
                            "<tr><td>80</td><td>6</td><td>2</td></tr>",
                            "<tr><td>80</td><td>6</td><td>2</td></tr>",
                            "<tr><td>81</td><td>6</td><td>1</td></tr>",
                            "<tr><td>81</td><td>6</td><td>1</td></tr>",
                            "<tr><td>81</td><td>6</td><td>1</td></tr>",
                            "<tr><td>81</td><td>6</td><td>1</td></tr>",
                            "<tr><td>81</td><td>6</td><td>1</td></tr>",
                            "<tr><td>82</td><td>6</td><td>3</td></tr>",
                            "<tr><td>82</td><td>6</td><td>3</td></tr>",
                            "<tr><td>82</td><td>6</td><td>2</td></tr>",
                            "<tr><td>82</td><td>6</td><td>2</td></tr>",
                            "<tr><td>82</td><td>6</td><td>2</td></tr>",
                            "<tr><td>82</td><td>6</td><td>2</td></tr>",
                            "<tr><td>83</td><td>6</td><td>2</td></tr>",
                            "<tr><td>83</td><td>6</td><td>2</td></tr>",
                            "<tr><td>83</td><td>6</td><td>2</td></tr>",
                            "<tr><td>83</td><td>6</td><td>2</td></tr>",
                            "<tr><td>83</td><td>6</td><td>2</td></tr>",
                            "<tr><td>83</td><td>6</td><td>2</td></tr>",
                            "<tr><td>83</td><td>6</td><td>2</td></tr>",
                            "<tr><td>83</td><td>6</td><td>2</td></tr>",
                            "<tr><td>84</td><td>6</td><td>1</td></tr>",
                            "<tr><td>84</td><td>6</td><td>1</td></tr>",
                            "<tr><td>84</td><td>6</td><td>2</td></tr>",
                            "<tr><td>84</td><td>6</td><td>1</td></tr>",
                            "<tr><td>85</td><td>7</td><td>2</td></tr>",
                            "<tr><td>85</td><td>7</td><td>2</td></tr>",
                            "<tr><td>85</td><td>7</td><td>2</td></tr>",
                            "<tr><td>85</td><td>7</td><td>2</td></tr>",
                            "<tr><td>86</td><td>7</td><td>3</td></tr>",
                            "<tr><td>86</td><td>7</td><td>2</td></tr>",
                            "<tr><td>86</td><td>7</td><td>1</td></tr>",
                            "<tr><td>86</td><td>7</td><td>1</td></tr>",
                            "<tr><td>86</td><td>7</td><td>2</td></tr>",
                            "<tr><td>87</td><td>7</td><td>3</td></tr>",
                            "<tr><td>87</td><td>7</td><td>3</td></tr>",
                            "<tr><td>87</td><td>7</td><td>2</td></tr>",
                            "<tr><td>87</td><td>7</td><td>2</td></tr>",
                            "<tr><td>87</td><td>7</td><td>2</td></tr>",
                            "<tr><td>88</td><td>7</td><td>2</td></tr>",
                            "<tr><td>88</td><td>7</td><td>1</td></tr>",
                            "<tr><td>88</td><td>7</td><td>2</td></tr>",
                            "<tr><td>88</td><td>7</td><td>2</td></tr>",
                            "<tr><td>88</td><td>7</td><td>2</td></tr>",
                            "<tr><td>88</td><td>7</td><td>2</td></tr>",
                            "<tr><td>88</td><td>7</td><td>3</td></tr>",
                            "<tr><td>88</td><td>7</td><td>2</td></tr>",
                            "<tr><td>89</td><td>7</td><td>3</td></tr>",
                            "<tr><td>89</td><td>7</td><td>2</td></tr>",
                            "<tr><td>89</td><td>7</td><td>2</td></tr>",
                            "<tr><td>89</td><td>7</td><td>2</td></tr>",
                            "<tr><td>89</td><td>7</td><td>2</td></tr>",
                            "<tr><td>89</td><td>7</td><td>2</td></tr>",
                            "<tr><td>89</td><td>7</td><td>2</td></tr>",
                            "<tr><td>89</td><td>7</td><td>2</td></tr>",
                            "<tr><td>90</td><td>7</td><td>2</td></tr>",
                            "<tr><td>90</td><td>7</td><td>2</td></tr>",
                            "<tr><td>90</td><td>7</td><td>2</td></tr>",
                            "<tr><td>90</td><td>7</td><td>2</td></tr>",
                            "<tr><td>91</td><td>8</td><td>2</td></tr>",
                            "<tr><td>91</td><td>8</td><td>2</td></tr>",
                            "<tr><td>91</td><td>8</td><td>1</td></tr>",
                            "<tr><td>91</td><td>8</td><td>1</td></tr>",
                            "<tr><td>92</td><td>8</td><td>4</td></tr>",
                            "<tr><td>92</td><td>8</td><td>3</td></tr>",
                            "<tr><td>92</td><td>8</td><td>3</td></tr>",
                            "<tr><td>92</td><td>8</td><td>3</td></tr>",
                            "<tr><td>92</td><td>8</td><td>3</td></tr>",
                            "<tr><td>92</td><td>8</td><td>3</td></tr>",
                            "<tr><td>93</td><td>8</td><td>4</td></tr>",
                            "<tr><td>93</td><td>8</td><td>2</td></tr>",
                            "<tr><td>93</td><td>8</td><td>3</td></tr>",
                            "<tr><td>93</td><td>8</td><td>3</td></tr>",
                            "<tr><td>93</td><td>8</td><td>3</td></tr>",
                            "<tr><td>94</td><td>8</td><td>2</td></tr>",
                            "<tr><td>94</td><td>8</td><td>2</td></tr>",
                            "<tr><td>94</td><td>8</td><td>2</td></tr>",
                            "<tr><td>94</td><td>8</td><td>2</td></tr>",
                            "<tr><td>94</td><td>8</td><td>2</td></tr>",
                            "<tr><td>94</td><td>8</td><td>2</td></tr>",
                            "<tr><td>94</td><td>8</td><td>1</td></tr>",
                            "<tr><td>94</td><td>8</td><td>1</td></tr>",
                            "<tr><td>94</td><td>8</td><td>1</td></tr>",
                            "<tr><td>94</td><td>8</td><td>1</td></tr>",
                            "<tr><td>95</td><td>8</td><td>2</td></tr>",
                            "<tr><td>95</td><td>8</td><td>1</td></tr>",
                            "<tr><td>95</td><td>8</td><td>2</td></tr>",
                            "<tr><td>95</td><td>8</td><td>1</td></tr>",
                            "<tr><td>96</td><td>8</td><td>3</td></tr>",
                            "<tr><td>96</td><td>8</td><td>3</td></tr>",
                            "<tr><td>96</td><td>8</td><td>3</td></tr>",
                            "<tr><td>96</td><td>8</td><td>2</td></tr>",
                            "<tr><td>96</td><td>8</td><td>2</td></tr>",
                            "<tr><td>96</td><td>8</td><td>2</td></tr>",
                            "<tr><td>96</td><td>8</td><td>2</td></tr>",
                            "<tr><td>97</td><td>8</td><td>4</td></tr>",
                            "<tr><td>97</td><td>8</td><td>4</td></tr>",
                            "<tr><td>97</td><td>8</td><td>4</td></tr>",
                            "<tr><td>97</td><td>8</td><td>3</td></tr>",
                            "<tr><td>97</td><td>8</td><td>3</td></tr>",
                            "<tr><td>97</td><td>8</td><td>3</td></tr>",
                            "<tr><td>97</td><td>8</td><td>3</td></tr>",
                            "<tr><td>98</td><td>8</td><td>1</td></tr>",
                            "<tr><td>98</td><td>8</td><td>1</td></tr>",
                            "<tr><td>98</td><td>8</td><td>1</td></tr>",
                            "<tr><td>98</td><td>8</td><td>1</td></tr>",
                            "<tr><td>99</td><td>8</td><td>2</td></tr>",
                            "<tr><td>99</td><td>8</td><td>2</td></tr>",
                            "<tr><td>99</td><td>8</td><td>2</td></tr>",
                            "<tr><td>99</td><td>8</td><td>2</td></tr>",
                            "<tr><td>99</td><td>8</td><td>2</td></tr>",
                            "<tr><td>100</td><td>8</td><td>2</td></tr>",
                            "<tr><td>100</td><td>8</td><td>2</td></tr>",
                            "<tr><td>100</td><td>8</td><td>2</td></tr>",
                            "<tr><td>100</td><td>8</td><td>2</td></tr>",
                            "<tr><td>101</td><td>8</td><td>2</td></tr>",
                            "<tr><td>101</td><td>8</td><td>2</td></tr>",
                            "<tr><td>101</td><td>8</td><td>2</td></tr>",
                            "<tr><td>102</td><td>8</td><td>1</td></tr>",
                            "<tr><td>102</td><td>8</td><td>1</td></tr>",
                            "<tr><td>103</td><td>8</td><td>3</td></tr>",
                            "<tr><td>103</td><td>8</td><td>2</td></tr>",
                            "<tr><td>103</td><td>8</td><td>2</td></tr>",
                            "<tr><td>103</td><td>8</td><td>2</td></tr>",
                            "<tr><td>104</td><td>8</td><td>3</td></tr>",
                            "<tr><td>104</td><td>8</td><td>3</td></tr>",
                            "<tr><td>104</td><td>8</td><td>3</td></tr>",
                            "<tr><td>104</td><td>8</td><td>2</td></tr>",
                            "<tr><td>105</td><td>8</td><td>2</td></tr>",
                            "<tr><td>105</td><td>8</td><td>2</td></tr>",
                            "<tr><td>106</td><td>8</td><td>1</td></tr>",
                            "<tr><td>106</td><td>8</td><td>1</td></tr>",
                            "<tr><td>106</td><td>8</td><td>1</td></tr>",
                            "<tr><td>106</td><td>8</td><td>1</td></tr>",
                            "<tr><td>106</td><td>8</td><td>1</td></tr>",
                            "<tr><td>106</td><td>8</td><td>1</td></tr>",
                            "<tr><td>107</td><td>8</td><td>1</td></tr>",
                            "<tr><td>107</td><td>8</td><td>1</td></tr>",
                            "<tr><td>107</td><td>8</td><td>1</td></tr>",
                            "<tr><td>107</td><td>8</td><td>2</td></tr>",
                            "<tr><td>107</td><td>8</td><td>2</td></tr>",
                            "<tr><td>108</td><td>8</td><td>1</td></tr>",
                            "<tr><td>108</td><td>8</td><td>1</td></tr>",
                            "<tr><td>109</td><td>8</td><td>3</td></tr>",
                            "<tr><td>109</td><td>8</td><td>2</td></tr>",
                            "<tr><td>109</td><td>8</td><td>2</td></tr>",
                            "<tr><td>109</td><td>8</td><td>2</td></tr>",
                            "<tr><td>109</td><td>8</td><td>2</td></tr>",
                            "<tr><td>109</td><td>8</td><td>2</td></tr>",
                            "<tr><td>109</td><td>8</td><td>2</td></tr>",
                            "<tr><td>110</td><td>8</td><td>2</td></tr>",
                            "<tr><td>110</td><td>8</td><td>2</td></tr>",
                            "<tr><td>110</td><td>8</td><td>2</td></tr>",
                            "<tr><td>110</td><td>8</td><td>2</td></tr>",
                            "<tr><td>110</td><td>8</td><td>1</td></tr>",
                            "<tr><td>110</td><td>8</td><td>1</td></tr>",
                            "<tr><td>110</td><td>8</td><td>1</td></tr>",
                            "<tr><td>110</td><td>8</td><td>1</td></tr>",
                            "<tr><td>111</td><td>8</td><td>3</td></tr>",
                            "<tr><td>111</td><td>8</td><td>2</td></tr>",
                            "<tr><td>111</td><td>8</td><td>2</td></tr>",
                            "<tr><td>111</td><td>8</td><td>2</td></tr>",
                            "<tr><td>111</td><td>8</td><td>2</td></tr>",
                            "<tr><td>112</td><td>8</td><td>3</td></tr>",
                            "<tr><td>112</td><td>8</td><td>3</td></tr>",
                            "<tr><td>112</td><td>8</td><td>3</td></tr>",
                            "<tr><td>112</td><td>8</td><td>3</td></tr>",
                            "<tr><td>112</td><td>8</td><td>3</td></tr>",
                            "<tr><td>113</td><td>8</td><td>4</td></tr>",
                            "<tr><td>113</td><td>8</td><td>4</td></tr>",
                            "<tr><td>113</td><td>8</td><td>4</td></tr>",
                            "<tr><td>113</td><td>8</td><td>4</td></tr>",
                            "<tr><td>113</td><td>8</td><td>4</td></tr>",
                            "<tr><td>114</td><td>8</td><td>2</td></tr>",
                            "<tr><td>114</td><td>8</td><td>2</td></tr>",
                            "<tr><td>114</td><td>8</td><td>2</td></tr>",
                            "<tr><td>114</td><td>8</td><td>2</td></tr>",
                            "<tr><td>115</td><td>8</td><td>3</td></tr>",
                            "<tr><td>115</td><td>8</td><td>3</td></tr>",
                            "<tr><td>115</td><td>8</td><td>3</td></tr>",
                            "<tr><td>115</td><td>8</td><td>2</td></tr>",
                            "<tr><td>115</td><td>8</td><td>2</td></tr>",
                            "<tr><td>115</td><td>8</td><td>2</td></tr>",
                            "<tr><td>115</td><td>8</td><td>2</td></tr>",
                            "<tr><td>116</td><td>8</td><td>2</td></tr>",
                            "<tr><td>116</td><td>8</td><td>2</td></tr>",
                            "<tr><td>117</td><td>8</td><td>2</td></tr>",
                            "<tr><td>117</td><td>8</td><td>2</td></tr>",
                            "<tr><td>117</td><td>8</td><td>2</td></tr>",
                            "<tr><td>117</td><td>8</td><td>2</td></tr>",
                            "<tr><td>117</td><td>8</td><td>3</td></tr>",
                            "<tr><td>117</td><td>8</td><td>3</td></tr>",
                            "<tr><td>117</td><td>8</td><td>3</td></tr>",
                            "<tr><td>117</td><td>8</td><td>3</td></tr>",
                            "<tr><td>118</td><td>8</td><td>2</td></tr>",
                            "<tr><td>118</td><td>8</td><td>2</td></tr>",
                            "<tr><td>118</td><td>8</td><td>2</td></tr>",
                            "<tr><td>118</td><td>8</td><td>2</td></tr>",
                            "<tr><td>118</td><td>8</td><td>2</td></tr>",
                            "<tr><td>118</td><td>8</td><td>2</td></tr>",
                            "<tr><td>118</td><td>8</td><td>2</td></tr>",
                            "<tr><td>119</td><td>8</td><td>1</td></tr>",
                            "<tr><td>119</td><td>8</td><td>1</td></tr>",
                            "<tr><td>119</td><td>8</td><td>1</td></tr>",
                            "<tr><td>119</td><td>8</td><td>1</td></tr>",
                            "<tr><td>119</td><td>8</td><td>1</td></tr>",
                            "<tr><td>120</td><td>8</td><td>4</td></tr>",
                            "<tr><td>120</td><td>8</td><td>3</td></tr>",
                            "<tr><td>120</td><td>8</td><td>3</td></tr>",
                            "<tr><td>120</td><td>8</td><td>2</td></tr>",
                            "<tr><td>120</td><td>8</td><td>2</td></tr>",
                            "<tr><td>120</td><td>8</td><td>2</td></tr>",
                            "<tr><td>121</td><td>8</td><td>1</td></tr>",
                            "<tr><td>121</td><td>8</td><td>1</td></tr>",
                            "<tr><td>121</td><td>8</td><td>1</td></tr>",
                            "<tr><td>121</td><td>8</td><td>1</td></tr>",
                            "<tr><td>121</td><td>8</td><td>2</td></tr>",
                            "<tr><td>121</td><td>8</td><td>2</td></tr>",
                            "<tr><td>121</td><td>8</td><td>2</td></tr>",
                            "<tr><td>121</td><td>8</td><td>2</td></tr>",
                            "<tr><td>122</td><td>8</td><td>3</td></tr>",
                            "<tr><td>122</td><td>8</td><td>3</td></tr>",
                            "<tr><td>122</td><td>8</td><td>3</td></tr>",
                            "<tr><td>122</td><td>8</td><td>3</td></tr>",
                            "<tr><td>122</td><td>8</td><td>3</td></tr>",
                            "<tr><td>122</td><td>8</td><td>3</td></tr>",
                            "<tr><td>122</td><td>8</td><td>3</td></tr>",
                            "<tr><td>122</td><td>8</td><td>3</td></tr>",
                            "<tr><td>122</td><td>8</td><td>3</td></tr>",
                            "<tr><td>123</td><td>8</td><td>1</td></tr>",
                            "<tr><td>123</td><td>8</td><td>1</td></tr>",
                            "<tr><td>123</td><td>8</td><td>1</td></tr>",
                            "<tr><td>123</td><td>8</td><td>2</td></tr>",
                            "<tr><td>123</td><td>8</td><td>2</td></tr>",
                            "<tr><td>124</td><td>8</td><td>3</td></tr>",
                            "<tr><td>124</td><td>8</td><td>3</td></tr>",
                            "<tr><td>124</td><td>8</td><td>3</td></tr>",
                            "<tr><td>124</td><td>8</td><td>2</td></tr>",
                            "<tr><td>124</td><td>8</td><td>2</td></tr>",
                            "<tr><td>124</td><td>8</td><td>2</td></tr>",
                            "<tr><td>125</td><td>8</td><td>3</td></tr>",
                            "<tr><td>126</td><td>8</td><td>3</td></tr>",
                            "<tr><td>126</td><td>8</td><td>2</td></tr>",
                            "<tr><td>126</td><td>8</td><td>2</td></tr>",
                            "<tr><td>126</td><td>8</td><td>2</td></tr>",
                            "<tr><td>126</td><td>8</td><td>1</td></tr>",
                            "<tr><td>126</td><td>8</td><td>1</td></tr>",
                            "<tr><td>127</td><td>8</td><td>2</td></tr>",
                            "<tr><td>127</td><td>8</td><td>2</td></tr>",
                            "<tr><td>127</td><td>8</td><td>2</td></tr>",
                            "<tr><td>127</td><td>8</td><td>1</td></tr>",
                            "<tr><td>127</td><td>8</td><td>2</td></tr>",
                            "<tr><td>127</td><td>8</td><td>2</td></tr>",
                            "<tr><td>127</td><td>8</td><td>2</td></tr>",
                            "<tr><td>128</td><td>8</td><td>2</td></tr>",
                            "<tr><td>128</td><td>8</td><td>2</td></tr>",
                            "<tr><td>128</td><td>8</td><td>2</td></tr>",
                            "<tr><td>128</td><td>8</td><td>2</td></tr>",
                            "<tr><td>128</td><td>8</td><td>2</td></tr>",
                            "<tr><td>129</td><td>8</td><td>2</td></tr>",
                            "<tr><td>129</td><td>8</td><td>2</td></tr>",
                            "<tr><td>129</td><td>8</td><td>2</td></tr>",
                            "<tr><td>129</td><td>8</td><td>2</td></tr>",
                            "<tr><td>130</td><td>9</td><td>2</td></tr>",
                            "<tr><td>130</td><td>9</td><td>2</td></tr>",
                            "<tr><td>130</td><td>9</td><td>2</td></tr>",
                            "<tr><td>130</td><td>9</td><td>1</td></tr>",
                            "<tr><td>130</td><td>9</td><td>1</td></tr>",
                            "<tr><td>130</td><td>9</td><td>1</td></tr>",
                            "<tr><td>131</td><td>9</td><td>2</td></tr>",
                            "<tr><td>131</td><td>9</td><td>2</td></tr>",
                            "<tr><td>131</td><td>9</td><td>1</td></tr>",
                            "<tr><td>131</td><td>9</td><td>1</td></tr>",
                            "<tr><td>131</td><td>9</td><td>1</td></tr>",
                            "<tr><td>132</td><td>9</td><td>2</td></tr>",
                            "<tr><td>132</td><td>9</td><td>2</td></tr>",
                            "<tr><td>132</td><td>9</td><td>2</td></tr>",
                            "<tr><td>132</td><td>9</td><td>2</td></tr>",
                            "<tr><td>132</td><td>9</td><td>2</td></tr>",
                            "<tr><td>132</td><td>9</td><td>2</td></tr>",
                            "<tr><td>133</td><td>9</td><td>3</td></tr>",
                            "<tr><td>133</td><td>9</td><td>2</td></tr>",
                            "<tr><td>133</td><td>9</td><td>2</td></tr>",
                            "<tr><td>133</td><td>9</td><td>2</td></tr>",
                            "<tr><td>133</td><td>9</td><td>2</td></tr>",
                            "<tr><td>133</td><td>9</td><td>2</td></tr>",
                            "<tr><td>134</td><td>9</td><td>2</td></tr>",
                            "<tr><td>134</td><td>9</td><td>2</td></tr>",
                            "<tr><td>134</td><td>9</td><td>2</td></tr>",
                            "<tr><td>134</td><td>9</td><td>2</td></tr>",
                            "<tr><td>134</td><td>9</td><td>2</td></tr>",
                            "<tr><td>134</td><td>9</td><td>2</td></tr>",
                            "<tr><td>135</td><td>10</td><td>2</td></tr>",
                            "<tr><td>135</td><td>10</td><td>2</td></tr>",
                            "<tr><td>135</td><td>10</td><td>2</td></tr>",
                            "<tr><td>136</td><td>10</td><td>2</td></tr>",
                            "<tr><td>136</td><td>10</td><td>1</td></tr>",
                            "<tr><td>136</td><td>10</td><td>1</td></tr>",
                            "<tr><td>137</td><td>10</td><td>2</td></tr>",
                            "<tr><td>137</td><td>10</td><td>2</td></tr>",
                            "<tr><td>137</td><td>10</td><td>1</td></tr>",
                            "<tr><td>137</td><td>10</td><td>1</td></tr>",
                            "<tr><td>137</td><td>10</td><td>2</td></tr>",
                            "<tr><td>137</td><td>10</td><td>2</td></tr>",
                            "<tr><td>138</td><td>10</td><td>4</td></tr>",
                            "<tr><td>138</td><td>10</td><td>3</td></tr>",
                            "<tr><td>138</td><td>10</td><td>3</td></tr>",
                            "<tr><td>138</td><td>10</td><td>3</td></tr>",
                            "<tr><td>138</td><td>10</td><td>2</td></tr>",
                            "<tr><td>138</td><td>10</td><td>2</td></tr>",
                            "<tr><td>138</td><td>10</td><td>2</td></tr>",
                            "<tr><td>139</td><td>10</td><td>2</td></tr>",
                            "<tr><td>139</td><td>10</td><td>2</td></tr>",
                            "<tr><td>139</td><td>10</td><td>2</td></tr>",
                            "<tr><td>139</td><td>10</td><td>2</td></tr>",
                            "<tr><td>139</td><td>10</td><td>2</td></tr>",
                            "<tr><td>139</td><td>10</td><td>2</td></tr>",
                            "<tr><td>139</td><td>10</td><td>2</td></tr>",
                            "<tr><td>140</td><td>10</td><td>2</td></tr>",
                            "<tr><td>140</td><td>10</td><td>1</td></tr>",
                            "<tr><td>140</td><td>10</td><td>2</td></tr>",
                            "<tr><td>140</td><td>10</td><td>1</td></tr>",
                            "<tr><td>140</td><td>10</td><td>2</td></tr>",
                            "<tr><td>140</td><td>10</td><td>2</td></tr>",
                            "<tr><td>140</td><td>10</td><td>2</td></tr>",
                            "<tr><td>140</td><td>10</td><td>2</td></tr>",
                            "<tr><td>141</td><td>10</td><td>2</td></tr>",
                            "<tr><td>141</td><td>10</td><td>2</td></tr>",
                            "<tr><td>141</td><td>10</td><td>2</td></tr>",
                            "<tr><td>141</td><td>10</td><td>2</td></tr>",
                            "<tr><td>141</td><td>10</td><td>2</td></tr>",
                            "<tr><td>141</td><td>10</td><td>2</td></tr>",
                            "<tr><td>142</td><td>10</td><td>3</td></tr>",
                            "<tr><td>142</td><td>10</td><td>2</td></tr>",
                            "<tr><td>143</td><td>10</td><td>1</td></tr>",
                            "<tr><td>143</td><td>10</td><td>2</td></tr>",
                            "<tr><td>143</td><td>10</td><td>2</td></tr>",
                            "<tr><td>143</td><td>10</td><td>2</td></tr>",
                            "<tr><td>143</td><td>10</td><td>2</td></tr>",
                            "<tr><td>143</td><td>10</td><td>3</td></tr>",
                            "<tr><td>143</td><td>10</td><td>3</td></tr>",
                            "<tr><td>144</td><td>10</td><td>3</td></tr>",
                            "<tr><td>144</td><td>10</td><td>3</td></tr>",
                            "<tr><td>144</td><td>10</td><td>3</td></tr>",
                            "<tr><td>144</td><td>10</td><td>3</td></tr>",
                            "<tr><td>144</td><td>10</td><td>3</td></tr>",
                            "<tr><td>145</td><td>10</td><td>4</td></tr>",
                            "<tr><td>145</td><td>10</td><td>3</td></tr>",
                            "<tr><td>145</td><td>10</td><td>3</td></tr>",
                            "<tr><td>145</td><td>10</td><td>2</td></tr>",
                            "<tr><td>145</td><td>10</td><td>2</td></tr>",
                            "<tr><td>145</td><td>10</td><td>2</td></tr>",
                            "<tr><td>146</td><td>10</td><td>3</td></tr>",
                            "<tr><td>146</td><td>10</td><td>2</td></tr>",
                            "<tr><td>146</td><td>10</td><td>2</td></tr>",
                            "<tr><td>146</td><td>10</td><td>2</td></tr>",
                            "<tr><td>146</td><td>10</td><td>2</td></tr>",
                            "<tr><td>146</td><td>10</td><td>2</td></tr>",
                            "<tr><td>147</td><td>10</td><td>2</td></tr>",
                            "<tr><td>148</td><td>10</td><td>2</td></tr>",
                            "<tr><td>148</td><td>10</td><td>2</td></tr>",
                            "<tr><td>148</td><td>10</td><td>2</td></tr>",
                            "<tr><td>148</td><td>10</td><td>2</td></tr>",
                            "<tr><td>148</td><td>10</td><td>2</td></tr>",
                            "<tr><td>148</td><td>10</td><td>1</td></tr>",
                            "<tr><td>149</td><td>10</td><td>2</td></tr>",
                            "<tr><td>149</td><td>10</td><td>1</td></tr>",
                            "<tr><td>149</td><td>10</td><td>1</td></tr>",
                            "<tr><td>149</td><td>10</td><td>1</td></tr>",
                            "<tr><td>149</td><td>10</td><td>1</td></tr>",
                            "<tr><td>149</td><td>10</td><td>1</td></tr>",
                            "<tr><td>149</td><td>10</td><td>1</td></tr>",
                            "<tr><td>150</td><td>10</td><td>3</td></tr>",
                            "<tr><td>150</td><td>10</td><td>2</td></tr>",
                            "<tr><td>150</td><td>10</td><td>2</td></tr>",
                            "<tr><td>150</td><td>10</td><td>2</td></tr>",
                            "<tr><td>150</td><td>10</td><td>2</td></tr>",
                            "<tr><td>150</td><td>10</td><td>2</td></tr>",
                            "<tr><td>151</td><td>10</td><td>1</td></tr>",
                            "<tr><td>151</td><td>10</td><td>1</td></tr>",
                            "<tr><td>151</td><td>10</td><td>1</td></tr>",
                            "<tr><td>152</td><td>10</td><td>2</td></tr>",
                            "<tr><td>152</td><td>10</td><td>2</td></tr>",
                            "<tr><td>152</td><td>10</td><td>2</td></tr>",
                            "<tr><td>152</td><td>10</td><td>2</td></tr>",
                            "<tr><td>153</td><td>10</td><td>2</td></tr>",
                            "<tr><td>153</td><td>10</td><td>2</td></tr>",
                            "<tr><td>153</td><td>10</td><td>2</td></tr>",
                            "<tr><td>153</td><td>10</td><td>2</td></tr>",
                            "<tr><td>153</td><td>10</td><td>2</td></tr>",
                            "<tr><td>154</td><td>10</td><td>2</td></tr>",
                            "<tr><td>154</td><td>10</td><td>2</td></tr>",
                            "<tr><td>154</td><td>10</td><td>2</td></tr>",
                            "<tr><td>154</td><td>10</td><td>2</td></tr>",
                            "<tr><td>154</td><td>10</td><td>2</td></tr>",
                            "<tr><td>155</td><td>10</td><td>4</td></tr>",
                            "<tr><td>155</td><td>10</td><td>3</td></tr>",
                            "<tr><td>155</td><td>10</td><td>2</td></tr>",
                            "<tr><td>155</td><td>10</td><td>3</td></tr>",
                            "<tr><td>155</td><td>10</td><td>2</td></tr>",
                            "<tr><td>156</td><td>10</td><td>4</td></tr>",
                            "<tr><td>156</td><td>10</td><td>3</td></tr>",
                            "<tr><td>156</td><td>10</td><td>3</td></tr>",
                            "<tr><td>156</td><td>10</td><td>3</td></tr>",
                            "<tr><td>156</td><td>10</td><td>3</td></tr>",
                            "<tr><td>156</td><td>10</td><td>2</td></tr>",
                            "<tr><td>156</td><td>10</td><td>3</td></tr>",
                            "<tr><td>157</td><td>10</td><td>1</td></tr>",
                            "<tr><td>157</td><td>10</td><td>1</td></tr>",
                            "<tr><td>157</td><td>10</td><td>1</td></tr>",
                            "<tr><td>157</td><td>10</td><td>1</td></tr>",
                            "<tr><td>157</td><td>10</td><td>1</td></tr>",
                            "<tr><td>158</td><td>10</td><td>3</td></tr>",
                            "<tr><td>158</td><td>10</td><td>3</td></tr>",
                            "<tr><td>158</td><td>10</td><td>3</td></tr>",
                            "<tr><td>160</td><td>11</td><td>4</td></tr>",
                            "<tr><td>160</td><td>11</td><td>3</td></tr>",
                            "<tr><td>160</td><td>11</td><td>3</td></tr>",
                            "<tr><td>160</td><td>11</td><td>3</td></tr>",
                            "<tr><td>160</td><td>11</td><td>3</td></tr>",
                            "<tr><td>161</td><td>11</td><td>3</td></tr>",
                            "<tr><td>161</td><td>11</td><td>2</td></tr>",
                            "<tr><td>161</td><td>11</td><td>2</td></tr>",
                            "<tr><td>161</td><td>11</td><td>2</td></tr>",
                            "<tr><td>161</td><td>11</td><td>2</td></tr>",
                            "<tr><td>161</td><td>11</td><td>2</td></tr>",
                            "<tr><td>162</td><td>11</td><td>3</td></tr>",
                            "<tr><td>162</td><td>11</td><td>3</td></tr>",
                            "<tr><td>162</td><td>11</td><td>2</td></tr>",
                            "<tr><td>163</td><td>11</td><td>2</td></tr>",
                            "<tr><td>163</td><td>11</td><td>2</td></tr>",
                            "<tr><td>163</td><td>11</td><td>1</td></tr>",
                            "<tr><td>163</td><td>11</td><td>1</td></tr>",
                            "<tr><td>163</td><td>11</td><td>1</td></tr>",
                            "<tr><td>163</td><td>11</td><td>1</td></tr>",
                            "<tr><td>163</td><td>11</td><td>1</td></tr>",
                            "<tr><td>164</td><td>11</td><td>2</td></tr>",
                            "<tr><td>164</td><td>11</td><td>2</td></tr>",
                            "<tr><td>164</td><td>11</td><td>2</td></tr>",
                            "<tr><td>164</td><td>11</td><td>2</td></tr>",
                            "<tr><td>164</td><td>11</td><td>2</td></tr>",
                            "<tr><td>165</td><td>12</td><td>2</td></tr>",
                            "<tr><td>165</td><td>12</td><td>1</td></tr>",
                            "<tr><td>165</td><td>12</td><td>1</td></tr>",
                            "<tr><td>165</td><td>12</td><td>1</td></tr>",
                            "<tr><td>165</td><td>12</td><td>1</td></tr>",
                            "<tr><td>165</td><td>12</td><td>1</td></tr>",
                            "<tr><td>165</td><td>12</td><td>1</td></tr>",
                            "<tr><td>166</td><td>12</td><td>2</td></tr>",
                            "<tr><td>166</td><td>12</td><td>1</td></tr>",
                            "<tr><td>166</td><td>12</td><td>2</td></tr>",
                            "<tr><td>167</td><td>12</td><td>1</td></tr>",
                            "<tr><td>167</td><td>12</td><td>2</td></tr>",
                            "<tr><td>168</td><td>12</td><td>4</td></tr>",
                            "<tr><td>168</td><td>12</td><td>4</td></tr>",
                            "<tr><td>168</td><td>12</td><td>4</td></tr>",
                            "<tr><td>168</td><td>12</td><td>3</td></tr>",
                            "<tr><td>168</td><td>12</td><td>3</td></tr>",
                            "<tr><td>169</td><td>12</td><td>2</td></tr>",
                            "<tr><td>169</td><td>12</td><td>2</td></tr>",
                            "<tr><td>169</td><td>12</td><td>1</td></tr>",
                            "<tr><td>169</td><td>12</td><td>2</td></tr>",
                            "<tr><td>169</td><td>12</td><td>2</td></tr>",
                            "<tr><td>169</td><td>12</td><td>2</td></tr>",
                            "<tr><td>170</td><td>12</td><td>1</td></tr>",
                            "<tr><td>170</td><td>12</td><td>1</td></tr>",
                            "<tr><td>170</td><td>12</td><td>1</td></tr>",
                            "<tr><td>170</td><td>12</td><td>1</td></tr>",
                            "<tr><td>170</td><td>12</td><td>1</td></tr>",
                            "<tr><td>171</td><td>12</td><td>2</td></tr>",
                            "<tr><td>171</td><td>12</td><td>1</td></tr>",
                            "<tr><td>171</td><td>12</td><td>2</td></tr>",
                            "<tr><td>171</td><td>12</td><td>1</td></tr>",
                            "<tr><td>171</td><td>12</td><td>1</td></tr>",
                            "<tr><td>172</td><td>12</td><td>2</td></tr>",
                            "<tr><td>172</td><td>12</td><td>1</td></tr>",
                            "<tr><td>172</td><td>12</td><td>2</td></tr>",
                            "<tr><td>172</td><td>12</td><td>2</td></tr>",
                            "<tr><td>172</td><td>12</td><td>2</td></tr>",
                            "<tr><td>172</td><td>12</td><td>1</td></tr>",
                            "<tr><td>172</td><td>12</td><td>1</td></tr>",
                            "<tr><td>172</td><td>12</td><td>1</td></tr>",
                            "<tr><td>172</td><td>12</td><td>1</td></tr>",
                            "<tr><td>173</td><td>12</td><td>2</td></tr>",
                            "<tr><td>173</td><td>12</td><td>1</td></tr>",
                            "<tr><td>173</td><td>12</td><td>1</td></tr>",
                            "<tr><td>173</td><td>12</td><td>1</td></tr>",
                            "<tr><td>174</td><td>12</td><td>2</td></tr>",
                            "<tr><td>174</td><td>12</td><td>1</td></tr>",
                            "<tr><td>174</td><td>12</td><td>1</td></tr>",
                            "<tr><td>174</td><td>12</td><td>1</td></tr>",
                            "<tr><td>175</td><td>12</td><td>1</td></tr>",
                            "<tr><td>175</td><td>12</td><td>1</td></tr>",
                            "<tr><td>175</td><td>12</td><td>1</td></tr>",
                            "<tr><td>175</td><td>12</td><td>1</td></tr>",
                            "<tr><td>175</td><td>12</td><td>1</td></tr>",
                            "<tr><td>176</td><td>12</td><td>2</td></tr>",
                            "<tr><td>176</td><td>12</td><td>2</td></tr>",
                            "<tr><td>176</td><td>12</td><td>2</td></tr>",
                            "<tr><td>176</td><td>12</td><td>2</td></tr>",
                            "<tr><td>176</td><td>12</td><td>2</td></tr>",
                            "<tr><td>176</td><td>12</td><td>3</td></tr>",
                            "<tr><td>177</td><td>12</td><td>4</td></tr>",
                            "<tr><td>177</td><td>12</td><td>3</td></tr>",
                            "<tr><td>177</td><td>12</td><td>3</td></tr>",
                            "<tr><td>177</td><td>12</td><td>3</td></tr>",
                            "<tr><td>178</td><td>12</td><td>3</td></tr>",
                            "<tr><td>178</td><td>12</td><td>3</td></tr>",
                            "<tr><td>178</td><td>12</td><td>3</td></tr>",
                            "<tr><td>178</td><td>12</td><td>3</td></tr>",
                            "<tr><td>179</td><td>12</td><td>4</td></tr>",
                            "<tr><td>179</td><td>12</td><td>4</td></tr>",
                            "<tr><td>179</td><td>12</td><td>3</td></tr>",
                            "<tr><td>180</td><td>12</td><td>4</td></tr>",
                            "<tr><td>180</td><td>12</td><td>3</td></tr>",
                            "<tr><td>180</td><td>12</td><td>3</td></tr>",
                            "<tr><td>181</td><td>12</td><td>3</td></tr>",
                            "<tr><td>181</td><td>12</td><td>3</td></tr>",
                            "<tr><td>181</td><td>12</td><td>3</td></tr>",
                            "<tr><td>181</td><td>12</td><td>3</td></tr>",
                            "<tr><td>181</td><td>12</td><td>3</td></tr>",
                            "<tr><td>181</td><td>12</td><td>3</td></tr>",
                            "<tr><td>182</td><td>12</td><td>2</td></tr>",
                            "<tr><td>182</td><td>12</td><td>2</td></tr>",
                            "<tr><td>182</td><td>12</td><td>2</td></tr>",
                            "<tr><td>182</td><td>12</td><td>2</td></tr>",
                            "<tr><td>182</td><td>12</td><td>2</td></tr>",
                            "<tr><td>182</td><td>12</td><td>1</td></tr>",
                            "<tr><td>182</td><td>12</td><td>1</td></tr>",
                            "<tr><td>182</td><td>12</td><td>1</td></tr>",
                            "<tr><td>182</td><td>12</td><td>1</td></tr>",
                            "<tr><td>182</td><td>12</td><td>1</td></tr>",
                            "<tr><td>182</td><td>12</td><td>1</td></tr>",
                            "<tr><td>182</td><td>12</td><td>1</td></tr>",
                            "<tr><td>183</td><td>12</td><td>3</td></tr>",
                            "<tr><td>183</td><td>12</td><td>2</td></tr>",
                            "<tr><td>183</td><td>12</td><td>2</td></tr>",
                            "<tr><td>183</td><td>12</td><td>2</td></tr>",
                            "<tr><td>184</td><td>12</td><td>2</td></tr>",
                            "<tr><td>184</td><td>12</td><td>1</td></tr>",
                            "<tr><td>184</td><td>12</td><td>1</td></tr>",
                            "<tr><td>184</td><td>12</td><td>1</td></tr>",
                            "<tr><td>185</td><td>12</td><td>3</td></tr>",
                            "<tr><td>185</td><td>12</td><td>3</td></tr>",
                            "<tr><td>185</td><td>12</td><td>3</td></tr>",
                            "<tr><td>185</td><td>12</td><td>3</td></tr>",
                            "<tr><td>185</td><td>12</td><td>3</td></tr>",
                            "<tr><td>185</td><td>12</td><td>3</td></tr>",
                            "<tr><td>185</td><td>12</td><td>2</td></tr>",
                            "<tr><td>185</td><td>12</td><td>2</td></tr>",
                            "<tr><td>185</td><td>12</td><td>2</td></tr>",
                            "<tr><td>185</td><td>12</td><td>2</td></tr>",
                            "<tr><td>185</td><td>12</td><td>2</td></tr>",
                            "<tr><td>185</td><td>12</td><td>3</td></tr>",
                            "<tr><td>186</td><td>12</td><td>3</td></tr>",
                            "<tr><td>186</td><td>12</td><td>3</td></tr>",
                            "<tr><td>186</td><td>12</td><td>2</td></tr>",
                            "<tr><td>186</td><td>12</td><td>3</td></tr>",
                            "<tr><td>187</td><td>12</td><td>3</td></tr>",
                            "<tr><td>187</td><td>12</td><td>3</td></tr>",
                            "<tr><td>187</td><td>12</td><td>3</td></tr>",
                            "<tr><td>187</td><td>12</td><td>3</td></tr>",
                            "<tr><td>187</td><td>12</td><td>3</td></tr>",
                            "<tr><td>187</td><td>12</td><td>2</td></tr>",
                            "<tr><td>187</td><td>12</td><td>2</td></tr>",
                            "<tr><td>188</td><td>12</td><td>3</td></tr>",
                            "<tr><td>188</td><td>12</td><td>2</td></tr>",
                            "<tr><td>188</td><td>12</td><td>2</td></tr>",
                            "<tr><td>188</td><td>12</td><td>2</td></tr>",
                            "<tr><td>188</td><td>12</td><td>2</td></tr>",
                            "<tr><td>188</td><td>12</td><td>2</td></tr>",
                            "<tr><td>189</td><td>12</td><td>2</td></tr>",
                            "<tr><td>189</td><td>12</td><td>2</td></tr>",
                            "<tr><td>189</td><td>12</td><td>2</td></tr>",
                            "<tr><td>189</td><td>12</td><td>2</td></tr>",
                            "<tr><td>189</td><td>12</td><td>2</td></tr>",
                            "<tr><td>190</td><td>12</td><td>1</td></tr>",
                            "<tr><td>190</td><td>12</td><td>1</td></tr>",
                            "<tr><td>190</td><td>12</td><td>1</td></tr>",
                            "<tr><td>190</td><td>12</td><td>1</td></tr>",
                            "<tr><td>190</td><td>12</td><td>1</td></tr>",
                            "<tr><td>191</td><td>12</td><td>2</td></tr>",
                            "<tr><td>191</td><td>12</td><td>2</td></tr>",
                            "<tr><td>191</td><td>12</td><td>2</td></tr>",
                            "<tr><td>191</td><td>12</td><td>2</td></tr>",
                            "<tr><td>191</td><td>12</td><td>2</td></tr>",
                            "<tr><td>192</td><td>12</td><td>3</td></tr>",
                            "<tr><td>192</td><td>12</td><td>2</td></tr>",
                            "<tr><td>193</td><td>12</td><td>2</td></tr>",
                            "<tr><td>193</td><td>12</td><td>3</td></tr>",
                            "<tr><td>193</td><td>12</td><td>4</td></tr>",
                            "<tr><td>193</td><td>12</td><td>3</td></tr>",
                            "<tr><td>193</td><td>12</td><td>4</td></tr>",
                            "<tr><td>193</td><td>12</td><td>4</td></tr>",
                            "<tr><td>193</td><td>12</td><td>4</td></tr>",
                            "<tr><td>194</td><td>12</td><td>3</td></tr>",
                            "<tr><td>195</td><td>12</td><td>2</td></tr>",
                            "<tr><td>195</td><td>12</td><td>2</td></tr>",
                            "<tr><td>195</td><td>12</td><td>1</td></tr>",
                            "<tr><td>195</td><td>12</td><td>1</td></tr>",
                            "<tr><td>195</td><td>12</td><td>1</td></tr>",
                            "<tr><td>195</td><td>12</td><td>1</td></tr>",
                            "<tr><td>196</td><td>12</td><td>3</td></tr>",
                            "<tr><td>196</td><td>12</td><td>2</td></tr>",
                            "<tr><td>196</td><td>12</td><td>2</td></tr>",
                            "<tr><td>196</td><td>12</td><td>2</td></tr>",
                            "<tr><td>197</td><td>12</td><td>3</td></tr>",
                            "<tr><td>197</td><td>12</td><td>3</td></tr>",
                            "<tr><td>197</td><td>12</td><td>3</td></tr>",
                            "<tr><td>197</td><td>12</td><td>2</td></tr>",
                            "<tr><td>197</td><td>12</td><td>2</td></tr>",
                            "<tr><td>197</td><td>12</td><td>2</td></tr>",
                            "<tr><td>198</td><td>12</td><td>3</td></tr>",
                            "<tr><td>198</td><td>12</td><td>3</td></tr>",
                            "<tr><td>198</td><td>12</td><td>3</td></tr>",
                            "<tr><td>198</td><td>12</td><td>3</td></tr>",
                            "<tr><td>198</td><td>12</td><td>2</td></tr>",
                            "<tr><td>198</td><td>12</td><td>2</td></tr>",
                            "<tr><td>198</td><td>12</td><td>2</td></tr>",
                            "<tr><td>198</td><td>12</td><td>2</td></tr>",
                            "</table>"
                        ]
                    }
                }
            ],
            "execution_count": 14
        },
        {
            "cell_type": "markdown",
            "source": [
                "4\\. feladat: <span style=\"background-color: rgb(255, 255, 255); color: rgb(0, 0, 0); font-family: &quot;Open Sans&quot;, sans-serif; font-size: 14.44px;\">Jelenítsük meg, hogy hány foglalás történt szobánként, naponta (METTOL), valamint szobánként, azon belül naponta&nbsp;</span> \n",
                "\n",
                "- Szempontonként külön-külön számoljuk a foglalásokat\n",
                "- A foglalások száma minden esetben legalább 2 legyen"
            ],
            "metadata": {
                "azdata_cell_guid": "1ba8f583-c6bd-4b6f-813a-7fea1cfc2b99"
            },
            "attachments": {}
        },
        {
            "cell_type": "code",
            "source": [
                "-- BE KELL FEJEZNI\r\n",
                "SELECT szoba_fk,\r\n",
                "       mettol,\r\n",
                "       count_szoba_fk,\r\n",
                "       count_mettol,\r\n",
                "       count_szoba_fk_mettol\r\n",
                "FROM (\r\n",
                "    SELECT szoba_fk,\r\n",
                "           mettol,\r\n",
                "           count(*) OVER (PARTITION BY szoba_fk) AS count_szoba_fk,\r\n",
                "           count(*) OVER (PARTITION BY mettol) AS count_mettol,\r\n",
                "           count(*) OVER (PARTITION BY szoba_fk, mettol) AS count_szoba_fk_mettol\r\n",
                "    FROM foglalas\r\n",
                ") AS counts\r\n",
                "WHERE count_szoba_fk > 2\r\n",
                "  AND count_mettol > 2\r\n",
                "  AND count_szoba_fk_mettol > 2"
            ],
            "metadata": {
                "azdata_cell_guid": "f4511c22-4ca9-4531-8fb1-9585e925546b",
                "language": "sql"
            },
            "outputs": [
                {
                    "output_type": "display_data",
                    "data": {
                        "text/html": "(3 rows affected)"
                    },
                    "metadata": {}
                },
                {
                    "output_type": "display_data",
                    "data": {
                        "text/html": "Total execution time: 00:00:00.028"
                    },
                    "metadata": {}
                },
                {
                    "output_type": "execute_result",
                    "metadata": {},
                    "execution_count": 16,
                    "data": {
                        "application/vnd.dataresource+json": {
                            "schema": {
                                "fields": [
                                    {
                                        "name": "szoba_fk"
                                    },
                                    {
                                        "name": "mettol"
                                    },
                                    {
                                        "name": "count_szoba_fk"
                                    },
                                    {
                                        "name": "count_mettol"
                                    },
                                    {
                                        "name": "count_szoba_fk_mettol"
                                    }
                                ]
                            },
                            "data": [
                                {
                                    "szoba_fk": "165",
                                    "mettol": "2016-06-03",
                                    "count_szoba_fk": "7",
                                    "count_mettol": "9",
                                    "count_szoba_fk_mettol": "3"
                                },
                                {
                                    "szoba_fk": "165",
                                    "mettol": "2016-06-03",
                                    "count_szoba_fk": "7",
                                    "count_mettol": "9",
                                    "count_szoba_fk_mettol": "3"
                                },
                                {
                                    "szoba_fk": "165",
                                    "mettol": "2016-06-03",
                                    "count_szoba_fk": "7",
                                    "count_mettol": "9",
                                    "count_szoba_fk_mettol": "3"
                                }
                            ]
                        },
                        "text/html": [
                            "<table>",
                            "<tr><th>szoba_fk</th><th>mettol</th><th>count_szoba_fk</th><th>count_mettol</th><th>count_szoba_fk_mettol</th></tr>",
                            "<tr><td>165</td><td>2016-06-03</td><td>7</td><td>9</td><td>3</td></tr>",
                            "<tr><td>165</td><td>2016-06-03</td><td>7</td><td>9</td><td>3</td></tr>",
                            "<tr><td>165</td><td>2016-06-03</td><td>7</td><td>9</td><td>3</td></tr>",
                            "</table>"
                        ]
                    }
                }
            ],
            "execution_count": 16
        },
        {
            "cell_type": "markdown",
            "source": [
                "5\\. feladat: <span style=\"background-color: rgb(255, 255, 255); color: rgb(0, 0, 0); font-family: &quot;Open Sans&quot;, sans-serif; font-size: 14.44px;\">Készítsünk ideiglenes táblát #MASKED_GUEST néven, ahol&nbsp;</span> \n",
                "\n",
                "- a tábla felépítése megegyezik a vendég tábláéval, DE\n",
                "- a vendégek nevének csak az első 2, és az utolsó 3 karaktere jelenjen meg, közötte X-ek legyenek!"
            ],
            "metadata": {
                "azdata_cell_guid": "945661aa-9899-421d-8fa0-424020e5dc6b"
            },
            "attachments": {}
        },
        {
            "cell_type": "code",
            "source": [
                "CREATE TABLE #MASKED_GUEST \r\n",
                "(\r\n",
                "    usernev VARCHAR(20) PRIMARY KEY,\r\n",
                "    nev VARCHAR(50) MASKED WITH (FUNCTION = 'partial(2,\"XXXXX\",3)'),\r\n",
                "    email VARCHAR(60),\r\n",
                "    szaml_cim NVARCHAR(100),\r\n",
                "    szul_dat DATE\r\n",
                ")"
            ],
            "metadata": {
                "azdata_cell_guid": "afc0062f-f8b3-4e13-9c1d-27aeafb6c1ef",
                "language": "sql"
            },
            "outputs": [],
            "execution_count": null
        },
        {
            "cell_type": "markdown",
            "source": [
                "6\\. feladat: <span style=\"background-color: rgb(255, 255, 255); color: rgb(0, 0, 0); font-family: &quot;Open Sans&quot;, sans-serif; font-size: 14.44px;\">Valósítsa meg REDIS-ben a következő táblákat:</span>\n",
                "\n",
                "- <span style=\"box-sizing: border-box; font-size: 0.9375rem;\">IRO(ID, nev, nemzetiseg)</span>\n",
                "- KONYV(ID, cim, mufaj, IRO\\_ID)\n",
                "\n",
                "Vigyen fel táblánként legalább 2-2 sornyi adatot!"
            ],
            "metadata": {
                "azdata_cell_guid": "039724e6-7166-4bb0-b1a7-8e0b19a47c29"
            },
            "attachments": {}
        },
        {
            "cell_type": "code",
            "source": [
                "> HSET iro:1 ID 1 nev \"Jókai Mór\" nemzetiseg \"magyar\"\r\n",
                "(integer) 3\r\n",
                "\r\n",
                "> HSET iro:2 ID 2 nev \"Franz Kafka\" nemzetiseg \"cseh\"\r\n",
                "(integer) 3\r\n",
                "\r\n",
                "> HSET konyv:1 ID 1 cim \"Az arany ember\" mufaj \"regény\" IRO_ID 1\r\n",
                "(integer) 4\r\n",
                "\r\n",
                "> HSET konyv:2 ID 2 cim \"A kastély\" mufaj \"regény\" IRO_ID 2\r\n",
                "(integer) 4\r\n",
                "\r\n",
                "> HSET iro:3 ID 3 nev \"Gárdonyi Géza\" nemzetiseg \"magyar\"\r\n",
                "(integer) 3\r\n",
                "\r\n",
                "> HSET konyv:3 ID 3 cim \"Egri csillagok\" mufaj \"regény\" IRO_ID 3\r\n",
                "(integer) 4"
            ],
            "metadata": {
                "azdata_cell_guid": "ae20dfc9-580c-4aea-8e02-097ddd1b4cbc",
                "language": "sql"
            },
            "outputs": [],
            "execution_count": null
        },
        {
            "cell_type": "markdown",
            "source": [
                "7\\. feladat: <span style=\"background-color: rgb(255, 255, 255); color: rgb(0, 0, 0); font-family: &quot;Open Sans&quot;, sans-serif; font-size: 14.44px;\">Cassandra CQL Shellben hozza létre a következő táblát:</span>\n",
                "\n",
                "STUDENT(ID, Nev, Teljesitett\\_felevek, Eredmenyek, Nyelvtudas)\n",
                "\n",
                "- Az ID legyen az elsődleges kulcs\n",
                "- A Teljesitett félévek legyen LIST, tartalma egész számok, pl: 1, 2, 3\n",
                "- Az Eredmenyek legyen MAP, tartalma, hogy melyik félévben mennyi volt az átlag, pl: 1: 3,00, 2: 4.55, 3: 4,10\n",
                "- A Nyelvtudas legyen SET, tartalma a nyelvek megnevezése\n",
                "\n",
                "Vigyen fel legalább 2 rekordot!"
            ],
            "metadata": {
                "azdata_cell_guid": "bd20bc0f-f1ab-4377-bf2e-cd5217dbb66b"
            },
            "attachments": {}
        },
        {
            "cell_type": "code",
            "source": [
                "CREATE TABLE STUDENT (\r\n",
                "    ID int PRIMARY KEY,\r\n",
                "    Nev text,\r\n",
                "    Teljesitett_felev LIST<int>,\r\n",
                "    Eredmenyek MAP<int, float>,\r\n",
                "    Nyelvtudas SET<text>\r\n",
                ");\r\n",
                "\r\n",
                "\r\n",
                "INSERT INTO STUDENT (ID, Nev, Teljesitett_felev, Eredmenyek, Nyelvtudas)\r\n",
                "VALUES (\r\n",
                "    1, \r\n",
                "    'Gábor Dénes', \r\n",
                "    [1, 2, 3], \r\n",
                "    {1: 3.00, 2: 4.55, 3: 4.10}, \r\n",
                "    {'angol', 'német'}\r\n",
                ");\r\n",
                "\r\n",
                "\r\n",
                "INSERT INTO STUDENT (ID, Nev, Teljesitett_felev, Eredmenyek, Nyelvtudas)\r\n",
                "VALUES (\r\n",
                "    2, \r\n",
                "    'Jakab Peti', \r\n",
                "    [1, 2, 3], \r\n",
                "    {1: 4.50 , 2: 3.75, 3: 4.00}, \r\n",
                "    {'francia', 'spanyol'}\r\n",
                ");\r\n",
                "\r\n",
                ""
            ],
            "metadata": {
                "azdata_cell_guid": "d698e9af-78ff-4be7-be1f-8d9817f7193e",
                "language": "sql"
            },
            "outputs": [],
            "execution_count": null
        },
        {
            "cell_type": "markdown",
            "source": [
                "8. <span style=\"background-color: rgb(255, 255, 255); color: rgb(0, 0, 0); font-family: &quot;Open Sans&quot;, sans-serif; font-size: 14.44px;\">A Neo4j Sandbox-ban vagy a Desktopban jelenítsük meg azon személyeket, akik egy filmben szerepeltek Tom Hanks-sel.</span>\n",
                "\n",
                "- Egy szereplő neve csak egyszer jelenjen meg\n",
                "- Tom Hanks ne legyen benne a listában"
            ],
            "metadata": {
                "azdata_cell_guid": "b92cfd4f-d734-452f-b0bf-75e6a7a292ac"
            },
            "attachments": {}
        },
        {
            "cell_type": "code",
            "source": [
                "MATCH (p:Person)-[:ACTED_IN]->(m:Movie)<-[:ACTED_IN]-(coactor:Person)\r\n",
                "WHERE p.name = 'Tom Hanks' AND coactor.name <> 'Tom Hanks'\r\n",
                "RETURN DISTINCT coactor.name AS Coactors\r\n",
                "ORDER BY coactor.name"
            ],
            "metadata": {
                "azdata_cell_guid": "8707b5fd-1bbd-474b-afad-195c99133ecf",
                "language": "sql"
            },
            "outputs": [],
            "execution_count": null
        }
    ]
}