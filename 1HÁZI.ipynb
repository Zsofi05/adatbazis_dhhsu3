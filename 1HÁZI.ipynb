{
    "metadata": {
        "kernelspec": {
            "name": "SQL",
            "display_name": "SQL",
            "language": "sql"
        },
        "language_info": {
            "name": "sql",
            "version": ""
        }
    },
    "nbformat_minor": 2,
    "nbformat": 4,
    "cells": [
        {
            "cell_type": "markdown",
            "source": [
                "**1\\. lekérdezés: NULL értékek számának és százalékos arányának meghatározása**"
            ],
            "metadata": {
                "azdata_cell_guid": "c93429ae-edb2-462e-af87-7c686a0bfc4c"
            },
            "attachments": {}
        },
        {
            "cell_type": "code",
            "source": [
                "SELECT \r\n",
                "    'SZOBA_ID' AS Oszlop,\r\n",
                "    SUM(CASE WHEN SZOBA_ID IS NULL THEN 1 ELSE 0 END) AS Null_ertekek_szama,\r\n",
                "    SUM(CASE WHEN SZOBA_ID IS NULL THEN 1 ELSE 0 END) * 100.0 / COUNT(SZOBA_ID) AS Szazalekos_arany\r\n",
                "FROM \r\n",
                "    Szoba\r\n",
                "\r\n",
                "    UNION\r\n",
                "\r\n",
                "SELECT \r\n",
                "    'SZALLAS_FK' AS Oszlop,\r\n",
                "    SUM(CASE WHEN SZALLAS_FK IS NULL THEN 1 ELSE 0 END) AS Null_ertekek_szama,\r\n",
                "    SUM(CASE WHEN SZALLAS_FK IS NULL THEN 1 ELSE 0 END) * 100.0 / COUNT(SZALLAS_FK) AS Szazalekos_arany\r\n",
                "FROM \r\n",
                "    Szoba\r\n",
                "\r\n",
                "    UNION\r\n",
                "\r\n",
                "SELECT \r\n",
                "    'SZOBA_SZAMA' AS Oszlop,\r\n",
                "    SUM(CASE WHEN SZOBA_SZAMA IS NULL THEN 1 ELSE 0 END) AS Null_ertekek_szama,\r\n",
                "    SUM(CASE WHEN SZOBA_SZAMA IS NULL THEN 1 ELSE 0 END) * 100.0 / COUNT(SZOBA_SZAMA) AS Szazalekos_arany\r\n",
                "FROM \r\n",
                "    Szoba\r\n",
                "\r\n",
                "    UNION\r\n",
                "\r\n",
                "SELECT \r\n",
                "    'FEROHELY' AS Oszlop,\r\n",
                "    SUM(CASE WHEN FEROHELY IS NULL THEN 1 ELSE 0 END) AS Null_ertekek_szama,\r\n",
                "    SUM(CASE WHEN FEROHELY IS NULL THEN 1 ELSE 0 END) * 100.0 / COUNT(FEROHELY) AS Szazalekos_arany\r\n",
                "FROM \r\n",
                "    Szoba\r\n",
                "\r\n",
                "    UNION\r\n",
                "\r\n",
                "SELECT \r\n",
                "    'POTAGY' AS Oszlop,\r\n",
                "    SUM(CASE WHEN POTAGY IS NULL THEN 1 ELSE 0 END) AS Null_ertekek_szama,\r\n",
                "    SUM(CASE WHEN POTAGY IS NULL THEN 1 ELSE 0 END) * 100.0 / COUNT(POTAGY) AS Szazalekos_arany\r\n",
                "FROM \r\n",
                "    Szoba\r\n",
                "\r\n",
                "    UNION\r\n",
                "\r\n",
                "SELECT \r\n",
                "    'KLIMAS' AS Oszlop,\r\n",
                "    SUM(CASE WHEN KLIMAS IS NULL THEN 1 ELSE 0 END) AS Null_ertekek_szama,\r\n",
                "    SUM(CASE WHEN KLIMAS IS NULL THEN 1 ELSE 0 END) * 100.0 / COUNT(KLIMAS) AS Szazalekos_arany\r\n",
                "FROM \r\n",
                "    Szoba\r\n",
                ""
            ],
            "metadata": {
                "azdata_cell_guid": "07683ee8-0a6e-472d-8de4-5f02d4a2acda",
                "language": "sql"
            },
            "outputs": [
                {
                    "output_type": "display_data",
                    "data": {
                        "text/html": "(6 rows affected)"
                    },
                    "metadata": {}
                },
                {
                    "output_type": "display_data",
                    "data": {
                        "text/html": "Total execution time: 00:00:00.074"
                    },
                    "metadata": {}
                },
                {
                    "output_type": "execute_result",
                    "execution_count": 1,
                    "data": {
                        "application/vnd.dataresource+json": {
                            "schema": {
                                "fields": [
                                    {
                                        "name": "Oszlop"
                                    },
                                    {
                                        "name": "Null_ertekek_szama"
                                    },
                                    {
                                        "name": "Szazalekos_arany"
                                    }
                                ]
                            },
                            "data": [
                                {
                                    "Oszlop": "FEROHELY",
                                    "Null_ertekek_szama": "0",
                                    "Szazalekos_arany": "0.000000000000"
                                },
                                {
                                    "Oszlop": "KLIMAS",
                                    "Null_ertekek_szama": "0",
                                    "Szazalekos_arany": "0.000000000000"
                                },
                                {
                                    "Oszlop": "POTAGY",
                                    "Null_ertekek_szama": "0",
                                    "Szazalekos_arany": "0.000000000000"
                                },
                                {
                                    "Oszlop": "SZALLAS_FK",
                                    "Null_ertekek_szama": "0",
                                    "Szazalekos_arany": "0.000000000000"
                                },
                                {
                                    "Oszlop": "SZOBA_ID",
                                    "Null_ertekek_szama": "0",
                                    "Szazalekos_arany": "0.000000000000"
                                },
                                {
                                    "Oszlop": "SZOBA_SZAMA",
                                    "Null_ertekek_szama": "0",
                                    "Szazalekos_arany": "0.000000000000"
                                }
                            ]
                        },
                        "text/html": "<table><tr><th>Oszlop</th><th>Null_ertekek_szama</th><th>Szazalekos_arany</th></tr><tr><td>FEROHELY</td><td>0</td><td>0.000000000000</td></tr><tr><td>KLIMAS</td><td>0</td><td>0.000000000000</td></tr><tr><td>POTAGY</td><td>0</td><td>0.000000000000</td></tr><tr><td>SZALLAS_FK</td><td>0</td><td>0.000000000000</td></tr><tr><td>SZOBA_ID</td><td>0</td><td>0.000000000000</td></tr><tr><td>SZOBA_SZAMA</td><td>0</td><td>0.000000000000</td></tr></table>"
                    },
                    "metadata": {}
                }
            ],
            "execution_count": 1
        },
        {
            "cell_type": "markdown",
            "source": [
                "**2<span style=\"color: var(--vscode-foreground);\">. lekérdezés: legkisebb, legnagyobb értékek meghatározása</span>**"
            ],
            "metadata": {
                "azdata_cell_guid": "0ae7f9bc-099f-4b7b-aaa1-2864de2d892d"
            },
            "attachments": {}
        },
        {
            "cell_type": "code",
            "source": [
                "SELECT \r\n",
                "    'SZOBA_ID' AS Oszlop_neve,\r\n",
                "    MIN(SZOBA_ID) AS Legkisebb_ertek,\r\n",
                "    MAX(SZOBA_ID) AS Legnagyobb_ertek\r\n",
                "FROM \r\n",
                "    Szoba\r\n",
                "\r\n",
                "UNION\r\n",
                "\r\n",
                "SELECT \r\n",
                "    'SZALLAS_FK' AS Oszlop_neve,\r\n",
                "    MIN(SZALLAS_FK) AS Legkisebb_ertek,\r\n",
                "    MAX(SZALLAS_FK) AS Legnagyobb_ertek\r\n",
                "FROM \r\n",
                "    Szoba\r\n",
                "\r\n",
                "UNION\r\n",
                "\r\n",
                "SELECT \r\n",
                "    'SZOBA_SZAMA' AS Oszlop_neve,\r\n",
                "    MIN(SZOBA_SZAMA) AS Legkisebb_ertek,\r\n",
                "    MAX(SZOBA_SZAMA) AS Legnagyobb_ertek\r\n",
                "FROM \r\n",
                "    Szoba\r\n",
                "\r\n",
                "    UNION\r\n",
                "\r\n",
                "SELECT \r\n",
                "    'FEROHELY' AS Oszlop_neve,\r\n",
                "    MIN(FEROHELY) AS Legkisebb_ertek,\r\n",
                "    MAX(FEROHELY) AS Legnagyobb_ertek\r\n",
                "FROM \r\n",
                "    Szoba\r\n",
                "\r\n",
                "    UNION\r\n",
                "\r\n",
                "SELECT \r\n",
                "    'POTAGY' AS Oszlop_neve,\r\n",
                "    MIN(POTAGY) AS Legkisebb_ertek,\r\n",
                "    MAX(POTAGY) AS Legnagyobb_ertek\r\n",
                "FROM \r\n",
                "    Szoba\r\n",
                "\r\n",
                "ORDER BY Legnagyobb_ertek \r\n",
                "\r\n",
                ""
            ],
            "metadata": {
                "azdata_cell_guid": "f5b74c40-bdb7-4923-97d8-9e4a7154c42b",
                "language": "sql"
            },
            "outputs": [
                {
                    "output_type": "display_data",
                    "data": {
                        "text/html": "(5 rows affected)"
                    },
                    "metadata": {}
                },
                {
                    "output_type": "display_data",
                    "data": {
                        "text/html": "Total execution time: 00:00:00.021"
                    },
                    "metadata": {}
                },
                {
                    "output_type": "execute_result",
                    "execution_count": 2,
                    "data": {
                        "application/vnd.dataresource+json": {
                            "schema": {
                                "fields": [
                                    {
                                        "name": "Oszlop_neve"
                                    },
                                    {
                                        "name": "Legkisebb_ertek"
                                    },
                                    {
                                        "name": "Legnagyobb_ertek"
                                    }
                                ]
                            },
                            "data": [
                                {
                                    "Oszlop_neve": "POTAGY",
                                    "Legkisebb_ertek": "0",
                                    "Legnagyobb_ertek": "2"
                                },
                                {
                                    "Oszlop_neve": "FEROHELY",
                                    "Legkisebb_ertek": "1",
                                    "Legnagyobb_ertek": "4"
                                },
                                {
                                    "Oszlop_neve": "SZOBA_SZAMA",
                                    "Legkisebb_ertek": "1",
                                    "Legnagyobb_ertek": "9"
                                },
                                {
                                    "Oszlop_neve": "SZALLAS_FK",
                                    "Legkisebb_ertek": "1",
                                    "Legnagyobb_ertek": "20"
                                },
                                {
                                    "Oszlop_neve": "SZOBA_ID",
                                    "Legkisebb_ertek": "1",
                                    "Legnagyobb_ertek": "294"
                                }
                            ]
                        },
                        "text/html": "<table><tr><th>Oszlop_neve</th><th>Legkisebb_ertek</th><th>Legnagyobb_ertek</th></tr><tr><td>POTAGY</td><td>0</td><td>2</td></tr><tr><td>FEROHELY</td><td>1</td><td>4</td></tr><tr><td>SZOBA_SZAMA</td><td>1</td><td>9</td></tr><tr><td>SZALLAS_FK</td><td>1</td><td>20</td></tr><tr><td>SZOBA_ID</td><td>1</td><td>294</td></tr></table>"
                    },
                    "metadata": {}
                }
            ],
            "execution_count": 2
        },
        {
            "cell_type": "markdown",
            "source": [
                "**3\\. lekérdezés: kiugró értékek meghatározása**"
            ],
            "metadata": {
                "azdata_cell_guid": "1aaa4480-5812-4a28-b601-8006e232f8bc"
            },
            "attachments": {}
        },
        {
            "cell_type": "code",
            "source": [
                "\r\n",
                "SELECT \r\n",
                "    'SZALLAS_FK' AS Oszlop,\r\n",
                "    AVG(SZALLAS_FK) AS Átlag\r\n",
                "    \r\n",
                "FROM \r\n",
                "    Szoba\r\n",
                "\r\n",
                "UNION ALL\r\n",
                "SELECT \r\n",
                "    'FEROHELY' AS Oszlop,\r\n",
                "    AVG(FEROHELY) AS Átlag\r\n",
                "    \r\n",
                "FROM \r\n",
                "    Szoba\r\n",
                "UNION ALL\r\n",
                "SELECT \r\n",
                "    'POTAGY' AS Oszlop,\r\n",
                "    AVG(POTAGY) AS Átlag\r\n",
                "FROM \r\n",
                "    Szoba\r\n",
                "\r\n",
                "\r\n",
                ""
            ],
            "metadata": {
                "azdata_cell_guid": "4687137d-989e-41b4-9601-89cbfe01867b",
                "language": "sql"
            },
            "outputs": [
                {
                    "output_type": "display_data",
                    "data": {
                        "text/html": "(3 rows affected)"
                    },
                    "metadata": {}
                },
                {
                    "output_type": "display_data",
                    "data": {
                        "text/html": "Total execution time: 00:00:00.042"
                    },
                    "metadata": {}
                },
                {
                    "output_type": "execute_result",
                    "metadata": {},
                    "execution_count": 3,
                    "data": {
                        "application/vnd.dataresource+json": {
                            "schema": {
                                "fields": [
                                    {
                                        "name": "Oszlop"
                                    },
                                    {
                                        "name": "Átlag"
                                    }
                                ]
                            },
                            "data": [
                                {
                                    "Oszlop": "SZALLAS_FK",
                                    "Átlag": "10"
                                },
                                {
                                    "Oszlop": "FEROHELY",
                                    "Átlag": "2"
                                },
                                {
                                    "Oszlop": "POTAGY",
                                    "Átlag": "0"
                                }
                            ]
                        },
                        "text/html": [
                            "<table>",
                            "<tr><th>Oszlop</th><th>Átlag</th></tr>",
                            "<tr><td>SZALLAS_FK</td><td>10</td></tr>",
                            "<tr><td>FEROHELY</td><td>2</td></tr>",
                            "<tr><td>POTAGY</td><td>0</td></tr>",
                            "</table>"
                        ]
                    }
                }
            ],
            "execution_count": 3
        },
        {
            "cell_type": "markdown",
            "source": [
                "**4\\. lekérdezés: értékek eloszlása**"
            ],
            "metadata": {
                "azdata_cell_guid": "509b13c7-4e17-494e-ae09-79cd0695489f"
            },
            "attachments": {}
        },
        {
            "cell_type": "code",
            "source": [
                "\r\n",
                "\r\n",
                "\r\n",
                "SELECT \r\n",
                "    'FEROHELY' AS Oszlop,\r\n",
                "    FEROHELY AS Ertek,\r\n",
                "    COUNT(*) AS Elfordulas\r\n",
                "FROM \r\n",
                "    Szoba\r\n",
                "GROUP BY \r\n",
                "    FEROHELY\r\n",
                "ORDER BY \r\n",
                "    FEROHELY;\r\n",
                "\r\n",
                "SELECT \r\n",
                "    'POTAGY' AS Oszlop,\r\n",
                "    POTAGY AS Ertek,\r\n",
                "    COUNT(*) AS Elfordulas\r\n",
                "FROM \r\n",
                "    Szoba\r\n",
                "GROUP BY \r\n",
                "    POTAGY\r\n",
                "ORDER BY \r\n",
                "    POTAGY;\r\n",
                "\r\n",
                "SELECT \r\n",
                "    'KLIMAS' AS Oszlop,\r\n",
                "    KLIMAS AS Ertek,\r\n",
                "    COUNT(*) AS Elfordulas\r\n",
                "FROM \r\n",
                "    Szoba\r\n",
                "GROUP BY \r\n",
                "    KLIMAS\r\n",
                "ORDER BY \r\n",
                "    KLIMAS\r\n",
                ""
            ],
            "metadata": {
                "azdata_cell_guid": "e1d60b87-e0f4-486b-a8a9-aca03955a6d0",
                "language": "sql"
            },
            "outputs": [
                {
                    "output_type": "display_data",
                    "data": {
                        "text/html": "(4 rows affected)"
                    },
                    "metadata": {}
                },
                {
                    "output_type": "display_data",
                    "data": {
                        "text/html": "(3 rows affected)"
                    },
                    "metadata": {}
                },
                {
                    "output_type": "display_data",
                    "data": {
                        "text/html": "(2 rows affected)"
                    },
                    "metadata": {}
                },
                {
                    "output_type": "display_data",
                    "data": {
                        "text/html": "Total execution time: 00:00:00.020"
                    },
                    "metadata": {}
                },
                {
                    "output_type": "execute_result",
                    "execution_count": 4,
                    "data": {
                        "application/vnd.dataresource+json": {
                            "schema": {
                                "fields": [
                                    {
                                        "name": "Oszlop"
                                    },
                                    {
                                        "name": "Ertek"
                                    },
                                    {
                                        "name": "Elfordulas"
                                    }
                                ]
                            },
                            "data": [
                                {
                                    "Oszlop": "FEROHELY",
                                    "Ertek": "1",
                                    "Elfordulas": "2"
                                },
                                {
                                    "Oszlop": "FEROHELY",
                                    "Ertek": "2",
                                    "Elfordulas": "164"
                                },
                                {
                                    "Oszlop": "FEROHELY",
                                    "Ertek": "3",
                                    "Elfordulas": "127"
                                },
                                {
                                    "Oszlop": "FEROHELY",
                                    "Ertek": "4",
                                    "Elfordulas": "1"
                                }
                            ]
                        },
                        "text/html": "<table><tr><th>Oszlop</th><th>Ertek</th><th>Elfordulas</th></tr><tr><td>FEROHELY</td><td>1</td><td>2</td></tr><tr><td>FEROHELY</td><td>2</td><td>164</td></tr><tr><td>FEROHELY</td><td>3</td><td>127</td></tr><tr><td>FEROHELY</td><td>4</td><td>1</td></tr></table>"
                    },
                    "metadata": {}
                },
                {
                    "output_type": "execute_result",
                    "execution_count": 4,
                    "data": {
                        "application/vnd.dataresource+json": {
                            "schema": {
                                "fields": [
                                    {
                                        "name": "Oszlop"
                                    },
                                    {
                                        "name": "Ertek"
                                    },
                                    {
                                        "name": "Elfordulas"
                                    }
                                ]
                            },
                            "data": [
                                {
                                    "Oszlop": "POTAGY",
                                    "Ertek": "0",
                                    "Elfordulas": "146"
                                },
                                {
                                    "Oszlop": "POTAGY",
                                    "Ertek": "1",
                                    "Elfordulas": "118"
                                },
                                {
                                    "Oszlop": "POTAGY",
                                    "Ertek": "2",
                                    "Elfordulas": "30"
                                }
                            ]
                        },
                        "text/html": "<table><tr><th>Oszlop</th><th>Ertek</th><th>Elfordulas</th></tr><tr><td>POTAGY</td><td>0</td><td>146</td></tr><tr><td>POTAGY</td><td>1</td><td>118</td></tr><tr><td>POTAGY</td><td>2</td><td>30</td></tr></table>"
                    },
                    "metadata": {}
                },
                {
                    "output_type": "execute_result",
                    "execution_count": 4,
                    "data": {
                        "application/vnd.dataresource+json": {
                            "schema": {
                                "fields": [
                                    {
                                        "name": "Oszlop"
                                    },
                                    {
                                        "name": "Ertek"
                                    },
                                    {
                                        "name": "Elfordulas"
                                    }
                                ]
                            },
                            "data": [
                                {
                                    "Oszlop": "KLIMAS",
                                    "Ertek": "i",
                                    "Elfordulas": "215"
                                },
                                {
                                    "Oszlop": "KLIMAS",
                                    "Ertek": "n",
                                    "Elfordulas": "79"
                                }
                            ]
                        },
                        "text/html": "<table><tr><th>Oszlop</th><th>Ertek</th><th>Elfordulas</th></tr><tr><td>KLIMAS</td><td>i</td><td>215</td></tr><tr><td>KLIMAS</td><td>n</td><td>79</td></tr></table>"
                    },
                    "metadata": {}
                }
            ],
            "execution_count": 4
        },
        {
            "cell_type": "markdown",
            "source": [
                "**5\\. lekérdezés: szórás**"
            ],
            "metadata": {
                "azdata_cell_guid": "c67cbda7-11a8-4690-9ff6-944c67f52878"
            },
            "attachments": {}
        },
        {
            "cell_type": "code",
            "source": [
                "SELECT \r\n",
                "    'SZALLAS_FK' AS Oszlop,\r\n",
                "    STDEV(SZALLAS_FK) AS Szórás\r\n",
                "    \r\n",
                "FROM \r\n",
                "    Szoba\r\n",
                "\r\n",
                "UNION ALL\r\n",
                "SELECT \r\n",
                "    'FEROHELY' AS Oszlop,\r\n",
                "    STDEV(FEROHELY) AS Szórás\r\n",
                "    \r\n",
                "FROM \r\n",
                "    Szoba\r\n",
                "UNION ALL\r\n",
                "SELECT \r\n",
                "    'POTAGY' AS Oszlop,\r\n",
                "    STDEV(POTAGY) AS Szórás\r\n",
                "FROM \r\n",
                "    Szoba"
            ],
            "metadata": {
                "azdata_cell_guid": "fa3e6130-0354-4467-af9b-2d0a8b223ea4",
                "language": "sql"
            },
            "outputs": [
                {
                    "output_type": "display_data",
                    "data": {
                        "text/html": "(3 rows affected)"
                    },
                    "metadata": {}
                },
                {
                    "output_type": "display_data",
                    "data": {
                        "text/html": "Total execution time: 00:00:00.021"
                    },
                    "metadata": {}
                },
                {
                    "output_type": "execute_result",
                    "metadata": {},
                    "execution_count": 2,
                    "data": {
                        "application/vnd.dataresource+json": {
                            "schema": {
                                "fields": [
                                    {
                                        "name": "Oszlop"
                                    },
                                    {
                                        "name": "Szórás"
                                    }
                                ]
                            },
                            "data": [
                                {
                                    "Oszlop": "SZALLAS_FK",
                                    "Szórás": "4,828412125193567"
                                },
                                {
                                    "Oszlop": "FEROHELY",
                                    "Szórás": "0,5164180113018646"
                                },
                                {
                                    "Oszlop": "POTAGY",
                                    "Szórás": "0,6666898837405099"
                                }
                            ]
                        },
                        "text/html": [
                            "<table>",
                            "<tr><th>Oszlop</th><th>Szórás</th></tr>",
                            "<tr><td>SZALLAS_FK</td><td>4,828412125193567</td></tr>",
                            "<tr><td>FEROHELY</td><td>0,5164180113018646</td></tr>",
                            "<tr><td>POTAGY</td><td>0,6666898837405099</td></tr>",
                            "</table>"
                        ]
                    }
                }
            ],
            "execution_count": 2
        },
        {
            "cell_type": "markdown",
            "source": [
                "**6\\. lekérdezés: egyedi értékek száma**"
            ],
            "metadata": {
                "azdata_cell_guid": "5752a231-dfea-4f28-9912-21c84d745e0c"
            },
            "attachments": {}
        },
        {
            "cell_type": "code",
            "source": [
                "SELECT \r\n",
                "    COUNT(DISTINCT SZOBA_ID) AS szoba_id_egyediértékek_száma,\r\n",
                "    COUNT(DISTINCT SZALLAS_FK) AS szallas_fk_egyediértékek_száma,\r\n",
                "    COUNT(DISTINCT SZOBA_SZAMA) AS szoba_szama_egyediértékek_száma,\r\n",
                "    COUNT(DISTINCT FEROHELY) AS ferohely_egyediértékek_száma,\r\n",
                "    COUNT(DISTINCT POTAGY) AS potagy_egyediértékek_száma,\r\n",
                "    COUNT(DISTINCT KLIMAS) AS klimas_egyediértékek_száma\r\n",
                "FROM \r\n",
                "    SZOBA"
            ],
            "metadata": {
                "azdata_cell_guid": "b8bdb070-87a2-4431-8075-55999b29804a",
                "language": "sql"
            },
            "outputs": [
                {
                    "output_type": "display_data",
                    "data": {
                        "text/html": "(1 row affected)"
                    },
                    "metadata": {}
                },
                {
                    "output_type": "display_data",
                    "data": {
                        "text/html": "Total execution time: 00:00:00.028"
                    },
                    "metadata": {}
                },
                {
                    "output_type": "execute_result",
                    "metadata": {},
                    "execution_count": 5,
                    "data": {
                        "application/vnd.dataresource+json": {
                            "schema": {
                                "fields": [
                                    {
                                        "name": "szoba_id_egyediértékek_száma"
                                    },
                                    {
                                        "name": "szallas_fk_egyediértékek_száma"
                                    },
                                    {
                                        "name": "szoba_szama_egyediértékek_száma"
                                    },
                                    {
                                        "name": "ferohely_egyediértékek_száma"
                                    },
                                    {
                                        "name": "potagy_egyediértékek_száma"
                                    },
                                    {
                                        "name": "klimas_egyediértékek_száma"
                                    }
                                ]
                            },
                            "data": [
                                {
                                    "szoba_id_egyediértékek_száma": "294",
                                    "szallas_fk_egyediértékek_száma": "20",
                                    "szoba_szama_egyediértékek_száma": "50",
                                    "ferohely_egyediértékek_száma": "4",
                                    "potagy_egyediértékek_száma": "3",
                                    "klimas_egyediértékek_száma": "2"
                                }
                            ]
                        },
                        "text/html": [
                            "<table>",
                            "<tr><th>szoba_id_egyediértékek_száma</th><th>szallas_fk_egyediértékek_száma</th><th>szoba_szama_egyediértékek_száma</th><th>ferohely_egyediértékek_száma</th><th>potagy_egyediértékek_száma</th><th>klimas_egyediértékek_száma</th></tr>",
                            "<tr><td>294</td><td>20</td><td>50</td><td>4</td><td>3</td><td>2</td></tr>",
                            "</table>"
                        ]
                    }
                }
            ],
            "execution_count": 5
        },
        {
            "cell_type": "markdown",
            "source": [
                "**7\\. lekérdezés: korreláció vizsgálata a férőhely és pótágyak száma között**"
            ],
            "metadata": {
                "azdata_cell_guid": "13f8c563-f10a-4660-9ced-2f67ae88641e"
            },
            "attachments": {}
        },
        {
            "cell_type": "code",
            "source": [
                "SELECT \r\n",
                "    FEROHELY,\r\n",
                "    POTAGY,\r\n",
                "    COUNT(*) AS count\r\n",
                "FROM \r\n",
                "    SZOBA\r\n",
                "GROUP BY \r\n",
                "    FEROHELY, POTAGY"
            ],
            "metadata": {
                "azdata_cell_guid": "9e942236-6510-49eb-a94b-34188e83fc79",
                "language": "sql"
            },
            "outputs": [
                {
                    "output_type": "display_data",
                    "data": {
                        "text/html": "(9 rows affected)"
                    },
                    "metadata": {}
                },
                {
                    "output_type": "display_data",
                    "data": {
                        "text/html": "Total execution time: 00:00:00.018"
                    },
                    "metadata": {}
                },
                {
                    "output_type": "execute_result",
                    "metadata": {},
                    "execution_count": 6,
                    "data": {
                        "application/vnd.dataresource+json": {
                            "schema": {
                                "fields": [
                                    {
                                        "name": "FEROHELY"
                                    },
                                    {
                                        "name": "POTAGY"
                                    },
                                    {
                                        "name": "count"
                                    }
                                ]
                            },
                            "data": [
                                {
                                    "FEROHELY": "1",
                                    "POTAGY": "0",
                                    "count": "1"
                                },
                                {
                                    "FEROHELY": "2",
                                    "POTAGY": "0",
                                    "count": "72"
                                },
                                {
                                    "FEROHELY": "3",
                                    "POTAGY": "0",
                                    "count": "73"
                                },
                                {
                                    "FEROHELY": "1",
                                    "POTAGY": "1",
                                    "count": "1"
                                },
                                {
                                    "FEROHELY": "2",
                                    "POTAGY": "1",
                                    "count": "75"
                                },
                                {
                                    "FEROHELY": "3",
                                    "POTAGY": "1",
                                    "count": "41"
                                },
                                {
                                    "FEROHELY": "4",
                                    "POTAGY": "1",
                                    "count": "1"
                                },
                                {
                                    "FEROHELY": "2",
                                    "POTAGY": "2",
                                    "count": "17"
                                },
                                {
                                    "FEROHELY": "3",
                                    "POTAGY": "2",
                                    "count": "13"
                                }
                            ]
                        },
                        "text/html": [
                            "<table>",
                            "<tr><th>FEROHELY</th><th>POTAGY</th><th>count</th></tr>",
                            "<tr><td>1</td><td>0</td><td>1</td></tr>",
                            "<tr><td>2</td><td>0</td><td>72</td></tr>",
                            "<tr><td>3</td><td>0</td><td>73</td></tr>",
                            "<tr><td>1</td><td>1</td><td>1</td></tr>",
                            "<tr><td>2</td><td>1</td><td>75</td></tr>",
                            "<tr><td>3</td><td>1</td><td>41</td></tr>",
                            "<tr><td>4</td><td>1</td><td>1</td></tr>",
                            "<tr><td>2</td><td>2</td><td>17</td></tr>",
                            "<tr><td>3</td><td>2</td><td>13</td></tr>",
                            "</table>"
                        ]
                    }
                }
            ],
            "execution_count": 6
        }
    ]
}