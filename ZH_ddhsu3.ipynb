{
    "metadata": {
        "kernelspec": {
            "name": "SQL",
            "display_name": "SQL",
            "language": "sql"
        },
        "language_info": {
            "name": "sql",
            "version": ""
        }
    },
    "nbformat_minor": 2,
    "nbformat": 4,
    "cells": [
        {
            "cell_type": "code",
            "source": [
                "--1. FELADAT\r\n",
                "SELECT COUNT(*) AS 'Foglalások száma'\r\n",
                "FROM Foglalas\r\n",
                "WHERE YEAR(METTOL)=YEAR(MEDDIG) AND MONTH(METTOL)<>MONTH(MEDDIG)"
            ],
            "metadata": {
                "azdata_cell_guid": "95cd4570-4c0b-4137-86d8-cc729c31618b",
                "language": "sql"
            },
            "outputs": [
                {
                    "output_type": "display_data",
                    "data": {
                        "text/html": "(1 row affected)"
                    },
                    "metadata": {}
                },
                {
                    "output_type": "display_data",
                    "data": {
                        "text/html": "Total execution time: 00:00:00.006"
                    },
                    "metadata": {}
                },
                {
                    "output_type": "execute_result",
                    "metadata": {},
                    "execution_count": 9,
                    "data": {
                        "application/vnd.dataresource+json": {
                            "schema": {
                                "fields": [
                                    {
                                        "name": "Foglalások száma"
                                    }
                                ]
                            },
                            "data": [
                                {
                                    "Foglalások száma": "131"
                                }
                            ]
                        },
                        "text/html": [
                            "<table>",
                            "<tr><th>Foglalások száma</th></tr>",
                            "<tr><td>131</td></tr>",
                            "</table>"
                        ]
                    }
                }
            ],
            "execution_count": 9
        },
        {
            "cell_type": "code",
            "source": [
                "--2. FELADAT\r\n",
                "SELECT szh.SZALLAS_ID, szh.SZALLAS_NEV, COUNT(sz.KLIMAS)         \r\n",
                "FROM Szallashely szh JOIN Szoba sz ON  szh.SZALLAS_ID=sz.SZALLAS_FK\r\n",
                "WHERE sz.KLIMAS='i'\r\n",
                "GROUP BY szh.SZALLAS_ID, szh.SZALLAS_NEV"
            ],
            "metadata": {
                "azdata_cell_guid": "30d028ba-3ec5-4a76-a6e1-dc73fd7de5e0",
                "language": "sql"
            },
            "outputs": [
                {
                    "output_type": "display_data",
                    "data": {
                        "text/html": "(20 rows affected)"
                    },
                    "metadata": {}
                },
                {
                    "output_type": "display_data",
                    "data": {
                        "text/html": "Total execution time: 00:00:00.010"
                    },
                    "metadata": {}
                },
                {
                    "output_type": "execute_result",
                    "metadata": {},
                    "execution_count": 14,
                    "data": {
                        "application/vnd.dataresource+json": {
                            "schema": {
                                "fields": [
                                    {
                                        "name": "SZALLAS_ID"
                                    },
                                    {
                                        "name": "SZALLAS_NEV"
                                    },
                                    {
                                        "name": "(No column name)"
                                    }
                                ]
                            },
                            "data": [
                                {
                                    "SZALLAS_ID": "1",
                                    "SZALLAS_NEV": "Sába-Ház",
                                    "(No column name)": "10"
                                },
                                {
                                    "SZALLAS_ID": "2",
                                    "SZALLAS_NEV": "Családi Ház",
                                    "(No column name)": "4"
                                },
                                {
                                    "SZALLAS_ID": "3",
                                    "SZALLAS_NEV": "Fortuna Apartman",
                                    "(No column name)": "5"
                                },
                                {
                                    "SZALLAS_ID": "4",
                                    "SZALLAS_NEV": "Fortuna panzió",
                                    "(No column name)": "12"
                                },
                                {
                                    "SZALLAS_ID": "5",
                                    "SZALLAS_NEV": "Fortuna Panzió",
                                    "(No column name)": "8"
                                },
                                {
                                    "SZALLAS_ID": "6",
                                    "SZALLAS_NEV": "Kentaur Hotel",
                                    "(No column name)": "22"
                                },
                                {
                                    "SZALLAS_ID": "7",
                                    "SZALLAS_NEV": "Szieszta Apartmanház",
                                    "(No column name)": "4"
                                },
                                {
                                    "SZALLAS_ID": "8",
                                    "SZALLAS_NEV": "Hotel Három Hattyú",
                                    "(No column name)": "28"
                                },
                                {
                                    "SZALLAS_ID": "9",
                                    "SZALLAS_NEV": "Jáde panzió",
                                    "(No column name)": "2"
                                },
                                {
                                    "SZALLAS_ID": "10",
                                    "SZALLAS_NEV": "Lagúna Hotel",
                                    "(No column name)": "15"
                                },
                                {
                                    "SZALLAS_ID": "11",
                                    "SZALLAS_NEV": "Partiszél Vendégház",
                                    "(No column name)": "4"
                                },
                                {
                                    "SZALLAS_ID": "12",
                                    "SZALLAS_NEV": "Gold Hotel",
                                    "(No column name)": "42"
                                },
                                {
                                    "SZALLAS_ID": "13",
                                    "SZALLAS_NEV": "Riviéra Panzió",
                                    "(No column name)": "8"
                                },
                                {
                                    "SZALLAS_ID": "14",
                                    "SZALLAS_NEV": "Nyárfás Vendégház",
                                    "(No column name)": "4"
                                },
                                {
                                    "SZALLAS_ID": "15",
                                    "SZALLAS_NEV": "Tímárház Panzió",
                                    "(No column name)": "9"
                                },
                                {
                                    "SZALLAS_ID": "16",
                                    "SZALLAS_NEV": "Bagoly Hotel",
                                    "(No column name)": "14"
                                },
                                {
                                    "SZALLAS_ID": "17",
                                    "SZALLAS_NEV": "Szarvas Hotel",
                                    "(No column name)": "11"
                                },
                                {
                                    "SZALLAS_ID": "18",
                                    "SZALLAS_NEV": "Fortuna Apartman",
                                    "(No column name)": "2"
                                },
                                {
                                    "SZALLAS_ID": "19",
                                    "SZALLAS_NEV": "Nyárfás Vendégház",
                                    "(No column name)": "2"
                                },
                                {
                                    "SZALLAS_ID": "20",
                                    "SZALLAS_NEV": "Kollégium",
                                    "(No column name)": "9"
                                }
                            ]
                        },
                        "text/html": [
                            "<table>",
                            "<tr><th>SZALLAS_ID</th><th>SZALLAS_NEV</th><th>(No column name)</th></tr>",
                            "<tr><td>1</td><td>Sába-Ház</td><td>10</td></tr>",
                            "<tr><td>2</td><td>Családi Ház</td><td>4</td></tr>",
                            "<tr><td>3</td><td>Fortuna Apartman</td><td>5</td></tr>",
                            "<tr><td>4</td><td>Fortuna panzió</td><td>12</td></tr>",
                            "<tr><td>5</td><td>Fortuna Panzió</td><td>8</td></tr>",
                            "<tr><td>6</td><td>Kentaur Hotel</td><td>22</td></tr>",
                            "<tr><td>7</td><td>Szieszta Apartmanház</td><td>4</td></tr>",
                            "<tr><td>8</td><td>Hotel Három Hattyú</td><td>28</td></tr>",
                            "<tr><td>9</td><td>Jáde panzió</td><td>2</td></tr>",
                            "<tr><td>10</td><td>Lagúna Hotel</td><td>15</td></tr>",
                            "<tr><td>11</td><td>Partiszél Vendégház</td><td>4</td></tr>",
                            "<tr><td>12</td><td>Gold Hotel</td><td>42</td></tr>",
                            "<tr><td>13</td><td>Riviéra Panzió</td><td>8</td></tr>",
                            "<tr><td>14</td><td>Nyárfás Vendégház</td><td>4</td></tr>",
                            "<tr><td>15</td><td>Tímárház Panzió</td><td>9</td></tr>",
                            "<tr><td>16</td><td>Bagoly Hotel</td><td>14</td></tr>",
                            "<tr><td>17</td><td>Szarvas Hotel</td><td>11</td></tr>",
                            "<tr><td>18</td><td>Fortuna Apartman</td><td>2</td></tr>",
                            "<tr><td>19</td><td>Nyárfás Vendégház</td><td>2</td></tr>",
                            "<tr><td>20</td><td>Kollégium</td><td>9</td></tr>",
                            "</table>"
                        ]
                    }
                }
            ],
            "execution_count": 14
        },
        {
            "cell_type": "code",
            "source": [
                "--3. FELADAT\r\n",
                "SELECT szh.SZALLAS_NEV AS 'Szálláshely neve', COUNT(f.FOGLALAS_PK) AS 'Foglalásszám (db)'\r\n",
                "FROM Szallashely szh JOIN Szoba sz ON szh.SZALLAS_ID = sz.SZALLAS_FK\r\n",
                "                      LEFT JOIN Foglalas f ON sz.SZOBA_ID = f.SZOBA_FK\r\n",
                "GROUP BY szh.SZALLAS_NEV"
            ],
            "metadata": {
                "azdata_cell_guid": "bc38e388-3de8-4125-aa99-e82eb3c0c1ce",
                "language": "sql",
                "tags": []
            },
            "outputs": [
                {
                    "output_type": "display_data",
                    "data": {
                        "text/html": "Warning: Null value is eliminated by an aggregate or other SET operation."
                    },
                    "metadata": {}
                },
                {
                    "output_type": "display_data",
                    "data": {
                        "text/html": "(17 rows affected)"
                    },
                    "metadata": {}
                },
                {
                    "output_type": "display_data",
                    "data": {
                        "text/html": "Total execution time: 00:00:00.009"
                    },
                    "metadata": {}
                },
                {
                    "output_type": "execute_result",
                    "metadata": {},
                    "execution_count": 18,
                    "data": {
                        "application/vnd.dataresource+json": {
                            "schema": {
                                "fields": [
                                    {
                                        "name": "Szálláshely neve"
                                    },
                                    {
                                        "name": "Foglalásszám (db)"
                                    }
                                ]
                            },
                            "data": [
                                {
                                    "Szálláshely neve": "Szieszta Apartmanház",
                                    "Foglalásszám (db)": "34"
                                },
                                {
                                    "Szálláshely neve": "Fortuna panzió",
                                    "Foglalásszám (db)": "126"
                                },
                                {
                                    "Szálláshely neve": "Nyárfás Vendégház",
                                    "Foglalásszám (db)": "0"
                                },
                                {
                                    "Szálláshely neve": "Kentaur Hotel",
                                    "Foglalásszám (db)": "179"
                                },
                                {
                                    "Szálláshely neve": "Partiszél Vendégház",
                                    "Foglalásszám (db)": "26"
                                },
                                {
                                    "Szálláshely neve": "Riviéra Panzió",
                                    "Foglalásszám (db)": "0"
                                },
                                {
                                    "Szálláshely neve": "Sába-Ház",
                                    "Foglalásszám (db)": "70"
                                },
                                {
                                    "Szálláshely neve": "Tímárház Panzió",
                                    "Foglalásszám (db)": "0"
                                },
                                {
                                    "Szálláshely neve": "Bagoly Hotel",
                                    "Foglalásszám (db)": "0"
                                },
                                {
                                    "Szálláshely neve": "Családi Ház",
                                    "Foglalásszám (db)": "18"
                                },
                                {
                                    "Szálláshely neve": "Fortuna Apartman",
                                    "Foglalásszám (db)": "39"
                                },
                                {
                                    "Szálláshely neve": "Szarvas Hotel",
                                    "Foglalásszám (db)": "0"
                                },
                                {
                                    "Szálláshely neve": "Hotel Három Hattyú",
                                    "Foglalásszám (db)": "204"
                                },
                                {
                                    "Szálláshely neve": "Jáde panzió",
                                    "Foglalásszám (db)": "29"
                                },
                                {
                                    "Szálláshely neve": "Lagúna Hotel",
                                    "Foglalásszám (db)": "123"
                                },
                                {
                                    "Szálláshely neve": "Gold Hotel",
                                    "Foglalásszám (db)": "179"
                                },
                                {
                                    "Szálláshely neve": "Kollégium",
                                    "Foglalásszám (db)": "0"
                                }
                            ]
                        },
                        "text/html": [
                            "<table>",
                            "<tr><th>Szálláshely neve</th><th>Foglalásszám (db)</th></tr>",
                            "<tr><td>Szieszta Apartmanház</td><td>34</td></tr>",
                            "<tr><td>Fortuna panzió</td><td>126</td></tr>",
                            "<tr><td>Nyárfás Vendégház</td><td>0</td></tr>",
                            "<tr><td>Kentaur Hotel</td><td>179</td></tr>",
                            "<tr><td>Partiszél Vendégház</td><td>26</td></tr>",
                            "<tr><td>Riviéra Panzió</td><td>0</td></tr>",
                            "<tr><td>Sába-Ház</td><td>70</td></tr>",
                            "<tr><td>Tímárház Panzió</td><td>0</td></tr>",
                            "<tr><td>Bagoly Hotel</td><td>0</td></tr>",
                            "<tr><td>Családi Ház</td><td>18</td></tr>",
                            "<tr><td>Fortuna Apartman</td><td>39</td></tr>",
                            "<tr><td>Szarvas Hotel</td><td>0</td></tr>",
                            "<tr><td>Hotel Három Hattyú</td><td>204</td></tr>",
                            "<tr><td>Jáde panzió</td><td>29</td></tr>",
                            "<tr><td>Lagúna Hotel</td><td>123</td></tr>",
                            "<tr><td>Gold Hotel</td><td>179</td></tr>",
                            "<tr><td>Kollégium</td><td>0</td></tr>",
                            "</table>"
                        ]
                    }
                }
            ],
            "execution_count": 18
        }
    ]
}